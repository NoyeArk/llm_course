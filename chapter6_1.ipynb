{
  "cells": [
    {
      "cell_type": "markdown",
      "metadata": {
        "id": "EN75zn9i1jf-"
      },
      "source": [
        "# 1 快速 tokenizer 的特殊能力"
      ]
    },
    {
      "cell_type": "markdown",
      "metadata": {
        "id": "pIVHcsEX1vEZ"
      },
      "source": [
        "慢速 tokenizer 是在 🤗 Transformers 库中用 Python 编写的，而快速版本是由 🤗 Tokenizers 提供的，它们是用 Rust 编写的。\n",
        "\n",
        "除了它们的并行化能力之外，快速 tokenizer 的关键功能是它们始终跟踪最终 token 相对于的原始文本的映射——我们称之为 偏移映射（offset mapping） 。这反过来又解锁了如将每个词映射到它生成的 token，或者将原始文本的每个字符映射到它所在的 token 等功能。"
      ]
    },
    {
      "cell_type": "code",
      "execution_count": 1,
      "metadata": {
        "colab": {
          "base_uri": "https://localhost:8080/",
          "height": 362,
          "referenced_widgets": [
            "0ffaa73b81314ec3a02b81bb854270d7",
            "d38fd3f41e7d445da50e079863a8cf3d",
            "c797c59a5c7f466f82904e770dbb4e95",
            "14dae6e8830d4836aff4687f607b8663",
            "976275042e2f43de8176f5f9df10e421",
            "c4b8c201be70445d9a74f5321d717a7f",
            "27492203d43141d3822f04b36e73ec5c",
            "4db57834275f4485b999303f16410498",
            "7d81ef7f89f34878b1f0963e715af097",
            "20b90d189a474439a74bdc71d0313138",
            "9df6c0f1bd0b46f6a9e959135b7b80de",
            "419649034ee84a42b0bad5aaa3a55c37",
            "3972c60b940d4227bcbad20c63303503",
            "906faf38e3e54b35ab291845932a2517",
            "a9ed950252a54852861269f0c0085663",
            "90cfa61c0e6f488fb39fd6320c0a1768",
            "842692dff0594f9985096bd72daf18f2",
            "2c518915ec654e9aa302fea4bf0e7e59",
            "ac6e99ac7be14080a164dd1aa71e1ce8",
            "47b16ea27ce9477f9825f93ca4d56f8e",
            "0a084f8f78444c309490ca312c665dfc",
            "8e7e033296314a938793b277365529c5",
            "3342f1249a2c4182add8020559b72cee",
            "bad06f4066b04bfe80054c5374c97cf4",
            "528d1a1b92d9466a80f4ee9fe756e1a9",
            "dcdbda6bfcf34307b3102beaa80f0fd2",
            "d2727ff7117e477eb4b62f2fbb981479",
            "cebfad988c8e4023bb86b0eef56f3881",
            "52ffcc174240418b8d017f9718d971b7",
            "83ca2fc1ec2b4dd69c1eb883fa909f71",
            "abffa86ae92843ee805bfec35797881c",
            "8b8166da77684146a79d897f2e4db462",
            "52c1f90b094e410fbef646a3fc3a3ecc",
            "00a14341e2464e1f8a87168836c8057d",
            "43242f08c2f1434db1812fda2d6ca4ab",
            "3f79286f7a554a10a711c73854b77747",
            "039efe362d6446a0823c559bcb2ab2c3",
            "9fd98303624b41b8b020cbed9b8a927e",
            "7a9a391ef48d45bbab15649b9397c705",
            "44cfb28d8c6f4e56a06a695b776d3152",
            "1de672bb1ad24f0a97261d7e6bc6846e",
            "47bfefaeb3824a998e54062028338616",
            "d0120cd1fd5e4407bfeb2df1c6d191e3",
            "95058bd86cb54ff79ab96a63a5c38b44"
          ]
        },
        "id": "GSSi513x1eHK",
        "outputId": "def5cac1-4449-4516-fd6b-8354fcc1dc09"
      },
      "outputs": [
        {
          "name": "stderr",
          "output_type": "stream",
          "text": [
            "/usr/local/lib/python3.11/dist-packages/huggingface_hub/utils/_auth.py:94: UserWarning: \n",
            "The secret `HF_TOKEN` does not exist in your Colab secrets.\n",
            "To authenticate with the Hugging Face Hub, create a token in your settings tab (https://huggingface.co/settings/tokens), set it as secret in your Google Colab and restart your session.\n",
            "You will be able to reuse this secret in all of your notebooks.\n",
            "Please note that authentication is recommended but still optional to access public models or datasets.\n",
            "  warnings.warn(\n"
          ]
        },
        {
          "data": {
            "application/vnd.jupyter.widget-view+json": {
              "model_id": "0ffaa73b81314ec3a02b81bb854270d7",
              "version_major": 2,
              "version_minor": 0
            },
            "text/plain": [
              "tokenizer_config.json:   0%|          | 0.00/49.0 [00:00<?, ?B/s]"
            ]
          },
          "metadata": {},
          "output_type": "display_data"
        },
        {
          "data": {
            "application/vnd.jupyter.widget-view+json": {
              "model_id": "419649034ee84a42b0bad5aaa3a55c37",
              "version_major": 2,
              "version_minor": 0
            },
            "text/plain": [
              "config.json:   0%|          | 0.00/570 [00:00<?, ?B/s]"
            ]
          },
          "metadata": {},
          "output_type": "display_data"
        },
        {
          "data": {
            "application/vnd.jupyter.widget-view+json": {
              "model_id": "3342f1249a2c4182add8020559b72cee",
              "version_major": 2,
              "version_minor": 0
            },
            "text/plain": [
              "vocab.txt:   0%|          | 0.00/213k [00:00<?, ?B/s]"
            ]
          },
          "metadata": {},
          "output_type": "display_data"
        },
        {
          "data": {
            "application/vnd.jupyter.widget-view+json": {
              "model_id": "00a14341e2464e1f8a87168836c8057d",
              "version_major": 2,
              "version_minor": 0
            },
            "text/plain": [
              "tokenizer.json:   0%|          | 0.00/436k [00:00<?, ?B/s]"
            ]
          },
          "metadata": {},
          "output_type": "display_data"
        },
        {
          "name": "stdout",
          "output_type": "stream",
          "text": [
            "<class 'transformers.tokenization_utils_base.BatchEncoding'>\n"
          ]
        }
      ],
      "source": [
        "from transformers import AutoTokenizer\n",
        "\n",
        "tokenizer = AutoTokenizer.from_pretrained(\"bert-base-cased\")\n",
        "example = \"My name is Sylvain and I work at Hugging Face in Brooklyn.\"\n",
        "encoding = tokenizer(example)\n",
        "print(type(encoding))"
      ]
    },
    {
      "cell_type": "markdown",
      "metadata": {
        "id": "G2wzgqWJ2GKd"
      },
      "source": [
        "由于 AutoTokenizer 类默认选择快速 tokenizer 因此我们可以使用 BatchEncoding 对象提供的附加方法。我们有两种方法来检查我们的 tokenizer 是快速的还是慢速的。我们可以检查 tokenizer 的 is_fast 属性："
      ]
    },
    {
      "cell_type": "code",
      "execution_count": 2,
      "metadata": {
        "colab": {
          "base_uri": "https://localhost:8080/"
        },
        "id": "u6EunyfS15G8",
        "outputId": "2c5e360b-14d2-4057-cf0e-d189c6f402f7"
      },
      "outputs": [
        {
          "data": {
            "text/plain": [
              "True"
            ]
          },
          "execution_count": 2,
          "metadata": {},
          "output_type": "execute_result"
        }
      ],
      "source": [
        "tokenizer.is_fast"
      ]
    },
    {
      "cell_type": "markdown",
      "metadata": {
        "id": "YHI3R9y02P0B"
      },
      "source": [
        "首先，我们可以直接得到Ttokenization 之前的单词而无需将 ID 转换回单词："
      ]
    },
    {
      "cell_type": "code",
      "execution_count": 3,
      "metadata": {
        "colab": {
          "base_uri": "https://localhost:8080/"
        },
        "id": "xWdrIJ8w2JhA",
        "outputId": "749ca3de-15a2-41c5-e9b4-f67db4da97dd"
      },
      "outputs": [
        {
          "data": {
            "text/plain": [
              "['[CLS]',\n",
              " 'My',\n",
              " 'name',\n",
              " 'is',\n",
              " 'S',\n",
              " '##yl',\n",
              " '##va',\n",
              " '##in',\n",
              " 'and',\n",
              " 'I',\n",
              " 'work',\n",
              " 'at',\n",
              " 'Hu',\n",
              " '##gging',\n",
              " 'Face',\n",
              " 'in',\n",
              " 'Brooklyn',\n",
              " '.',\n",
              " '[SEP]']"
            ]
          },
          "execution_count": 3,
          "metadata": {},
          "output_type": "execute_result"
        }
      ],
      "source": [
        "encoding.tokens()"
      ]
    },
    {
      "cell_type": "markdown",
      "metadata": {
        "id": "OeeFtSEA2Y1s"
      },
      "source": [
        "在这种情况下，索引 5 处的 token 是 ##yl ，它是原始句子中“Sylvain”一词的一部分。我们也可以使用 word_ids() 方法来获取每个 token 原始单词的索引："
      ]
    },
    {
      "cell_type": "code",
      "execution_count": 4,
      "metadata": {
        "colab": {
          "base_uri": "https://localhost:8080/"
        },
        "id": "ZMWZPhip2Rkl",
        "outputId": "13ca52a5-0079-44e3-a0ca-e4f9cb868a43"
      },
      "outputs": [
        {
          "data": {
            "text/plain": [
              "[None, 0, 1, 2, 3, 3, 3, 3, 4, 5, 6, 7, 8, 8, 9, 10, 11, 12, None]"
            ]
          },
          "execution_count": 4,
          "metadata": {},
          "output_type": "execute_result"
        }
      ],
      "source": [
        "encoding.word_ids()"
      ]
    },
    {
      "cell_type": "markdown",
      "metadata": {
        "id": "DQ5YSyVT2oEt"
      },
      "source": [
        "我们可以看到 tokenizer 的特殊 token [CLS] 和 [SEP] 被映射到 None ，然后每个 token 都映射到它来源的单词。这对于确定一个 token 是否在单词的开头或两个 token 是否在同一个单词中特别有用。\n",
        "\n",
        "词的概念是复杂的。例如，“I’ll”（“I will”的缩写）算作一个词还是两个词？这实际上取决于 tokenizer 和它采用的预分词操作。有些 tokenizer 只在空格处分割，所以它们会把这个看作是一个词。有些其他 tokenizer 在空格的基础之上还使用标点，所以会认为它是两个词。"
      ]
    },
    {
      "cell_type": "markdown",
      "metadata": {
        "id": "BaBtIqMu2xHW"
      },
      "source": [
        "✏️ 试试看！从 bert base cased 和 roberta base checkpoint 创建一个 tokenizer 并用它们对“81s”进行分词。你观察到了什么？这些词的 ID 是什么？"
      ]
    },
    {
      "cell_type": "code",
      "execution_count": 6,
      "metadata": {
        "colab": {
          "base_uri": "https://localhost:8080/",
          "height": 249,
          "referenced_widgets": [
            "49d00ad0ae81488ca94700f35d4f9972",
            "fda39625c5ea44f1a8b2a0b840d3d128",
            "050442df698f488a8bce44bd1d951262",
            "a6e4c9795e4e43e5b1d47827c0ef82c8",
            "f4ce4a4388c746849887b558eb1de8d3",
            "a0a7bbbf40e2480da014104afe7fa3d5",
            "023a64b12266490381fd8773e4079a45",
            "e4a9ed7bb32f4624a938b62a59e17b67",
            "9894c44faadd4f3d84b12011244bb838",
            "52a9039673c949af8bb36c1b10e17ac6",
            "b9b89b1845bf4a67abb29b83fa5d7287",
            "08cbbcb4d5ee4374abc6f8d102187b0f",
            "1b3c57d60e044eaa9c9b2770a3b6bc43",
            "d218e95902754a6d8b94383cbb17bba4",
            "3bf1fd2930d148929b6b20e35056d834",
            "57189bb7a0504ae1b42f48de4b2b5384",
            "3b1964de9e4043358e0cf6cbd9da81c5",
            "d36ecef34bdc4430b8f21eb60a01c95a",
            "dd0eea488b214f43b21536d4ac2e983a",
            "54f0f6c02f5744e69b4a38ca3a667f82",
            "85653b95f81c403d9b92be73d65348f0",
            "7c1f6de96ed14105a7db48a90b368cb6",
            "82d6c512c35440da89765275573f527a",
            "cc58326b3fad4ca8b7ff6c6941b1ca20",
            "cd382a8c6d9249cb9d7de1ec517c08a4",
            "87dac222b3134416b281668086e4e5a4",
            "dd0574e9863641dfb0b0c4902176837c",
            "86e189431269423c97ee6c282a9e0a29",
            "837a2f4c49564e7faf958145c16af07e",
            "30c1e8bb61944da1a6fab152b45dea7f",
            "1f5cdd82b81f4282b69e3c7965616d9f",
            "22586ee9f7304827b3431a8264f7e16d",
            "c7e948e2df1c493e922d3121e8cf3e09",
            "212c943003b748a6b25ee58f6ec76159",
            "a6c0e3ab2e2f45f1a152e4036c2f2433",
            "cda44c348efe4b1cb994a79b59a74737",
            "b00f04e5dd7e4e42a6691fc21c712d68",
            "752746a266b74718a1ec6990cb42ec67",
            "11d235d753304ef5980c436230fcd4a3",
            "59f8f5ffdbc9432ea95abb88b62bf818",
            "60a63307d37d4403854fe0c09aa89efc",
            "a4acc8863d144413b491673223cb6102",
            "0be9ee05304f478389f4bf511cfb7674",
            "45289eb9c1604edb9ebd135c77365694",
            "7908dbe6a6c74e74b18189cf4e6e028b",
            "e25ea157de5545ad9e85cf9efc89411b",
            "c6bfbbd6afcc4c9ebdd8d75229b34170",
            "6c05cac3062d472fbff3b7b5ce9543d5",
            "9108f58135654cb1b077805423efcffa",
            "23e49ee6730647c99026b557a2e5a27b",
            "0e617c5e7a544bb0b2a3b18ad7c76b17",
            "a9fc41bb6223425cb01fd117b1f83804",
            "a17a7ab6032a4bc688f078214a089580",
            "29d982b8c0d148ed9e5b5642dcd15051",
            "d123caa9355b4bc081ed8b142528045c"
          ]
        },
        "id": "wt-Jli-92azT",
        "outputId": "5c3c21d2-e96c-4d8f-d011-71bde64736dd"
      },
      "outputs": [
        {
          "data": {
            "application/vnd.jupyter.widget-view+json": {
              "model_id": "49d00ad0ae81488ca94700f35d4f9972",
              "version_major": 2,
              "version_minor": 0
            },
            "text/plain": [
              "tokenizer_config.json:   0%|          | 0.00/25.0 [00:00<?, ?B/s]"
            ]
          },
          "metadata": {},
          "output_type": "display_data"
        },
        {
          "data": {
            "application/vnd.jupyter.widget-view+json": {
              "model_id": "08cbbcb4d5ee4374abc6f8d102187b0f",
              "version_major": 2,
              "version_minor": 0
            },
            "text/plain": [
              "config.json:   0%|          | 0.00/481 [00:00<?, ?B/s]"
            ]
          },
          "metadata": {},
          "output_type": "display_data"
        },
        {
          "data": {
            "application/vnd.jupyter.widget-view+json": {
              "model_id": "82d6c512c35440da89765275573f527a",
              "version_major": 2,
              "version_minor": 0
            },
            "text/plain": [
              "vocab.json:   0%|          | 0.00/899k [00:00<?, ?B/s]"
            ]
          },
          "metadata": {},
          "output_type": "display_data"
        },
        {
          "data": {
            "application/vnd.jupyter.widget-view+json": {
              "model_id": "212c943003b748a6b25ee58f6ec76159",
              "version_major": 2,
              "version_minor": 0
            },
            "text/plain": [
              "merges.txt:   0%|          | 0.00/456k [00:00<?, ?B/s]"
            ]
          },
          "metadata": {},
          "output_type": "display_data"
        },
        {
          "data": {
            "application/vnd.jupyter.widget-view+json": {
              "model_id": "7908dbe6a6c74e74b18189cf4e6e028b",
              "version_major": 2,
              "version_minor": 0
            },
            "text/plain": [
              "tokenizer.json:   0%|          | 0.00/1.36M [00:00<?, ?B/s]"
            ]
          },
          "metadata": {},
          "output_type": "display_data"
        }
      ],
      "source": [
        "bert_tokenizer = AutoTokenizer.from_pretrained(\"bert-base-cased\")\n",
        "roberta_tokenizer = AutoTokenizer.from_pretrained(\"roberta-base\")\n",
        "\n",
        "txt = \"81s\"\n",
        "bert_encoding = bert_tokenizer(txt)\n",
        "roberta_encoding = roberta_tokenizer(txt)"
      ]
    },
    {
      "cell_type": "code",
      "execution_count": 8,
      "metadata": {
        "colab": {
          "base_uri": "https://localhost:8080/"
        },
        "id": "oHm_91_j3Ivh",
        "outputId": "ab57ae6f-033e-44db-d59c-edb410133fcd"
      },
      "outputs": [
        {
          "data": {
            "text/plain": [
              "(['[CLS]', '81', '##s', '[SEP]'], ['<s>', '81', 's', '</s>'])"
            ]
          },
          "execution_count": 8,
          "metadata": {},
          "output_type": "execute_result"
        }
      ],
      "source": [
        "bert_encoding.tokens(), roberta_encoding.tokens()"
      ]
    },
    {
      "cell_type": "markdown",
      "metadata": {
        "id": "RLn83i8s3pU9"
      },
      "source": [
        "有以下区别：\n",
        "\n",
        "1. 特殊标记：\n",
        "\n",
        "  - BERT 使用 `[CLS]`（序列开始）和 `[SEP]`（序列结束）作为特殊标记\n",
        "  - RoBERTa 使用 `<s>`（序列开始）和 `</s>`（序列结束）\n",
        "\n",
        "2. 分词粒度差异：\n",
        "  - BERT 的 WordPiece 算法在处理“81s”时，认为 s 是 81 的后缀（因此加 ##）\n",
        "  - RoBERTa 的 BPE 算法直接将 s 视为独立字符，处理更简洁"
      ]
    },
    {
      "cell_type": "markdown",
      "metadata": {
        "id": "zCGr21km387k"
      },
      "source": [
        "同样，我们还有一个 sentence_ids() 方法，可以用它把一个 token 映射到它原始的句子（尽管在这种情况下，tokenizer 返回的 token_type_ids也可以为我们提供相同的信息）。\n",
        "\n",
        "最后，我们可以通过 word_to_chars() 或 token_to_chars() 和 char_to_word() 或 char_to_token() 方法，将任何词或 token 映射到原始文本中的字符，反之亦然。例如， word_ids() 方法告诉我们 ##yl 是索引 3 处单词的一部分，但它是句子中的哪个单词？我们可以这样找出来："
      ]
    },
    {
      "cell_type": "code",
      "execution_count": 13,
      "metadata": {
        "colab": {
          "base_uri": "https://localhost:8080/",
          "height": 35
        },
        "id": "ZMTHYLV64Lue",
        "outputId": "4787585f-f48b-4959-f755-c204660ce80a"
      },
      "outputs": [
        {
          "data": {
            "application/vnd.google.colaboratory.intrinsic+json": {
              "type": "string"
            },
            "text/plain": [
              "'Sylvain'"
            ]
          },
          "execution_count": 13,
          "metadata": {},
          "output_type": "execute_result"
        }
      ],
      "source": [
        "st, ed = encoding.word_to_chars(3)\n",
        "example[st:ed]"
      ]
    },
    {
      "cell_type": "code",
      "execution_count": 17,
      "metadata": {
        "colab": {
          "base_uri": "https://localhost:8080/",
          "height": 35
        },
        "id": "pc29oNow4gPX",
        "outputId": "83b10be2-3879-4473-e13f-a71e471a02de"
      },
      "outputs": [
        {
          "data": {
            "application/vnd.google.colaboratory.intrinsic+json": {
              "type": "string"
            },
            "text/plain": [
              "'is'"
            ]
          },
          "execution_count": 17,
          "metadata": {},
          "output_type": "execute_result"
        }
      ],
      "source": [
        "st, ed = encoding.token_to_chars(3)\n",
        "example[st:ed]"
      ]
    },
    {
      "cell_type": "code",
      "execution_count": 22,
      "metadata": {
        "colab": {
          "base_uri": "https://localhost:8080/"
        },
        "id": "S_5ocIKC3XLl",
        "outputId": "dbd25efb-4b15-436d-db78-2bb56d36cfc2"
      },
      "outputs": [
        {
          "data": {
            "text/plain": [
              "0"
            ]
          },
          "execution_count": 22,
          "metadata": {},
          "output_type": "execute_result"
        }
      ],
      "source": [
        "encoding.char_to_word(1)"
      ]
    },
    {
      "cell_type": "markdown",
      "metadata": {
        "id": "4FPJfPkK5Xrx"
      },
      "source": [
        "---\n",
        "\n",
        "# 2 token-classification 管道内部流程"
      ]
    },
    {
      "cell_type": "markdown",
      "metadata": {
        "id": "qOFBjd745gZ-"
      },
      "source": [
        "在 第一章 我们初次尝试实现命名实体识别（NER）——该任务是确定文本的哪些部分对应于人名、地名或组织名等实体——当时是使用🤗 Transformers 的 pipeline() 函数实现的。\n",
        "\n",
        "然后，在 第二章 ，我们看到一个管道如何将获取原始文本到预测结果的三个阶段整合在一起：tokenize、通过模型处理输入和后处理。\n",
        "\n",
        "token-classification 管道中的前两步与其他任何管道中的步骤相同。"
      ]
    },
    {
      "cell_type": "markdown",
      "metadata": {
        "id": "nUSWoLR65kWC"
      },
      "source": [
        "## 2.1 使用管道获得基本结果"
      ]
    },
    {
      "cell_type": "code",
      "execution_count": 23,
      "metadata": {
        "colab": {
          "base_uri": "https://localhost:8080/",
          "height": 1000,
          "referenced_widgets": [
            "e3961c41581a4b1aa173bbde974e5fcd",
            "70761c5f3ce949a5a0ec8945a73ecd6e",
            "403664b857284a5c8ef2066b5768553c",
            "4f808f32530b46fd85dbb27b8a4c4ded",
            "ba4106a129a049c286bb9a4150022a23",
            "03ed85852be047beb58b71a5551cc20f",
            "9b0206682e5e4b6a998635affbddcc98",
            "e28af79054984bba9897c8730dd28a13",
            "816145e860054066a3f870590a75f90e",
            "448600ecd2874d28b262c10d3de72e8a",
            "3da919ccec8d4270a3783eaff0e8ad07",
            "bc4394876e5546d49a29f5f790d24242",
            "6f00de9b799a4f91a19b32e3b66ad365",
            "ef623be4cbbb4627bcbbb4549e5df574",
            "cdc389ce89644ed8aee03ff23b888744",
            "014362a5a3234d42a8311c0ee54074a4",
            "f7e4e695080d49bbaa08e23ca550cdca",
            "75660a05f0844530b94d7415177a4825",
            "9c302257085b47aba7fe66c9e6d91a22",
            "8478a62fe4bc499c94548b68755d1f78",
            "93c2a9951aa34e058cf572db89ffd327",
            "94a15574f0fe416a8824f26ab1d076e8",
            "33713035dba5483f8651c96bfb3ae594",
            "510fb35641e246ffb033855382708604",
            "2beea3ff40044d08807264a3d5dc2210",
            "72abf97e99a34862917a3050d88c2185",
            "a60ee8f9d7a241e9a0fdcf1807599411",
            "51229fa956a049c79efb50461277edf6",
            "aac6a53964bd4eeeb9e4f7bf11db3434",
            "dfc6edb171334a478c4e31cacac1aedf",
            "ba0d1033cc7844f488b647f65e8f7fba",
            "4fe8fdc6c01f4eb382ee5ea03b136f2e",
            "7ed2d24ba903457ab36d7ccb2cdba997",
            "bea4e7fc5d0e42928bf2cf07fbe83024",
            "865abb4efd7d4e8bb810feab66b852c7",
            "037ed4db61594840954087dd07adb21d",
            "98f337b1830f451b9f8effd294f59642",
            "41dca53141254cbda2f3f718b1e4cb2a",
            "88282aaed2374983bed35ee66a197091",
            "9e8997505f2647a3aa0238071822b391",
            "61f46c3d87d545468cf9c51b59ca1633",
            "a310f4e279ab40c1bd1bd5e6750c9a03",
            "8de74f4d417b49b7a878c348af399f5f",
            "faab3da741664ea68370ab34362826d1"
          ]
        },
        "id": "ULD7Y0lr3Tr2",
        "outputId": "c30a705d-f04f-44e5-e11c-805c8d9bfe7a"
      },
      "outputs": [
        {
          "name": "stderr",
          "output_type": "stream",
          "text": [
            "No model was supplied, defaulted to dbmdz/bert-large-cased-finetuned-conll03-english and revision 4c53496 (https://huggingface.co/dbmdz/bert-large-cased-finetuned-conll03-english).\n",
            "Using a pipeline without specifying a model name and revision in production is not recommended.\n"
          ]
        },
        {
          "data": {
            "application/vnd.jupyter.widget-view+json": {
              "model_id": "e3961c41581a4b1aa173bbde974e5fcd",
              "version_major": 2,
              "version_minor": 0
            },
            "text/plain": [
              "config.json:   0%|          | 0.00/998 [00:00<?, ?B/s]"
            ]
          },
          "metadata": {},
          "output_type": "display_data"
        },
        {
          "name": "stderr",
          "output_type": "stream",
          "text": [
            "Xet Storage is enabled for this repo, but the 'hf_xet' package is not installed. Falling back to regular HTTP download. For better performance, install the package with: `pip install huggingface_hub[hf_xet]` or `pip install hf_xet`\n",
            "WARNING:huggingface_hub.file_download:Xet Storage is enabled for this repo, but the 'hf_xet' package is not installed. Falling back to regular HTTP download. For better performance, install the package with: `pip install huggingface_hub[hf_xet]` or `pip install hf_xet`\n"
          ]
        },
        {
          "data": {
            "application/vnd.jupyter.widget-view+json": {
              "model_id": "bc4394876e5546d49a29f5f790d24242",
              "version_major": 2,
              "version_minor": 0
            },
            "text/plain": [
              "model.safetensors:   0%|          | 0.00/1.33G [00:00<?, ?B/s]"
            ]
          },
          "metadata": {},
          "output_type": "display_data"
        },
        {
          "name": "stderr",
          "output_type": "stream",
          "text": [
            "Some weights of the model checkpoint at dbmdz/bert-large-cased-finetuned-conll03-english were not used when initializing BertForTokenClassification: ['bert.pooler.dense.bias', 'bert.pooler.dense.weight']\n",
            "- This IS expected if you are initializing BertForTokenClassification from the checkpoint of a model trained on another task or with another architecture (e.g. initializing a BertForSequenceClassification model from a BertForPreTraining model).\n",
            "- This IS NOT expected if you are initializing BertForTokenClassification from the checkpoint of a model that you expect to be exactly identical (initializing a BertForSequenceClassification model from a BertForSequenceClassification model).\n"
          ]
        },
        {
          "data": {
            "application/vnd.jupyter.widget-view+json": {
              "model_id": "33713035dba5483f8651c96bfb3ae594",
              "version_major": 2,
              "version_minor": 0
            },
            "text/plain": [
              "tokenizer_config.json:   0%|          | 0.00/60.0 [00:00<?, ?B/s]"
            ]
          },
          "metadata": {},
          "output_type": "display_data"
        },
        {
          "data": {
            "application/vnd.jupyter.widget-view+json": {
              "model_id": "bea4e7fc5d0e42928bf2cf07fbe83024",
              "version_major": 2,
              "version_minor": 0
            },
            "text/plain": [
              "vocab.txt:   0%|          | 0.00/213k [00:00<?, ?B/s]"
            ]
          },
          "metadata": {},
          "output_type": "display_data"
        },
        {
          "name": "stderr",
          "output_type": "stream",
          "text": [
            "Device set to use cpu\n"
          ]
        },
        {
          "data": {
            "text/plain": [
              "[{'entity': 'I-PER',\n",
              "  'score': np.float32(0.99938285),\n",
              "  'index': 4,\n",
              "  'word': 'S',\n",
              "  'start': 11,\n",
              "  'end': 12},\n",
              " {'entity': 'I-PER',\n",
              "  'score': np.float32(0.99815494),\n",
              "  'index': 5,\n",
              "  'word': '##yl',\n",
              "  'start': 12,\n",
              "  'end': 14},\n",
              " {'entity': 'I-PER',\n",
              "  'score': np.float32(0.99590707),\n",
              "  'index': 6,\n",
              "  'word': '##va',\n",
              "  'start': 14,\n",
              "  'end': 16},\n",
              " {'entity': 'I-PER',\n",
              "  'score': np.float32(0.99923277),\n",
              "  'index': 7,\n",
              "  'word': '##in',\n",
              "  'start': 16,\n",
              "  'end': 18},\n",
              " {'entity': 'I-ORG',\n",
              "  'score': np.float32(0.9738931),\n",
              "  'index': 12,\n",
              "  'word': 'Hu',\n",
              "  'start': 33,\n",
              "  'end': 35},\n",
              " {'entity': 'I-ORG',\n",
              "  'score': np.float32(0.976115),\n",
              "  'index': 13,\n",
              "  'word': '##gging',\n",
              "  'start': 35,\n",
              "  'end': 40},\n",
              " {'entity': 'I-ORG',\n",
              "  'score': np.float32(0.9887976),\n",
              "  'index': 14,\n",
              "  'word': 'Face',\n",
              "  'start': 41,\n",
              "  'end': 45},\n",
              " {'entity': 'I-LOC',\n",
              "  'score': np.float32(0.9932106),\n",
              "  'index': 16,\n",
              "  'word': 'Brooklyn',\n",
              "  'start': 49,\n",
              "  'end': 57}]"
            ]
          },
          "execution_count": 23,
          "metadata": {},
          "output_type": "execute_result"
        }
      ],
      "source": [
        "from transformers import pipeline\n",
        "token_classifier = pipeline(\"token-classification\")\n",
        "token_classifier(\"My name is Sylvain and I work at Hugging Face in Brooklyn.\")"
      ]
    },
    {
      "cell_type": "markdown",
      "metadata": {
        "id": "4qFNnhec5zWz"
      },
      "source": [
        "模型正确地识别出：“Sylvain”是一个人，“Hugging Face”是一个组织，以及“Brooklyn”是一个地点。我们也可以让管道将同一实体的 token 组合在一起："
      ]
    },
    {
      "cell_type": "code",
      "execution_count": 24,
      "metadata": {
        "colab": {
          "base_uri": "https://localhost:8080/"
        },
        "id": "cctU452W5ZDA",
        "outputId": "095d4e21-6baa-4ab9-b688-8993bef5d0f1"
      },
      "outputs": [
        {
          "name": "stderr",
          "output_type": "stream",
          "text": [
            "No model was supplied, defaulted to dbmdz/bert-large-cased-finetuned-conll03-english and revision 4c53496 (https://huggingface.co/dbmdz/bert-large-cased-finetuned-conll03-english).\n",
            "Using a pipeline without specifying a model name and revision in production is not recommended.\n",
            "Some weights of the model checkpoint at dbmdz/bert-large-cased-finetuned-conll03-english were not used when initializing BertForTokenClassification: ['bert.pooler.dense.bias', 'bert.pooler.dense.weight']\n",
            "- This IS expected if you are initializing BertForTokenClassification from the checkpoint of a model trained on another task or with another architecture (e.g. initializing a BertForSequenceClassification model from a BertForPreTraining model).\n",
            "- This IS NOT expected if you are initializing BertForTokenClassification from the checkpoint of a model that you expect to be exactly identical (initializing a BertForSequenceClassification model from a BertForSequenceClassification model).\n",
            "Device set to use cpu\n"
          ]
        },
        {
          "data": {
            "text/plain": [
              "[{'entity_group': 'PER',\n",
              "  'score': np.float32(0.9981694),\n",
              "  'word': 'Sylvain',\n",
              "  'start': 11,\n",
              "  'end': 18},\n",
              " {'entity_group': 'ORG',\n",
              "  'score': np.float32(0.9796019),\n",
              "  'word': 'Hugging Face',\n",
              "  'start': 33,\n",
              "  'end': 45},\n",
              " {'entity_group': 'LOC',\n",
              "  'score': np.float32(0.9932106),\n",
              "  'word': 'Brooklyn',\n",
              "  'start': 49,\n",
              "  'end': 57}]"
            ]
          },
          "execution_count": 24,
          "metadata": {},
          "output_type": "execute_result"
        }
      ],
      "source": [
        "token_classifier = pipeline(\"token-classification\", aggregation_strategy=\"simple\")\n",
        "token_classifier(\"My name is Sylvain and I work at Hugging Face in Brooklyn.\")"
      ]
    },
    {
      "cell_type": "markdown",
      "metadata": {
        "id": "l39cSv_V6Heg"
      },
      "source": [
        "选择不同的 aggregation_strategy 可以更改每个分组实体计算的策略。对于 simple 策略，最终的分数就是给定实体中每个 token 的分数的平均值：例如，“Sylvain”的分数是我们在前一个例子中看到的 token S ， ##yl ， ##va ，和 ##in 的分数的平均值。其他可用的策略包括：\n",
        "\n",
        "- “first”，其中每个实体的分数是该实体的第一个 token 的分数（因此对于“Sylvain”，分数将是 0.993828，这是“S”的分数）\n",
        "- “max”，其中每个实体的分数是该实体中 token 的最大分数（因此对于“Hugging Face”，分数将是 0.98879766，即“Face”的分数）\n",
        "- “average”，其中每个实体的分数是组成该实体的单词分数的平均值（因此对于“Sylvain”，与“simple”策略相同，但“Hugging Face”的得分将是 0.9819，这是“Hugging”的分数 0.975 和“Face”的分数 0.98879 的平均值）\n",
        "\n",
        "现在让我们看看如何在不使用 pipeline() 函数的情况下获得这些结果！"
      ]
    },
    {
      "cell_type": "markdown",
      "metadata": {
        "id": "CrtsHCOI8jaC"
      },
      "source": [
        "## 2.2 从输入到预测\n",
        "\n",
        "首先，我们需要将我们的输入进行 tokenization 并将其传递给模型。这个过程与 第二章 中的方法完全相同；我们使用 AutoXxx 类实例化 tokenizer 和模型，然后将我们的示例传递给它们："
      ]
    },
    {
      "cell_type": "code",
      "execution_count": 25,
      "metadata": {
        "colab": {
          "base_uri": "https://localhost:8080/"
        },
        "id": "SPJkKnk86DhE",
        "outputId": "5344d2a2-d546-4d6d-bcde-cc907f5fff7c"
      },
      "outputs": [
        {
          "name": "stderr",
          "output_type": "stream",
          "text": [
            "Some weights of the model checkpoint at dbmdz/bert-large-cased-finetuned-conll03-english were not used when initializing BertForTokenClassification: ['bert.pooler.dense.bias', 'bert.pooler.dense.weight']\n",
            "- This IS expected if you are initializing BertForTokenClassification from the checkpoint of a model trained on another task or with another architecture (e.g. initializing a BertForSequenceClassification model from a BertForPreTraining model).\n",
            "- This IS NOT expected if you are initializing BertForTokenClassification from the checkpoint of a model that you expect to be exactly identical (initializing a BertForSequenceClassification model from a BertForSequenceClassification model).\n"
          ]
        }
      ],
      "source": [
        "from transformers import AutoTokenizer, AutoModelForTokenClassification\n",
        "\n",
        "model_checkpoint = \"dbmdz/bert-large-cased-finetuned-conll03-english\"\n",
        "tokenizer = AutoTokenizer.from_pretrained(model_checkpoint)\n",
        "model = AutoModelForTokenClassification.from_pretrained(model_checkpoint)\n",
        "\n",
        "example = \"My name is Sylvain and I work at Hugging Face in Brooklyn.\"\n",
        "inputs = tokenizer(example, return_tensors='pt')\n",
        "outputs = model(**inputs)"
      ]
    },
    {
      "cell_type": "code",
      "execution_count": 28,
      "metadata": {
        "colab": {
          "base_uri": "https://localhost:8080/"
        },
        "id": "eKxRbdZJ9JOw",
        "outputId": "7b376440-ab24-4933-9143-c802aa070df3"
      },
      "outputs": [
        {
          "data": {
            "text/plain": [
              "19"
            ]
          },
          "execution_count": 28,
          "metadata": {},
          "output_type": "execute_result"
        }
      ],
      "source": [
        "len(inputs.tokens())"
      ]
    },
    {
      "cell_type": "code",
      "execution_count": 26,
      "metadata": {
        "colab": {
          "base_uri": "https://localhost:8080/"
        },
        "id": "m8mgO_JI9B5E",
        "outputId": "c46238d0-64a7-4024-df1a-351ffa9a4a74"
      },
      "outputs": [
        {
          "name": "stdout",
          "output_type": "stream",
          "text": [
            "torch.Size([1, 19])\n",
            "torch.Size([1, 19, 9])\n"
          ]
        }
      ],
      "source": [
        "print(inputs[\"input_ids\"].shape)\n",
        "print(outputs.logits.shape)"
      ]
    },
    {
      "cell_type": "markdown",
      "metadata": {
        "id": "Qy9a9C509OSX"
      },
      "source": [
        "我们有一个包含 19 个 token 序列的 batch 和有 9 个不同的标签类型，所以模型的输出形状为 1 x 19 x 9。像文本分类管道一样，我们使用 softmax 函数将这些 logits 转化为概率，并取 argmax 来得到预测（请注意，我们可以在 logits 上直接算取 argmax，因为 softmax 不会改变顺序）："
      ]
    },
    {
      "cell_type": "code",
      "execution_count": 36,
      "metadata": {
        "colab": {
          "base_uri": "https://localhost:8080/"
        },
        "id": "qr7DCa849F9I",
        "outputId": "f6191142-1d7c-4ff2-82e3-8131b31c4c0c"
      },
      "outputs": [
        {
          "data": {
            "text/plain": [
              "[0, 0, 0, 0, 4, 4, 4, 4, 0, 0, 0, 0, 6, 6, 6, 0, 8, 0, 0]"
            ]
          },
          "execution_count": 36,
          "metadata": {},
          "output_type": "execute_result"
        }
      ],
      "source": [
        "import torch\n",
        "probabilities = torch.nn.functional.softmax(outputs.logits, dim=-1)[0].tolist()\n",
        "predictions = outputs.logits.argmax(dim=-1)[0].tolist()\n",
        "predictions"
      ]
    },
    {
      "cell_type": "markdown",
      "metadata": {
        "id": "AyWsNTOe9yTJ"
      },
      "source": [
        "model.config.id2label 属性包含索引到标签的映射，我们可以用它来将预测转化为标签："
      ]
    },
    {
      "cell_type": "code",
      "execution_count": 37,
      "metadata": {
        "colab": {
          "base_uri": "https://localhost:8080/"
        },
        "id": "U-TshC9V9fBB",
        "outputId": "39674688-24f3-4c5f-83e9-99903a00bdb6"
      },
      "outputs": [
        {
          "data": {
            "text/plain": [
              "{0: 'O',\n",
              " 1: 'B-MISC',\n",
              " 2: 'I-MISC',\n",
              " 3: 'B-PER',\n",
              " 4: 'I-PER',\n",
              " 5: 'B-ORG',\n",
              " 6: 'I-ORG',\n",
              " 7: 'B-LOC',\n",
              " 8: 'I-LOC'}"
            ]
          },
          "execution_count": 37,
          "metadata": {},
          "output_type": "execute_result"
        }
      ],
      "source": [
        "model.config.id2label"
      ]
    },
    {
      "cell_type": "markdown",
      "metadata": {
        "id": "ifwyEhUI-D31"
      },
      "source": [
        "如前所述，这里有 9 个标签： O 是不在任何实体中的 token 的标签（它代表“outside”），然后我们为每种类型的实体（杂项、人员、组织和位置）提供两个标签：标签 B-XXX 表示 token 在实体 XXX 的开头，标签 I-XXX 表示 token 在实体 XXX 内部。\n",
        "\n",
        "例如，在当前的例子，我们期望我们的模型将 token S 分类为 B-PER （人物实体的开始），并且将 token ##yl ， ##va 和 ##in 分类为 I-PER （人物实体的内部）"
      ]
    },
    {
      "cell_type": "markdown",
      "metadata": {
        "id": "9dDiR0Xz-I0k"
      },
      "source": [
        "你可能会觉得上面模型的输出是错误的，因为它给所有这四个 token 都标上了 I-PER 标签，但这样理解并不完全正确。对于 B- 和 I- 标签，实际上有两种格式：IOB1 和 IOB2。\n",
        "\n",
        "我们介绍的是 IOB2 格式（如下图所示的粉色），而在 IOB1 格式（蓝色）中，以 B- 开头的标签只用于分隔同一类型的两个相邻实体。我们正在使用的模型在使用该格式的数据集上进行了微调，这就是为什么它将 S token 标上了 I-PER 标签的原因。"
      ]
    },
    {
      "cell_type": "markdown",
      "metadata": {
        "id": "AKsa4YEa-MrU"
      },
      "source": [
        "![image.png](data:image/png;base64,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)"
      ]
    },
    {
      "cell_type": "markdown",
      "metadata": {
        "id": "IzsHiAjN-hoV"
      },
      "source": [
        "有了这个映射字典，我们就可以几乎完全复现管道的结果 —— 我们只需要获取每个没有被分类为 O 的 token 的得分和标签："
      ]
    },
    {
      "cell_type": "code",
      "execution_count": 42,
      "metadata": {
        "colab": {
          "base_uri": "https://localhost:8080/"
        },
        "id": "5LoBGocU9sOj",
        "outputId": "bdbadbcb-981d-4eda-daf8-f372fae5efaf"
      },
      "outputs": [
        {
          "data": {
            "text/plain": [
              "[{'entity': 'I-PER', 'score': 0.9993828535079956, 'word': 'S'},\n",
              " {'entity': 'I-PER', 'score': 0.9981548190116882, 'word': '##yl'},\n",
              " {'entity': 'I-PER', 'score': 0.995907187461853, 'word': '##va'},\n",
              " {'entity': 'I-PER', 'score': 0.9992327690124512, 'word': '##in'},\n",
              " {'entity': 'I-ORG', 'score': 0.9738931059837341, 'word': 'Hu'},\n",
              " {'entity': 'I-ORG', 'score': 0.9761149883270264, 'word': '##gging'},\n",
              " {'entity': 'I-ORG', 'score': 0.9887974858283997, 'word': 'Face'},\n",
              " {'entity': 'I-LOC', 'score': 0.99321049451828, 'word': 'Brooklyn'}]"
            ]
          },
          "execution_count": 42,
          "metadata": {},
          "output_type": "execute_result"
        }
      ],
      "source": [
        "results = []\n",
        "tokens = inputs.tokens()\n",
        "\n",
        "for i, pred in enumerate(predictions):\n",
        "  label = model.config.id2label[pred]\n",
        "  if label != 'O':\n",
        "    results.append({\n",
        "        'entity': label,\n",
        "        'score': probabilities[i][pred],\n",
        "        'word': tokens[i]\n",
        "    })\n",
        "results"
      ]
    },
    {
      "cell_type": "markdown",
      "metadata": {
        "id": "TQjnh6Yk_BhO"
      },
      "source": [
        "这与我们之前的结果非常相似，但有一点不同：pipeline 还给我们提供了每个实体在原始句子中的 start 和 end 的信息。\n",
        "\n",
        "如果要复现这个特性，这就是我们的偏移映射要发挥作用的地方。要获得偏移量，我们只需要在使用 tokenizer 器时设置 `return_offsets_mapping=True` ："
      ]
    },
    {
      "cell_type": "code",
      "execution_count": 45,
      "metadata": {
        "colab": {
          "base_uri": "https://localhost:8080/"
        },
        "id": "2zQqfqgQ-23n",
        "outputId": "bea5e387-b351-48dd-bdff-96337d898cdb"
      },
      "outputs": [
        {
          "data": {
            "text/plain": [
              "(['[CLS]',\n",
              "  'My',\n",
              "  'name',\n",
              "  'is',\n",
              "  'S',\n",
              "  '##yl',\n",
              "  '##va',\n",
              "  '##in',\n",
              "  'and',\n",
              "  'I',\n",
              "  'work',\n",
              "  'at',\n",
              "  'Hu',\n",
              "  '##gging',\n",
              "  'Face',\n",
              "  'in',\n",
              "  'Brooklyn',\n",
              "  '.',\n",
              "  '[SEP]'],\n",
              " [(0, 0),\n",
              "  (0, 2),\n",
              "  (3, 7),\n",
              "  (8, 10),\n",
              "  (11, 12),\n",
              "  (12, 14),\n",
              "  (14, 16),\n",
              "  (16, 18),\n",
              "  (19, 22),\n",
              "  (23, 24),\n",
              "  (25, 29),\n",
              "  (30, 32),\n",
              "  (33, 35),\n",
              "  (35, 40),\n",
              "  (41, 45),\n",
              "  (46, 48),\n",
              "  (49, 57),\n",
              "  (57, 58),\n",
              "  (0, 0)])"
            ]
          },
          "execution_count": 45,
          "metadata": {},
          "output_type": "execute_result"
        }
      ],
      "source": [
        "inputs_with_offsets = tokenizer(example, return_offsets_mapping=True)\n",
        "inputs_with_offsets.tokens(), inputs_with_offsets[\"offset_mapping\"]"
      ]
    },
    {
      "cell_type": "code",
      "execution_count": 49,
      "metadata": {
        "colab": {
          "base_uri": "https://localhost:8080/",
          "height": 35
        },
        "id": "HjiYO4MP_LU-",
        "outputId": "e9fcba54-c323-4504-dcf9-894e30e88b37"
      },
      "outputs": [
        {
          "data": {
            "application/vnd.google.colaboratory.intrinsic+json": {
              "type": "string"
            },
            "text/plain": [
              "'Hu'"
            ]
          },
          "execution_count": 49,
          "metadata": {},
          "output_type": "execute_result"
        }
      ],
      "source": [
        "example[33:35]"
      ]
    },
    {
      "cell_type": "markdown",
      "metadata": {
        "id": "dg1mtmm5_eOB"
      },
      "source": [
        "使用这个，我们现在可以完成之前的想法："
      ]
    },
    {
      "cell_type": "code",
      "execution_count": 48,
      "metadata": {
        "colab": {
          "base_uri": "https://localhost:8080/"
        },
        "id": "PuIO9_i2_WdF",
        "outputId": "06974edf-d579-49ec-a033-813672f9ac7b"
      },
      "outputs": [
        {
          "data": {
            "text/plain": [
              "[{'entity': 'I-PER',\n",
              "  'score': 0.9993828535079956,\n",
              "  'word': 'S',\n",
              "  'start': 11,\n",
              "  'end': 12},\n",
              " {'entity': 'I-PER',\n",
              "  'score': 0.9981548190116882,\n",
              "  'word': '##yl',\n",
              "  'start': 12,\n",
              "  'end': 14},\n",
              " {'entity': 'I-PER',\n",
              "  'score': 0.995907187461853,\n",
              "  'word': '##va',\n",
              "  'start': 14,\n",
              "  'end': 16},\n",
              " {'entity': 'I-PER',\n",
              "  'score': 0.9992327690124512,\n",
              "  'word': '##in',\n",
              "  'start': 16,\n",
              "  'end': 18},\n",
              " {'entity': 'I-ORG',\n",
              "  'score': 0.9738931059837341,\n",
              "  'word': 'Hu',\n",
              "  'start': 33,\n",
              "  'end': 35},\n",
              " {'entity': 'I-ORG',\n",
              "  'score': 0.9761149883270264,\n",
              "  'word': '##gging',\n",
              "  'start': 35,\n",
              "  'end': 40},\n",
              " {'entity': 'I-ORG',\n",
              "  'score': 0.9887974858283997,\n",
              "  'word': 'Face',\n",
              "  'start': 41,\n",
              "  'end': 45},\n",
              " {'entity': 'I-LOC',\n",
              "  'score': 0.99321049451828,\n",
              "  'word': 'Brooklyn',\n",
              "  'start': 49,\n",
              "  'end': 57}]"
            ]
          },
          "execution_count": 48,
          "metadata": {},
          "output_type": "execute_result"
        }
      ],
      "source": [
        "results = []\n",
        "inputs_with_offsets = tokenizer(example, return_offsets_mapping=True)\n",
        "tokens = inputs_with_offsets.tokens()\n",
        "offsets = inputs_with_offsets[\"offset_mapping\"]\n",
        "\n",
        "for idx, pred in enumerate(predictions):\n",
        "    label = model.config.id2label[pred]\n",
        "    if label != \"O\":\n",
        "        start, end = offsets[idx]\n",
        "        results.append({\n",
        "            \"entity\": label,\n",
        "            \"score\": probabilities[idx][pred],\n",
        "            \"word\": tokens[idx],\n",
        "            \"start\": start,\n",
        "            \"end\": end,\n",
        "        })\n",
        "\n",
        "results"
      ]
    },
    {
      "cell_type": "markdown",
      "metadata": {
        "id": "flc1QmGG_oEw"
      },
      "source": [
        "## 2.3 实体分组"
      ]
    },
    {
      "cell_type": "markdown",
      "metadata": {
        "id": "qnPqHa8r_0I0"
      },
      "source": [
        "使用偏移来确定每个实体的开始和结束的索引很方便，但这并不是它唯一的用法。当我们希望将实体分组在一起时，偏移映射将为我们省去很多复杂的代码。\n",
        "\n",
        "例如，如果我们想将 Hu 、 ##gging 和 Face token 分组在一起，我们可以制定特殊规则，比如说前两个应该在去除 ## 的同时连在一起， Face 应该在不以 ## 开头的情况下增加空格 — 但这些规则只适用于这种特定类型的分词器。\n",
        "\n",
        "为了编写处理预测结果并分组实体的代码，我们将对连续标记为 I-XXX 的实体进行分组，因为只有实体的第一个 token 可以被标记为 B-XXX 或 I-XXX ，因此，当我们遇到实体 O 、新类型的实体或 B-XXX 时，我们就可以停止聚合同一类型实体。"
      ]
    },
    {
      "cell_type": "code",
      "execution_count": 50,
      "metadata": {
        "colab": {
          "base_uri": "https://localhost:8080/"
        },
        "id": "065Y0zZ2_jAB",
        "outputId": "40eca96a-25cd-4d22-80d2-9468cab19b9d"
      },
      "outputs": [
        {
          "data": {
            "text/plain": [
              "[{'entity_group': 'PER',\n",
              "  'score': 0.998169407248497,\n",
              "  'word': 'Sylvain',\n",
              "  'start': 11,\n",
              "  'end': 18},\n",
              " {'entity_group': 'ORG',\n",
              "  'score': 0.9796018600463867,\n",
              "  'word': 'Hugging Face',\n",
              "  'start': 33,\n",
              "  'end': 45},\n",
              " {'entity_group': 'LOC',\n",
              "  'score': 0.99321049451828,\n",
              "  'word': 'Brooklyn',\n",
              "  'start': 49,\n",
              "  'end': 57}]"
            ]
          },
          "execution_count": 50,
          "metadata": {},
          "output_type": "execute_result"
        }
      ],
      "source": [
        "import numpy as np\n",
        "\n",
        "results = []\n",
        "inputs_with_offsets = tokenizer(example, return_offsets_mapping=True)\n",
        "tokens = inputs_with_offsets.tokens()\n",
        "offsets = inputs_with_offsets[\"offset_mapping\"]\n",
        "\n",
        "idx = 0\n",
        "while idx < len(predictions):\n",
        "    pred = predictions[idx]\n",
        "    label = model.config.id2label[pred]\n",
        "    if label != \"O\":\n",
        "        # 删除 B- 或者 I-\n",
        "        label = label[2:]\n",
        "        start, _ = offsets[idx]\n",
        "\n",
        "        # 获取所有标有 I 标签的token\n",
        "        all_scores = []\n",
        "        while (\n",
        "            idx < len(predictions)\n",
        "            and model.config.id2label[predictions[idx]] == f\"I-{label}\"\n",
        "        ):\n",
        "            all_scores.append(probabilities[idx][pred])\n",
        "            _, end = offsets[idx]\n",
        "            idx += 1\n",
        "\n",
        "        # 分数是该分组实体中所有token分数的平均值\n",
        "        score = np.mean(all_scores).item()\n",
        "        word = example[start:end]\n",
        "        results.append(\n",
        "            {\n",
        "                \"entity_group\": label,\n",
        "                \"score\": score,\n",
        "                \"word\": word,\n",
        "                \"start\": start,\n",
        "                \"end\": end,\n",
        "            }\n",
        "        )\n",
        "    idx += 1\n",
        "\n",
        "results"
      ]
    },
    {
      "cell_type": "code",
      "execution_count": 59,
      "metadata": {
        "colab": {
          "base_uri": "https://localhost:8080/"
        },
        "id": "tMLElTxpA1oc",
        "outputId": "dcd90e95-cfc6-4d95-92a0-dc2e180bd53e"
      },
      "outputs": [
        {
          "name": "stdout",
          "output_type": "stream",
          "text": [
            "[CLS] : O\n",
            "My : O\n",
            "name : O\n",
            "is : O\n",
            "S : I-PER\n",
            "##yl : I-PER\n",
            "##va : I-PER\n",
            "##in : I-PER\n",
            "and : O\n",
            "I : O\n",
            "work : O\n",
            "at : O\n",
            "Hu : I-ORG\n",
            "##gging : I-ORG\n",
            "Face : I-ORG\n",
            "in : O\n",
            "Brooklyn : I-LOC\n",
            ". : O\n",
            "[SEP] : O\n"
          ]
        }
      ],
      "source": [
        "for i in range(len(tokens)):\n",
        "  print(tokens[i], \":\", model.config.id2label[predictions[i]])"
      ]
    }
  ],
  "metadata": {
    "colab": {
      "provenance": []
    },
    "kernelspec": {
      "display_name": "Python 3",
      "name": "python3"
    },
    "language_info": {
      "name": "python"
    },
    "widgets": {
      "application/vnd.jupyter.widget-state+json": {
        "00a14341e2464e1f8a87168836c8057d": {
          "model_module": "@jupyter-widgets/controls",
          "model_module_version": "1.5.0",
          "model_name": "HBoxModel",
          "state": {
            "_dom_classes": [],
            "_model_module": "@jupyter-widgets/controls",
            "_model_module_version": "1.5.0",
            "_model_name": "HBoxModel",
            "_view_count": null,
            "_view_module": "@jupyter-widgets/controls",
            "_view_module_version": "1.5.0",
            "_view_name": "HBoxView",
            "box_style": "",
            "children": [
              "IPY_MODEL_43242f08c2f1434db1812fda2d6ca4ab",
              "IPY_MODEL_3f79286f7a554a10a711c73854b77747",
              "IPY_MODEL_039efe362d6446a0823c559bcb2ab2c3"
            ],
            "layout": "IPY_MODEL_9fd98303624b41b8b020cbed9b8a927e"
          }
        },
        "014362a5a3234d42a8311c0ee54074a4": {
          "model_module": "@jupyter-widgets/base",
          "model_module_version": "1.2.0",
          "model_name": "LayoutModel",
          "state": {
            "_model_module": "@jupyter-widgets/base",
            "_model_module_version": "1.2.0",
            "_model_name": "LayoutModel",
            "_view_count": null,
            "_view_module": "@jupyter-widgets/base",
            "_view_module_version": "1.2.0",
            "_view_name": "LayoutView",
            "align_content": null,
            "align_items": null,
            "align_self": null,
            "border": null,
            "bottom": null,
            "display": null,
            "flex": null,
            "flex_flow": null,
            "grid_area": null,
            "grid_auto_columns": null,
            "grid_auto_flow": null,
            "grid_auto_rows": null,
            "grid_column": null,
            "grid_gap": null,
            "grid_row": null,
            "grid_template_areas": null,
            "grid_template_columns": null,
            "grid_template_rows": null,
            "height": null,
            "justify_content": null,
            "justify_items": null,
            "left": null,
            "margin": null,
            "max_height": null,
            "max_width": null,
            "min_height": null,
            "min_width": null,
            "object_fit": null,
            "object_position": null,
            "order": null,
            "overflow": null,
            "overflow_x": null,
            "overflow_y": null,
            "padding": null,
            "right": null,
            "top": null,
            "visibility": null,
            "width": null
          }
        },
        "023a64b12266490381fd8773e4079a45": {
          "model_module": "@jupyter-widgets/controls",
          "model_module_version": "1.5.0",
          "model_name": "DescriptionStyleModel",
          "state": {
            "_model_module": "@jupyter-widgets/controls",
            "_model_module_version": "1.5.0",
            "_model_name": "DescriptionStyleModel",
            "_view_count": null,
            "_view_module": "@jupyter-widgets/base",
            "_view_module_version": "1.2.0",
            "_view_name": "StyleView",
            "description_width": ""
          }
        },
        "037ed4db61594840954087dd07adb21d": {
          "model_module": "@jupyter-widgets/controls",
          "model_module_version": "1.5.0",
          "model_name": "FloatProgressModel",
          "state": {
            "_dom_classes": [],
            "_model_module": "@jupyter-widgets/controls",
            "_model_module_version": "1.5.0",
            "_model_name": "FloatProgressModel",
            "_view_count": null,
            "_view_module": "@jupyter-widgets/controls",
            "_view_module_version": "1.5.0",
            "_view_name": "ProgressView",
            "bar_style": "success",
            "description": "",
            "description_tooltip": null,
            "layout": "IPY_MODEL_61f46c3d87d545468cf9c51b59ca1633",
            "max": 213450,
            "min": 0,
            "orientation": "horizontal",
            "style": "IPY_MODEL_a310f4e279ab40c1bd1bd5e6750c9a03",
            "value": 213450
          }
        },
        "039efe362d6446a0823c559bcb2ab2c3": {
          "model_module": "@jupyter-widgets/controls",
          "model_module_version": "1.5.0",
          "model_name": "HTMLModel",
          "state": {
            "_dom_classes": [],
            "_model_module": "@jupyter-widgets/controls",
            "_model_module_version": "1.5.0",
            "_model_name": "HTMLModel",
            "_view_count": null,
            "_view_module": "@jupyter-widgets/controls",
            "_view_module_version": "1.5.0",
            "_view_name": "HTMLView",
            "description": "",
            "description_tooltip": null,
            "layout": "IPY_MODEL_d0120cd1fd5e4407bfeb2df1c6d191e3",
            "placeholder": "​",
            "style": "IPY_MODEL_95058bd86cb54ff79ab96a63a5c38b44",
            "value": " 436k/436k [00:00&lt;00:00, 5.81MB/s]"
          }
        },
        "03ed85852be047beb58b71a5551cc20f": {
          "model_module": "@jupyter-widgets/base",
          "model_module_version": "1.2.0",
          "model_name": "LayoutModel",
          "state": {
            "_model_module": "@jupyter-widgets/base",
            "_model_module_version": "1.2.0",
            "_model_name": "LayoutModel",
            "_view_count": null,
            "_view_module": "@jupyter-widgets/base",
            "_view_module_version": "1.2.0",
            "_view_name": "LayoutView",
            "align_content": null,
            "align_items": null,
            "align_self": null,
            "border": null,
            "bottom": null,
            "display": null,
            "flex": null,
            "flex_flow": null,
            "grid_area": null,
            "grid_auto_columns": null,
            "grid_auto_flow": null,
            "grid_auto_rows": null,
            "grid_column": null,
            "grid_gap": null,
            "grid_row": null,
            "grid_template_areas": null,
            "grid_template_columns": null,
            "grid_template_rows": null,
            "height": null,
            "justify_content": null,
            "justify_items": null,
            "left": null,
            "margin": null,
            "max_height": null,
            "max_width": null,
            "min_height": null,
            "min_width": null,
            "object_fit": null,
            "object_position": null,
            "order": null,
            "overflow": null,
            "overflow_x": null,
            "overflow_y": null,
            "padding": null,
            "right": null,
            "top": null,
            "visibility": null,
            "width": null
          }
        },
        "050442df698f488a8bce44bd1d951262": {
          "model_module": "@jupyter-widgets/controls",
          "model_module_version": "1.5.0",
          "model_name": "FloatProgressModel",
          "state": {
            "_dom_classes": [],
            "_model_module": "@jupyter-widgets/controls",
            "_model_module_version": "1.5.0",
            "_model_name": "FloatProgressModel",
            "_view_count": null,
            "_view_module": "@jupyter-widgets/controls",
            "_view_module_version": "1.5.0",
            "_view_name": "ProgressView",
            "bar_style": "success",
            "description": "",
            "description_tooltip": null,
            "layout": "IPY_MODEL_e4a9ed7bb32f4624a938b62a59e17b67",
            "max": 25,
            "min": 0,
            "orientation": "horizontal",
            "style": "IPY_MODEL_9894c44faadd4f3d84b12011244bb838",
            "value": 25
          }
        },
        "08cbbcb4d5ee4374abc6f8d102187b0f": {
          "model_module": "@jupyter-widgets/controls",
          "model_module_version": "1.5.0",
          "model_name": "HBoxModel",
          "state": {
            "_dom_classes": [],
            "_model_module": "@jupyter-widgets/controls",
            "_model_module_version": "1.5.0",
            "_model_name": "HBoxModel",
            "_view_count": null,
            "_view_module": "@jupyter-widgets/controls",
            "_view_module_version": "1.5.0",
            "_view_name": "HBoxView",
            "box_style": "",
            "children": [
              "IPY_MODEL_1b3c57d60e044eaa9c9b2770a3b6bc43",
              "IPY_MODEL_d218e95902754a6d8b94383cbb17bba4",
              "IPY_MODEL_3bf1fd2930d148929b6b20e35056d834"
            ],
            "layout": "IPY_MODEL_57189bb7a0504ae1b42f48de4b2b5384"
          }
        },
        "0a084f8f78444c309490ca312c665dfc": {
          "model_module": "@jupyter-widgets/base",
          "model_module_version": "1.2.0",
          "model_name": "LayoutModel",
          "state": {
            "_model_module": "@jupyter-widgets/base",
            "_model_module_version": "1.2.0",
            "_model_name": "LayoutModel",
            "_view_count": null,
            "_view_module": "@jupyter-widgets/base",
            "_view_module_version": "1.2.0",
            "_view_name": "LayoutView",
            "align_content": null,
            "align_items": null,
            "align_self": null,
            "border": null,
            "bottom": null,
            "display": null,
            "flex": null,
            "flex_flow": null,
            "grid_area": null,
            "grid_auto_columns": null,
            "grid_auto_flow": null,
            "grid_auto_rows": null,
            "grid_column": null,
            "grid_gap": null,
            "grid_row": null,
            "grid_template_areas": null,
            "grid_template_columns": null,
            "grid_template_rows": null,
            "height": null,
            "justify_content": null,
            "justify_items": null,
            "left": null,
            "margin": null,
            "max_height": null,
            "max_width": null,
            "min_height": null,
            "min_width": null,
            "object_fit": null,
            "object_position": null,
            "order": null,
            "overflow": null,
            "overflow_x": null,
            "overflow_y": null,
            "padding": null,
            "right": null,
            "top": null,
            "visibility": null,
            "width": null
          }
        },
        "0be9ee05304f478389f4bf511cfb7674": {
          "model_module": "@jupyter-widgets/base",
          "model_module_version": "1.2.0",
          "model_name": "LayoutModel",
          "state": {
            "_model_module": "@jupyter-widgets/base",
            "_model_module_version": "1.2.0",
            "_model_name": "LayoutModel",
            "_view_count": null,
            "_view_module": "@jupyter-widgets/base",
            "_view_module_version": "1.2.0",
            "_view_name": "LayoutView",
            "align_content": null,
            "align_items": null,
            "align_self": null,
            "border": null,
            "bottom": null,
            "display": null,
            "flex": null,
            "flex_flow": null,
            "grid_area": null,
            "grid_auto_columns": null,
            "grid_auto_flow": null,
            "grid_auto_rows": null,
            "grid_column": null,
            "grid_gap": null,
            "grid_row": null,
            "grid_template_areas": null,
            "grid_template_columns": null,
            "grid_template_rows": null,
            "height": null,
            "justify_content": null,
            "justify_items": null,
            "left": null,
            "margin": null,
            "max_height": null,
            "max_width": null,
            "min_height": null,
            "min_width": null,
            "object_fit": null,
            "object_position": null,
            "order": null,
            "overflow": null,
            "overflow_x": null,
            "overflow_y": null,
            "padding": null,
            "right": null,
            "top": null,
            "visibility": null,
            "width": null
          }
        },
        "0e617c5e7a544bb0b2a3b18ad7c76b17": {
          "model_module": "@jupyter-widgets/controls",
          "model_module_version": "1.5.0",
          "model_name": "DescriptionStyleModel",
          "state": {
            "_model_module": "@jupyter-widgets/controls",
            "_model_module_version": "1.5.0",
            "_model_name": "DescriptionStyleModel",
            "_view_count": null,
            "_view_module": "@jupyter-widgets/base",
            "_view_module_version": "1.2.0",
            "_view_name": "StyleView",
            "description_width": ""
          }
        },
        "0ffaa73b81314ec3a02b81bb854270d7": {
          "model_module": "@jupyter-widgets/controls",
          "model_module_version": "1.5.0",
          "model_name": "HBoxModel",
          "state": {
            "_dom_classes": [],
            "_model_module": "@jupyter-widgets/controls",
            "_model_module_version": "1.5.0",
            "_model_name": "HBoxModel",
            "_view_count": null,
            "_view_module": "@jupyter-widgets/controls",
            "_view_module_version": "1.5.0",
            "_view_name": "HBoxView",
            "box_style": "",
            "children": [
              "IPY_MODEL_d38fd3f41e7d445da50e079863a8cf3d",
              "IPY_MODEL_c797c59a5c7f466f82904e770dbb4e95",
              "IPY_MODEL_14dae6e8830d4836aff4687f607b8663"
            ],
            "layout": "IPY_MODEL_976275042e2f43de8176f5f9df10e421"
          }
        },
        "11d235d753304ef5980c436230fcd4a3": {
          "model_module": "@jupyter-widgets/base",
          "model_module_version": "1.2.0",
          "model_name": "LayoutModel",
          "state": {
            "_model_module": "@jupyter-widgets/base",
            "_model_module_version": "1.2.0",
            "_model_name": "LayoutModel",
            "_view_count": null,
            "_view_module": "@jupyter-widgets/base",
            "_view_module_version": "1.2.0",
            "_view_name": "LayoutView",
            "align_content": null,
            "align_items": null,
            "align_self": null,
            "border": null,
            "bottom": null,
            "display": null,
            "flex": null,
            "flex_flow": null,
            "grid_area": null,
            "grid_auto_columns": null,
            "grid_auto_flow": null,
            "grid_auto_rows": null,
            "grid_column": null,
            "grid_gap": null,
            "grid_row": null,
            "grid_template_areas": null,
            "grid_template_columns": null,
            "grid_template_rows": null,
            "height": null,
            "justify_content": null,
            "justify_items": null,
            "left": null,
            "margin": null,
            "max_height": null,
            "max_width": null,
            "min_height": null,
            "min_width": null,
            "object_fit": null,
            "object_position": null,
            "order": null,
            "overflow": null,
            "overflow_x": null,
            "overflow_y": null,
            "padding": null,
            "right": null,
            "top": null,
            "visibility": null,
            "width": null
          }
        },
        "14dae6e8830d4836aff4687f607b8663": {
          "model_module": "@jupyter-widgets/controls",
          "model_module_version": "1.5.0",
          "model_name": "HTMLModel",
          "state": {
            "_dom_classes": [],
            "_model_module": "@jupyter-widgets/controls",
            "_model_module_version": "1.5.0",
            "_model_name": "HTMLModel",
            "_view_count": null,
            "_view_module": "@jupyter-widgets/controls",
            "_view_module_version": "1.5.0",
            "_view_name": "HTMLView",
            "description": "",
            "description_tooltip": null,
            "layout": "IPY_MODEL_20b90d189a474439a74bdc71d0313138",
            "placeholder": "​",
            "style": "IPY_MODEL_9df6c0f1bd0b46f6a9e959135b7b80de",
            "value": " 49.0/49.0 [00:00&lt;00:00, 1.05kB/s]"
          }
        },
        "1b3c57d60e044eaa9c9b2770a3b6bc43": {
          "model_module": "@jupyter-widgets/controls",
          "model_module_version": "1.5.0",
          "model_name": "HTMLModel",
          "state": {
            "_dom_classes": [],
            "_model_module": "@jupyter-widgets/controls",
            "_model_module_version": "1.5.0",
            "_model_name": "HTMLModel",
            "_view_count": null,
            "_view_module": "@jupyter-widgets/controls",
            "_view_module_version": "1.5.0",
            "_view_name": "HTMLView",
            "description": "",
            "description_tooltip": null,
            "layout": "IPY_MODEL_3b1964de9e4043358e0cf6cbd9da81c5",
            "placeholder": "​",
            "style": "IPY_MODEL_d36ecef34bdc4430b8f21eb60a01c95a",
            "value": "config.json: 100%"
          }
        },
        "1de672bb1ad24f0a97261d7e6bc6846e": {
          "model_module": "@jupyter-widgets/base",
          "model_module_version": "1.2.0",
          "model_name": "LayoutModel",
          "state": {
            "_model_module": "@jupyter-widgets/base",
            "_model_module_version": "1.2.0",
            "_model_name": "LayoutModel",
            "_view_count": null,
            "_view_module": "@jupyter-widgets/base",
            "_view_module_version": "1.2.0",
            "_view_name": "LayoutView",
            "align_content": null,
            "align_items": null,
            "align_self": null,
            "border": null,
            "bottom": null,
            "display": null,
            "flex": null,
            "flex_flow": null,
            "grid_area": null,
            "grid_auto_columns": null,
            "grid_auto_flow": null,
            "grid_auto_rows": null,
            "grid_column": null,
            "grid_gap": null,
            "grid_row": null,
            "grid_template_areas": null,
            "grid_template_columns": null,
            "grid_template_rows": null,
            "height": null,
            "justify_content": null,
            "justify_items": null,
            "left": null,
            "margin": null,
            "max_height": null,
            "max_width": null,
            "min_height": null,
            "min_width": null,
            "object_fit": null,
            "object_position": null,
            "order": null,
            "overflow": null,
            "overflow_x": null,
            "overflow_y": null,
            "padding": null,
            "right": null,
            "top": null,
            "visibility": null,
            "width": null
          }
        },
        "1f5cdd82b81f4282b69e3c7965616d9f": {
          "model_module": "@jupyter-widgets/controls",
          "model_module_version": "1.5.0",
          "model_name": "ProgressStyleModel",
          "state": {
            "_model_module": "@jupyter-widgets/controls",
            "_model_module_version": "1.5.0",
            "_model_name": "ProgressStyleModel",
            "_view_count": null,
            "_view_module": "@jupyter-widgets/base",
            "_view_module_version": "1.2.0",
            "_view_name": "StyleView",
            "bar_color": null,
            "description_width": ""
          }
        },
        "20b90d189a474439a74bdc71d0313138": {
          "model_module": "@jupyter-widgets/base",
          "model_module_version": "1.2.0",
          "model_name": "LayoutModel",
          "state": {
            "_model_module": "@jupyter-widgets/base",
            "_model_module_version": "1.2.0",
            "_model_name": "LayoutModel",
            "_view_count": null,
            "_view_module": "@jupyter-widgets/base",
            "_view_module_version": "1.2.0",
            "_view_name": "LayoutView",
            "align_content": null,
            "align_items": null,
            "align_self": null,
            "border": null,
            "bottom": null,
            "display": null,
            "flex": null,
            "flex_flow": null,
            "grid_area": null,
            "grid_auto_columns": null,
            "grid_auto_flow": null,
            "grid_auto_rows": null,
            "grid_column": null,
            "grid_gap": null,
            "grid_row": null,
            "grid_template_areas": null,
            "grid_template_columns": null,
            "grid_template_rows": null,
            "height": null,
            "justify_content": null,
            "justify_items": null,
            "left": null,
            "margin": null,
            "max_height": null,
            "max_width": null,
            "min_height": null,
            "min_width": null,
            "object_fit": null,
            "object_position": null,
            "order": null,
            "overflow": null,
            "overflow_x": null,
            "overflow_y": null,
            "padding": null,
            "right": null,
            "top": null,
            "visibility": null,
            "width": null
          }
        },
        "212c943003b748a6b25ee58f6ec76159": {
          "model_module": "@jupyter-widgets/controls",
          "model_module_version": "1.5.0",
          "model_name": "HBoxModel",
          "state": {
            "_dom_classes": [],
            "_model_module": "@jupyter-widgets/controls",
            "_model_module_version": "1.5.0",
            "_model_name": "HBoxModel",
            "_view_count": null,
            "_view_module": "@jupyter-widgets/controls",
            "_view_module_version": "1.5.0",
            "_view_name": "HBoxView",
            "box_style": "",
            "children": [
              "IPY_MODEL_a6c0e3ab2e2f45f1a152e4036c2f2433",
              "IPY_MODEL_cda44c348efe4b1cb994a79b59a74737",
              "IPY_MODEL_b00f04e5dd7e4e42a6691fc21c712d68"
            ],
            "layout": "IPY_MODEL_752746a266b74718a1ec6990cb42ec67"
          }
        },
        "22586ee9f7304827b3431a8264f7e16d": {
          "model_module": "@jupyter-widgets/base",
          "model_module_version": "1.2.0",
          "model_name": "LayoutModel",
          "state": {
            "_model_module": "@jupyter-widgets/base",
            "_model_module_version": "1.2.0",
            "_model_name": "LayoutModel",
            "_view_count": null,
            "_view_module": "@jupyter-widgets/base",
            "_view_module_version": "1.2.0",
            "_view_name": "LayoutView",
            "align_content": null,
            "align_items": null,
            "align_self": null,
            "border": null,
            "bottom": null,
            "display": null,
            "flex": null,
            "flex_flow": null,
            "grid_area": null,
            "grid_auto_columns": null,
            "grid_auto_flow": null,
            "grid_auto_rows": null,
            "grid_column": null,
            "grid_gap": null,
            "grid_row": null,
            "grid_template_areas": null,
            "grid_template_columns": null,
            "grid_template_rows": null,
            "height": null,
            "justify_content": null,
            "justify_items": null,
            "left": null,
            "margin": null,
            "max_height": null,
            "max_width": null,
            "min_height": null,
            "min_width": null,
            "object_fit": null,
            "object_position": null,
            "order": null,
            "overflow": null,
            "overflow_x": null,
            "overflow_y": null,
            "padding": null,
            "right": null,
            "top": null,
            "visibility": null,
            "width": null
          }
        },
        "23e49ee6730647c99026b557a2e5a27b": {
          "model_module": "@jupyter-widgets/base",
          "model_module_version": "1.2.0",
          "model_name": "LayoutModel",
          "state": {
            "_model_module": "@jupyter-widgets/base",
            "_model_module_version": "1.2.0",
            "_model_name": "LayoutModel",
            "_view_count": null,
            "_view_module": "@jupyter-widgets/base",
            "_view_module_version": "1.2.0",
            "_view_name": "LayoutView",
            "align_content": null,
            "align_items": null,
            "align_self": null,
            "border": null,
            "bottom": null,
            "display": null,
            "flex": null,
            "flex_flow": null,
            "grid_area": null,
            "grid_auto_columns": null,
            "grid_auto_flow": null,
            "grid_auto_rows": null,
            "grid_column": null,
            "grid_gap": null,
            "grid_row": null,
            "grid_template_areas": null,
            "grid_template_columns": null,
            "grid_template_rows": null,
            "height": null,
            "justify_content": null,
            "justify_items": null,
            "left": null,
            "margin": null,
            "max_height": null,
            "max_width": null,
            "min_height": null,
            "min_width": null,
            "object_fit": null,
            "object_position": null,
            "order": null,
            "overflow": null,
            "overflow_x": null,
            "overflow_y": null,
            "padding": null,
            "right": null,
            "top": null,
            "visibility": null,
            "width": null
          }
        },
        "27492203d43141d3822f04b36e73ec5c": {
          "model_module": "@jupyter-widgets/controls",
          "model_module_version": "1.5.0",
          "model_name": "DescriptionStyleModel",
          "state": {
            "_model_module": "@jupyter-widgets/controls",
            "_model_module_version": "1.5.0",
            "_model_name": "DescriptionStyleModel",
            "_view_count": null,
            "_view_module": "@jupyter-widgets/base",
            "_view_module_version": "1.2.0",
            "_view_name": "StyleView",
            "description_width": ""
          }
        },
        "29d982b8c0d148ed9e5b5642dcd15051": {
          "model_module": "@jupyter-widgets/base",
          "model_module_version": "1.2.0",
          "model_name": "LayoutModel",
          "state": {
            "_model_module": "@jupyter-widgets/base",
            "_model_module_version": "1.2.0",
            "_model_name": "LayoutModel",
            "_view_count": null,
            "_view_module": "@jupyter-widgets/base",
            "_view_module_version": "1.2.0",
            "_view_name": "LayoutView",
            "align_content": null,
            "align_items": null,
            "align_self": null,
            "border": null,
            "bottom": null,
            "display": null,
            "flex": null,
            "flex_flow": null,
            "grid_area": null,
            "grid_auto_columns": null,
            "grid_auto_flow": null,
            "grid_auto_rows": null,
            "grid_column": null,
            "grid_gap": null,
            "grid_row": null,
            "grid_template_areas": null,
            "grid_template_columns": null,
            "grid_template_rows": null,
            "height": null,
            "justify_content": null,
            "justify_items": null,
            "left": null,
            "margin": null,
            "max_height": null,
            "max_width": null,
            "min_height": null,
            "min_width": null,
            "object_fit": null,
            "object_position": null,
            "order": null,
            "overflow": null,
            "overflow_x": null,
            "overflow_y": null,
            "padding": null,
            "right": null,
            "top": null,
            "visibility": null,
            "width": null
          }
        },
        "2beea3ff40044d08807264a3d5dc2210": {
          "model_module": "@jupyter-widgets/controls",
          "model_module_version": "1.5.0",
          "model_name": "FloatProgressModel",
          "state": {
            "_dom_classes": [],
            "_model_module": "@jupyter-widgets/controls",
            "_model_module_version": "1.5.0",
            "_model_name": "FloatProgressModel",
            "_view_count": null,
            "_view_module": "@jupyter-widgets/controls",
            "_view_module_version": "1.5.0",
            "_view_name": "ProgressView",
            "bar_style": "success",
            "description": "",
            "description_tooltip": null,
            "layout": "IPY_MODEL_dfc6edb171334a478c4e31cacac1aedf",
            "max": 60,
            "min": 0,
            "orientation": "horizontal",
            "style": "IPY_MODEL_ba0d1033cc7844f488b647f65e8f7fba",
            "value": 60
          }
        },
        "2c518915ec654e9aa302fea4bf0e7e59": {
          "model_module": "@jupyter-widgets/controls",
          "model_module_version": "1.5.0",
          "model_name": "DescriptionStyleModel",
          "state": {
            "_model_module": "@jupyter-widgets/controls",
            "_model_module_version": "1.5.0",
            "_model_name": "DescriptionStyleModel",
            "_view_count": null,
            "_view_module": "@jupyter-widgets/base",
            "_view_module_version": "1.2.0",
            "_view_name": "StyleView",
            "description_width": ""
          }
        },
        "30c1e8bb61944da1a6fab152b45dea7f": {
          "model_module": "@jupyter-widgets/base",
          "model_module_version": "1.2.0",
          "model_name": "LayoutModel",
          "state": {
            "_model_module": "@jupyter-widgets/base",
            "_model_module_version": "1.2.0",
            "_model_name": "LayoutModel",
            "_view_count": null,
            "_view_module": "@jupyter-widgets/base",
            "_view_module_version": "1.2.0",
            "_view_name": "LayoutView",
            "align_content": null,
            "align_items": null,
            "align_self": null,
            "border": null,
            "bottom": null,
            "display": null,
            "flex": null,
            "flex_flow": null,
            "grid_area": null,
            "grid_auto_columns": null,
            "grid_auto_flow": null,
            "grid_auto_rows": null,
            "grid_column": null,
            "grid_gap": null,
            "grid_row": null,
            "grid_template_areas": null,
            "grid_template_columns": null,
            "grid_template_rows": null,
            "height": null,
            "justify_content": null,
            "justify_items": null,
            "left": null,
            "margin": null,
            "max_height": null,
            "max_width": null,
            "min_height": null,
            "min_width": null,
            "object_fit": null,
            "object_position": null,
            "order": null,
            "overflow": null,
            "overflow_x": null,
            "overflow_y": null,
            "padding": null,
            "right": null,
            "top": null,
            "visibility": null,
            "width": null
          }
        },
        "3342f1249a2c4182add8020559b72cee": {
          "model_module": "@jupyter-widgets/controls",
          "model_module_version": "1.5.0",
          "model_name": "HBoxModel",
          "state": {
            "_dom_classes": [],
            "_model_module": "@jupyter-widgets/controls",
            "_model_module_version": "1.5.0",
            "_model_name": "HBoxModel",
            "_view_count": null,
            "_view_module": "@jupyter-widgets/controls",
            "_view_module_version": "1.5.0",
            "_view_name": "HBoxView",
            "box_style": "",
            "children": [
              "IPY_MODEL_bad06f4066b04bfe80054c5374c97cf4",
              "IPY_MODEL_528d1a1b92d9466a80f4ee9fe756e1a9",
              "IPY_MODEL_dcdbda6bfcf34307b3102beaa80f0fd2"
            ],
            "layout": "IPY_MODEL_d2727ff7117e477eb4b62f2fbb981479"
          }
        },
        "33713035dba5483f8651c96bfb3ae594": {
          "model_module": "@jupyter-widgets/controls",
          "model_module_version": "1.5.0",
          "model_name": "HBoxModel",
          "state": {
            "_dom_classes": [],
            "_model_module": "@jupyter-widgets/controls",
            "_model_module_version": "1.5.0",
            "_model_name": "HBoxModel",
            "_view_count": null,
            "_view_module": "@jupyter-widgets/controls",
            "_view_module_version": "1.5.0",
            "_view_name": "HBoxView",
            "box_style": "",
            "children": [
              "IPY_MODEL_510fb35641e246ffb033855382708604",
              "IPY_MODEL_2beea3ff40044d08807264a3d5dc2210",
              "IPY_MODEL_72abf97e99a34862917a3050d88c2185"
            ],
            "layout": "IPY_MODEL_a60ee8f9d7a241e9a0fdcf1807599411"
          }
        },
        "3972c60b940d4227bcbad20c63303503": {
          "model_module": "@jupyter-widgets/controls",
          "model_module_version": "1.5.0",
          "model_name": "HTMLModel",
          "state": {
            "_dom_classes": [],
            "_model_module": "@jupyter-widgets/controls",
            "_model_module_version": "1.5.0",
            "_model_name": "HTMLModel",
            "_view_count": null,
            "_view_module": "@jupyter-widgets/controls",
            "_view_module_version": "1.5.0",
            "_view_name": "HTMLView",
            "description": "",
            "description_tooltip": null,
            "layout": "IPY_MODEL_842692dff0594f9985096bd72daf18f2",
            "placeholder": "​",
            "style": "IPY_MODEL_2c518915ec654e9aa302fea4bf0e7e59",
            "value": "config.json: 100%"
          }
        },
        "3b1964de9e4043358e0cf6cbd9da81c5": {
          "model_module": "@jupyter-widgets/base",
          "model_module_version": "1.2.0",
          "model_name": "LayoutModel",
          "state": {
            "_model_module": "@jupyter-widgets/base",
            "_model_module_version": "1.2.0",
            "_model_name": "LayoutModel",
            "_view_count": null,
            "_view_module": "@jupyter-widgets/base",
            "_view_module_version": "1.2.0",
            "_view_name": "LayoutView",
            "align_content": null,
            "align_items": null,
            "align_self": null,
            "border": null,
            "bottom": null,
            "display": null,
            "flex": null,
            "flex_flow": null,
            "grid_area": null,
            "grid_auto_columns": null,
            "grid_auto_flow": null,
            "grid_auto_rows": null,
            "grid_column": null,
            "grid_gap": null,
            "grid_row": null,
            "grid_template_areas": null,
            "grid_template_columns": null,
            "grid_template_rows": null,
            "height": null,
            "justify_content": null,
            "justify_items": null,
            "left": null,
            "margin": null,
            "max_height": null,
            "max_width": null,
            "min_height": null,
            "min_width": null,
            "object_fit": null,
            "object_position": null,
            "order": null,
            "overflow": null,
            "overflow_x": null,
            "overflow_y": null,
            "padding": null,
            "right": null,
            "top": null,
            "visibility": null,
            "width": null
          }
        },
        "3bf1fd2930d148929b6b20e35056d834": {
          "model_module": "@jupyter-widgets/controls",
          "model_module_version": "1.5.0",
          "model_name": "HTMLModel",
          "state": {
            "_dom_classes": [],
            "_model_module": "@jupyter-widgets/controls",
            "_model_module_version": "1.5.0",
            "_model_name": "HTMLModel",
            "_view_count": null,
            "_view_module": "@jupyter-widgets/controls",
            "_view_module_version": "1.5.0",
            "_view_name": "HTMLView",
            "description": "",
            "description_tooltip": null,
            "layout": "IPY_MODEL_85653b95f81c403d9b92be73d65348f0",
            "placeholder": "​",
            "style": "IPY_MODEL_7c1f6de96ed14105a7db48a90b368cb6",
            "value": " 481/481 [00:00&lt;00:00, 8.28kB/s]"
          }
        },
        "3da919ccec8d4270a3783eaff0e8ad07": {
          "model_module": "@jupyter-widgets/controls",
          "model_module_version": "1.5.0",
          "model_name": "DescriptionStyleModel",
          "state": {
            "_model_module": "@jupyter-widgets/controls",
            "_model_module_version": "1.5.0",
            "_model_name": "DescriptionStyleModel",
            "_view_count": null,
            "_view_module": "@jupyter-widgets/base",
            "_view_module_version": "1.2.0",
            "_view_name": "StyleView",
            "description_width": ""
          }
        },
        "3f79286f7a554a10a711c73854b77747": {
          "model_module": "@jupyter-widgets/controls",
          "model_module_version": "1.5.0",
          "model_name": "FloatProgressModel",
          "state": {
            "_dom_classes": [],
            "_model_module": "@jupyter-widgets/controls",
            "_model_module_version": "1.5.0",
            "_model_name": "FloatProgressModel",
            "_view_count": null,
            "_view_module": "@jupyter-widgets/controls",
            "_view_module_version": "1.5.0",
            "_view_name": "ProgressView",
            "bar_style": "success",
            "description": "",
            "description_tooltip": null,
            "layout": "IPY_MODEL_1de672bb1ad24f0a97261d7e6bc6846e",
            "max": 435797,
            "min": 0,
            "orientation": "horizontal",
            "style": "IPY_MODEL_47bfefaeb3824a998e54062028338616",
            "value": 435797
          }
        },
        "403664b857284a5c8ef2066b5768553c": {
          "model_module": "@jupyter-widgets/controls",
          "model_module_version": "1.5.0",
          "model_name": "FloatProgressModel",
          "state": {
            "_dom_classes": [],
            "_model_module": "@jupyter-widgets/controls",
            "_model_module_version": "1.5.0",
            "_model_name": "FloatProgressModel",
            "_view_count": null,
            "_view_module": "@jupyter-widgets/controls",
            "_view_module_version": "1.5.0",
            "_view_name": "ProgressView",
            "bar_style": "success",
            "description": "",
            "description_tooltip": null,
            "layout": "IPY_MODEL_e28af79054984bba9897c8730dd28a13",
            "max": 998,
            "min": 0,
            "orientation": "horizontal",
            "style": "IPY_MODEL_816145e860054066a3f870590a75f90e",
            "value": 998
          }
        },
        "419649034ee84a42b0bad5aaa3a55c37": {
          "model_module": "@jupyter-widgets/controls",
          "model_module_version": "1.5.0",
          "model_name": "HBoxModel",
          "state": {
            "_dom_classes": [],
            "_model_module": "@jupyter-widgets/controls",
            "_model_module_version": "1.5.0",
            "_model_name": "HBoxModel",
            "_view_count": null,
            "_view_module": "@jupyter-widgets/controls",
            "_view_module_version": "1.5.0",
            "_view_name": "HBoxView",
            "box_style": "",
            "children": [
              "IPY_MODEL_3972c60b940d4227bcbad20c63303503",
              "IPY_MODEL_906faf38e3e54b35ab291845932a2517",
              "IPY_MODEL_a9ed950252a54852861269f0c0085663"
            ],
            "layout": "IPY_MODEL_90cfa61c0e6f488fb39fd6320c0a1768"
          }
        },
        "41dca53141254cbda2f3f718b1e4cb2a": {
          "model_module": "@jupyter-widgets/base",
          "model_module_version": "1.2.0",
          "model_name": "LayoutModel",
          "state": {
            "_model_module": "@jupyter-widgets/base",
            "_model_module_version": "1.2.0",
            "_model_name": "LayoutModel",
            "_view_count": null,
            "_view_module": "@jupyter-widgets/base",
            "_view_module_version": "1.2.0",
            "_view_name": "LayoutView",
            "align_content": null,
            "align_items": null,
            "align_self": null,
            "border": null,
            "bottom": null,
            "display": null,
            "flex": null,
            "flex_flow": null,
            "grid_area": null,
            "grid_auto_columns": null,
            "grid_auto_flow": null,
            "grid_auto_rows": null,
            "grid_column": null,
            "grid_gap": null,
            "grid_row": null,
            "grid_template_areas": null,
            "grid_template_columns": null,
            "grid_template_rows": null,
            "height": null,
            "justify_content": null,
            "justify_items": null,
            "left": null,
            "margin": null,
            "max_height": null,
            "max_width": null,
            "min_height": null,
            "min_width": null,
            "object_fit": null,
            "object_position": null,
            "order": null,
            "overflow": null,
            "overflow_x": null,
            "overflow_y": null,
            "padding": null,
            "right": null,
            "top": null,
            "visibility": null,
            "width": null
          }
        },
        "43242f08c2f1434db1812fda2d6ca4ab": {
          "model_module": "@jupyter-widgets/controls",
          "model_module_version": "1.5.0",
          "model_name": "HTMLModel",
          "state": {
            "_dom_classes": [],
            "_model_module": "@jupyter-widgets/controls",
            "_model_module_version": "1.5.0",
            "_model_name": "HTMLModel",
            "_view_count": null,
            "_view_module": "@jupyter-widgets/controls",
            "_view_module_version": "1.5.0",
            "_view_name": "HTMLView",
            "description": "",
            "description_tooltip": null,
            "layout": "IPY_MODEL_7a9a391ef48d45bbab15649b9397c705",
            "placeholder": "​",
            "style": "IPY_MODEL_44cfb28d8c6f4e56a06a695b776d3152",
            "value": "tokenizer.json: 100%"
          }
        },
        "448600ecd2874d28b262c10d3de72e8a": {
          "model_module": "@jupyter-widgets/base",
          "model_module_version": "1.2.0",
          "model_name": "LayoutModel",
          "state": {
            "_model_module": "@jupyter-widgets/base",
            "_model_module_version": "1.2.0",
            "_model_name": "LayoutModel",
            "_view_count": null,
            "_view_module": "@jupyter-widgets/base",
            "_view_module_version": "1.2.0",
            "_view_name": "LayoutView",
            "align_content": null,
            "align_items": null,
            "align_self": null,
            "border": null,
            "bottom": null,
            "display": null,
            "flex": null,
            "flex_flow": null,
            "grid_area": null,
            "grid_auto_columns": null,
            "grid_auto_flow": null,
            "grid_auto_rows": null,
            "grid_column": null,
            "grid_gap": null,
            "grid_row": null,
            "grid_template_areas": null,
            "grid_template_columns": null,
            "grid_template_rows": null,
            "height": null,
            "justify_content": null,
            "justify_items": null,
            "left": null,
            "margin": null,
            "max_height": null,
            "max_width": null,
            "min_height": null,
            "min_width": null,
            "object_fit": null,
            "object_position": null,
            "order": null,
            "overflow": null,
            "overflow_x": null,
            "overflow_y": null,
            "padding": null,
            "right": null,
            "top": null,
            "visibility": null,
            "width": null
          }
        },
        "44cfb28d8c6f4e56a06a695b776d3152": {
          "model_module": "@jupyter-widgets/controls",
          "model_module_version": "1.5.0",
          "model_name": "DescriptionStyleModel",
          "state": {
            "_model_module": "@jupyter-widgets/controls",
            "_model_module_version": "1.5.0",
            "_model_name": "DescriptionStyleModel",
            "_view_count": null,
            "_view_module": "@jupyter-widgets/base",
            "_view_module_version": "1.2.0",
            "_view_name": "StyleView",
            "description_width": ""
          }
        },
        "45289eb9c1604edb9ebd135c77365694": {
          "model_module": "@jupyter-widgets/controls",
          "model_module_version": "1.5.0",
          "model_name": "DescriptionStyleModel",
          "state": {
            "_model_module": "@jupyter-widgets/controls",
            "_model_module_version": "1.5.0",
            "_model_name": "DescriptionStyleModel",
            "_view_count": null,
            "_view_module": "@jupyter-widgets/base",
            "_view_module_version": "1.2.0",
            "_view_name": "StyleView",
            "description_width": ""
          }
        },
        "47b16ea27ce9477f9825f93ca4d56f8e": {
          "model_module": "@jupyter-widgets/controls",
          "model_module_version": "1.5.0",
          "model_name": "ProgressStyleModel",
          "state": {
            "_model_module": "@jupyter-widgets/controls",
            "_model_module_version": "1.5.0",
            "_model_name": "ProgressStyleModel",
            "_view_count": null,
            "_view_module": "@jupyter-widgets/base",
            "_view_module_version": "1.2.0",
            "_view_name": "StyleView",
            "bar_color": null,
            "description_width": ""
          }
        },
        "47bfefaeb3824a998e54062028338616": {
          "model_module": "@jupyter-widgets/controls",
          "model_module_version": "1.5.0",
          "model_name": "ProgressStyleModel",
          "state": {
            "_model_module": "@jupyter-widgets/controls",
            "_model_module_version": "1.5.0",
            "_model_name": "ProgressStyleModel",
            "_view_count": null,
            "_view_module": "@jupyter-widgets/base",
            "_view_module_version": "1.2.0",
            "_view_name": "StyleView",
            "bar_color": null,
            "description_width": ""
          }
        },
        "49d00ad0ae81488ca94700f35d4f9972": {
          "model_module": "@jupyter-widgets/controls",
          "model_module_version": "1.5.0",
          "model_name": "HBoxModel",
          "state": {
            "_dom_classes": [],
            "_model_module": "@jupyter-widgets/controls",
            "_model_module_version": "1.5.0",
            "_model_name": "HBoxModel",
            "_view_count": null,
            "_view_module": "@jupyter-widgets/controls",
            "_view_module_version": "1.5.0",
            "_view_name": "HBoxView",
            "box_style": "",
            "children": [
              "IPY_MODEL_fda39625c5ea44f1a8b2a0b840d3d128",
              "IPY_MODEL_050442df698f488a8bce44bd1d951262",
              "IPY_MODEL_a6e4c9795e4e43e5b1d47827c0ef82c8"
            ],
            "layout": "IPY_MODEL_f4ce4a4388c746849887b558eb1de8d3"
          }
        },
        "4db57834275f4485b999303f16410498": {
          "model_module": "@jupyter-widgets/base",
          "model_module_version": "1.2.0",
          "model_name": "LayoutModel",
          "state": {
            "_model_module": "@jupyter-widgets/base",
            "_model_module_version": "1.2.0",
            "_model_name": "LayoutModel",
            "_view_count": null,
            "_view_module": "@jupyter-widgets/base",
            "_view_module_version": "1.2.0",
            "_view_name": "LayoutView",
            "align_content": null,
            "align_items": null,
            "align_self": null,
            "border": null,
            "bottom": null,
            "display": null,
            "flex": null,
            "flex_flow": null,
            "grid_area": null,
            "grid_auto_columns": null,
            "grid_auto_flow": null,
            "grid_auto_rows": null,
            "grid_column": null,
            "grid_gap": null,
            "grid_row": null,
            "grid_template_areas": null,
            "grid_template_columns": null,
            "grid_template_rows": null,
            "height": null,
            "justify_content": null,
            "justify_items": null,
            "left": null,
            "margin": null,
            "max_height": null,
            "max_width": null,
            "min_height": null,
            "min_width": null,
            "object_fit": null,
            "object_position": null,
            "order": null,
            "overflow": null,
            "overflow_x": null,
            "overflow_y": null,
            "padding": null,
            "right": null,
            "top": null,
            "visibility": null,
            "width": null
          }
        },
        "4f808f32530b46fd85dbb27b8a4c4ded": {
          "model_module": "@jupyter-widgets/controls",
          "model_module_version": "1.5.0",
          "model_name": "HTMLModel",
          "state": {
            "_dom_classes": [],
            "_model_module": "@jupyter-widgets/controls",
            "_model_module_version": "1.5.0",
            "_model_name": "HTMLModel",
            "_view_count": null,
            "_view_module": "@jupyter-widgets/controls",
            "_view_module_version": "1.5.0",
            "_view_name": "HTMLView",
            "description": "",
            "description_tooltip": null,
            "layout": "IPY_MODEL_448600ecd2874d28b262c10d3de72e8a",
            "placeholder": "​",
            "style": "IPY_MODEL_3da919ccec8d4270a3783eaff0e8ad07",
            "value": " 998/998 [00:00&lt;00:00, 43.0kB/s]"
          }
        },
        "4fe8fdc6c01f4eb382ee5ea03b136f2e": {
          "model_module": "@jupyter-widgets/base",
          "model_module_version": "1.2.0",
          "model_name": "LayoutModel",
          "state": {
            "_model_module": "@jupyter-widgets/base",
            "_model_module_version": "1.2.0",
            "_model_name": "LayoutModel",
            "_view_count": null,
            "_view_module": "@jupyter-widgets/base",
            "_view_module_version": "1.2.0",
            "_view_name": "LayoutView",
            "align_content": null,
            "align_items": null,
            "align_self": null,
            "border": null,
            "bottom": null,
            "display": null,
            "flex": null,
            "flex_flow": null,
            "grid_area": null,
            "grid_auto_columns": null,
            "grid_auto_flow": null,
            "grid_auto_rows": null,
            "grid_column": null,
            "grid_gap": null,
            "grid_row": null,
            "grid_template_areas": null,
            "grid_template_columns": null,
            "grid_template_rows": null,
            "height": null,
            "justify_content": null,
            "justify_items": null,
            "left": null,
            "margin": null,
            "max_height": null,
            "max_width": null,
            "min_height": null,
            "min_width": null,
            "object_fit": null,
            "object_position": null,
            "order": null,
            "overflow": null,
            "overflow_x": null,
            "overflow_y": null,
            "padding": null,
            "right": null,
            "top": null,
            "visibility": null,
            "width": null
          }
        },
        "510fb35641e246ffb033855382708604": {
          "model_module": "@jupyter-widgets/controls",
          "model_module_version": "1.5.0",
          "model_name": "HTMLModel",
          "state": {
            "_dom_classes": [],
            "_model_module": "@jupyter-widgets/controls",
            "_model_module_version": "1.5.0",
            "_model_name": "HTMLModel",
            "_view_count": null,
            "_view_module": "@jupyter-widgets/controls",
            "_view_module_version": "1.5.0",
            "_view_name": "HTMLView",
            "description": "",
            "description_tooltip": null,
            "layout": "IPY_MODEL_51229fa956a049c79efb50461277edf6",
            "placeholder": "​",
            "style": "IPY_MODEL_aac6a53964bd4eeeb9e4f7bf11db3434",
            "value": "tokenizer_config.json: 100%"
          }
        },
        "51229fa956a049c79efb50461277edf6": {
          "model_module": "@jupyter-widgets/base",
          "model_module_version": "1.2.0",
          "model_name": "LayoutModel",
          "state": {
            "_model_module": "@jupyter-widgets/base",
            "_model_module_version": "1.2.0",
            "_model_name": "LayoutModel",
            "_view_count": null,
            "_view_module": "@jupyter-widgets/base",
            "_view_module_version": "1.2.0",
            "_view_name": "LayoutView",
            "align_content": null,
            "align_items": null,
            "align_self": null,
            "border": null,
            "bottom": null,
            "display": null,
            "flex": null,
            "flex_flow": null,
            "grid_area": null,
            "grid_auto_columns": null,
            "grid_auto_flow": null,
            "grid_auto_rows": null,
            "grid_column": null,
            "grid_gap": null,
            "grid_row": null,
            "grid_template_areas": null,
            "grid_template_columns": null,
            "grid_template_rows": null,
            "height": null,
            "justify_content": null,
            "justify_items": null,
            "left": null,
            "margin": null,
            "max_height": null,
            "max_width": null,
            "min_height": null,
            "min_width": null,
            "object_fit": null,
            "object_position": null,
            "order": null,
            "overflow": null,
            "overflow_x": null,
            "overflow_y": null,
            "padding": null,
            "right": null,
            "top": null,
            "visibility": null,
            "width": null
          }
        },
        "528d1a1b92d9466a80f4ee9fe756e1a9": {
          "model_module": "@jupyter-widgets/controls",
          "model_module_version": "1.5.0",
          "model_name": "FloatProgressModel",
          "state": {
            "_dom_classes": [],
            "_model_module": "@jupyter-widgets/controls",
            "_model_module_version": "1.5.0",
            "_model_name": "FloatProgressModel",
            "_view_count": null,
            "_view_module": "@jupyter-widgets/controls",
            "_view_module_version": "1.5.0",
            "_view_name": "ProgressView",
            "bar_style": "success",
            "description": "",
            "description_tooltip": null,
            "layout": "IPY_MODEL_83ca2fc1ec2b4dd69c1eb883fa909f71",
            "max": 213450,
            "min": 0,
            "orientation": "horizontal",
            "style": "IPY_MODEL_abffa86ae92843ee805bfec35797881c",
            "value": 213450
          }
        },
        "52a9039673c949af8bb36c1b10e17ac6": {
          "model_module": "@jupyter-widgets/base",
          "model_module_version": "1.2.0",
          "model_name": "LayoutModel",
          "state": {
            "_model_module": "@jupyter-widgets/base",
            "_model_module_version": "1.2.0",
            "_model_name": "LayoutModel",
            "_view_count": null,
            "_view_module": "@jupyter-widgets/base",
            "_view_module_version": "1.2.0",
            "_view_name": "LayoutView",
            "align_content": null,
            "align_items": null,
            "align_self": null,
            "border": null,
            "bottom": null,
            "display": null,
            "flex": null,
            "flex_flow": null,
            "grid_area": null,
            "grid_auto_columns": null,
            "grid_auto_flow": null,
            "grid_auto_rows": null,
            "grid_column": null,
            "grid_gap": null,
            "grid_row": null,
            "grid_template_areas": null,
            "grid_template_columns": null,
            "grid_template_rows": null,
            "height": null,
            "justify_content": null,
            "justify_items": null,
            "left": null,
            "margin": null,
            "max_height": null,
            "max_width": null,
            "min_height": null,
            "min_width": null,
            "object_fit": null,
            "object_position": null,
            "order": null,
            "overflow": null,
            "overflow_x": null,
            "overflow_y": null,
            "padding": null,
            "right": null,
            "top": null,
            "visibility": null,
            "width": null
          }
        },
        "52c1f90b094e410fbef646a3fc3a3ecc": {
          "model_module": "@jupyter-widgets/controls",
          "model_module_version": "1.5.0",
          "model_name": "DescriptionStyleModel",
          "state": {
            "_model_module": "@jupyter-widgets/controls",
            "_model_module_version": "1.5.0",
            "_model_name": "DescriptionStyleModel",
            "_view_count": null,
            "_view_module": "@jupyter-widgets/base",
            "_view_module_version": "1.2.0",
            "_view_name": "StyleView",
            "description_width": ""
          }
        },
        "52ffcc174240418b8d017f9718d971b7": {
          "model_module": "@jupyter-widgets/controls",
          "model_module_version": "1.5.0",
          "model_name": "DescriptionStyleModel",
          "state": {
            "_model_module": "@jupyter-widgets/controls",
            "_model_module_version": "1.5.0",
            "_model_name": "DescriptionStyleModel",
            "_view_count": null,
            "_view_module": "@jupyter-widgets/base",
            "_view_module_version": "1.2.0",
            "_view_name": "StyleView",
            "description_width": ""
          }
        },
        "54f0f6c02f5744e69b4a38ca3a667f82": {
          "model_module": "@jupyter-widgets/controls",
          "model_module_version": "1.5.0",
          "model_name": "ProgressStyleModel",
          "state": {
            "_model_module": "@jupyter-widgets/controls",
            "_model_module_version": "1.5.0",
            "_model_name": "ProgressStyleModel",
            "_view_count": null,
            "_view_module": "@jupyter-widgets/base",
            "_view_module_version": "1.2.0",
            "_view_name": "StyleView",
            "bar_color": null,
            "description_width": ""
          }
        },
        "57189bb7a0504ae1b42f48de4b2b5384": {
          "model_module": "@jupyter-widgets/base",
          "model_module_version": "1.2.0",
          "model_name": "LayoutModel",
          "state": {
            "_model_module": "@jupyter-widgets/base",
            "_model_module_version": "1.2.0",
            "_model_name": "LayoutModel",
            "_view_count": null,
            "_view_module": "@jupyter-widgets/base",
            "_view_module_version": "1.2.0",
            "_view_name": "LayoutView",
            "align_content": null,
            "align_items": null,
            "align_self": null,
            "border": null,
            "bottom": null,
            "display": null,
            "flex": null,
            "flex_flow": null,
            "grid_area": null,
            "grid_auto_columns": null,
            "grid_auto_flow": null,
            "grid_auto_rows": null,
            "grid_column": null,
            "grid_gap": null,
            "grid_row": null,
            "grid_template_areas": null,
            "grid_template_columns": null,
            "grid_template_rows": null,
            "height": null,
            "justify_content": null,
            "justify_items": null,
            "left": null,
            "margin": null,
            "max_height": null,
            "max_width": null,
            "min_height": null,
            "min_width": null,
            "object_fit": null,
            "object_position": null,
            "order": null,
            "overflow": null,
            "overflow_x": null,
            "overflow_y": null,
            "padding": null,
            "right": null,
            "top": null,
            "visibility": null,
            "width": null
          }
        },
        "59f8f5ffdbc9432ea95abb88b62bf818": {
          "model_module": "@jupyter-widgets/controls",
          "model_module_version": "1.5.0",
          "model_name": "DescriptionStyleModel",
          "state": {
            "_model_module": "@jupyter-widgets/controls",
            "_model_module_version": "1.5.0",
            "_model_name": "DescriptionStyleModel",
            "_view_count": null,
            "_view_module": "@jupyter-widgets/base",
            "_view_module_version": "1.2.0",
            "_view_name": "StyleView",
            "description_width": ""
          }
        },
        "60a63307d37d4403854fe0c09aa89efc": {
          "model_module": "@jupyter-widgets/base",
          "model_module_version": "1.2.0",
          "model_name": "LayoutModel",
          "state": {
            "_model_module": "@jupyter-widgets/base",
            "_model_module_version": "1.2.0",
            "_model_name": "LayoutModel",
            "_view_count": null,
            "_view_module": "@jupyter-widgets/base",
            "_view_module_version": "1.2.0",
            "_view_name": "LayoutView",
            "align_content": null,
            "align_items": null,
            "align_self": null,
            "border": null,
            "bottom": null,
            "display": null,
            "flex": null,
            "flex_flow": null,
            "grid_area": null,
            "grid_auto_columns": null,
            "grid_auto_flow": null,
            "grid_auto_rows": null,
            "grid_column": null,
            "grid_gap": null,
            "grid_row": null,
            "grid_template_areas": null,
            "grid_template_columns": null,
            "grid_template_rows": null,
            "height": null,
            "justify_content": null,
            "justify_items": null,
            "left": null,
            "margin": null,
            "max_height": null,
            "max_width": null,
            "min_height": null,
            "min_width": null,
            "object_fit": null,
            "object_position": null,
            "order": null,
            "overflow": null,
            "overflow_x": null,
            "overflow_y": null,
            "padding": null,
            "right": null,
            "top": null,
            "visibility": null,
            "width": null
          }
        },
        "61f46c3d87d545468cf9c51b59ca1633": {
          "model_module": "@jupyter-widgets/base",
          "model_module_version": "1.2.0",
          "model_name": "LayoutModel",
          "state": {
            "_model_module": "@jupyter-widgets/base",
            "_model_module_version": "1.2.0",
            "_model_name": "LayoutModel",
            "_view_count": null,
            "_view_module": "@jupyter-widgets/base",
            "_view_module_version": "1.2.0",
            "_view_name": "LayoutView",
            "align_content": null,
            "align_items": null,
            "align_self": null,
            "border": null,
            "bottom": null,
            "display": null,
            "flex": null,
            "flex_flow": null,
            "grid_area": null,
            "grid_auto_columns": null,
            "grid_auto_flow": null,
            "grid_auto_rows": null,
            "grid_column": null,
            "grid_gap": null,
            "grid_row": null,
            "grid_template_areas": null,
            "grid_template_columns": null,
            "grid_template_rows": null,
            "height": null,
            "justify_content": null,
            "justify_items": null,
            "left": null,
            "margin": null,
            "max_height": null,
            "max_width": null,
            "min_height": null,
            "min_width": null,
            "object_fit": null,
            "object_position": null,
            "order": null,
            "overflow": null,
            "overflow_x": null,
            "overflow_y": null,
            "padding": null,
            "right": null,
            "top": null,
            "visibility": null,
            "width": null
          }
        },
        "6c05cac3062d472fbff3b7b5ce9543d5": {
          "model_module": "@jupyter-widgets/controls",
          "model_module_version": "1.5.0",
          "model_name": "HTMLModel",
          "state": {
            "_dom_classes": [],
            "_model_module": "@jupyter-widgets/controls",
            "_model_module_version": "1.5.0",
            "_model_name": "HTMLModel",
            "_view_count": null,
            "_view_module": "@jupyter-widgets/controls",
            "_view_module_version": "1.5.0",
            "_view_name": "HTMLView",
            "description": "",
            "description_tooltip": null,
            "layout": "IPY_MODEL_29d982b8c0d148ed9e5b5642dcd15051",
            "placeholder": "​",
            "style": "IPY_MODEL_d123caa9355b4bc081ed8b142528045c",
            "value": " 1.36M/1.36M [00:00&lt;00:00, 5.39MB/s]"
          }
        },
        "6f00de9b799a4f91a19b32e3b66ad365": {
          "model_module": "@jupyter-widgets/controls",
          "model_module_version": "1.5.0",
          "model_name": "HTMLModel",
          "state": {
            "_dom_classes": [],
            "_model_module": "@jupyter-widgets/controls",
            "_model_module_version": "1.5.0",
            "_model_name": "HTMLModel",
            "_view_count": null,
            "_view_module": "@jupyter-widgets/controls",
            "_view_module_version": "1.5.0",
            "_view_name": "HTMLView",
            "description": "",
            "description_tooltip": null,
            "layout": "IPY_MODEL_f7e4e695080d49bbaa08e23ca550cdca",
            "placeholder": "​",
            "style": "IPY_MODEL_75660a05f0844530b94d7415177a4825",
            "value": "model.safetensors: 100%"
          }
        },
        "70761c5f3ce949a5a0ec8945a73ecd6e": {
          "model_module": "@jupyter-widgets/controls",
          "model_module_version": "1.5.0",
          "model_name": "HTMLModel",
          "state": {
            "_dom_classes": [],
            "_model_module": "@jupyter-widgets/controls",
            "_model_module_version": "1.5.0",
            "_model_name": "HTMLModel",
            "_view_count": null,
            "_view_module": "@jupyter-widgets/controls",
            "_view_module_version": "1.5.0",
            "_view_name": "HTMLView",
            "description": "",
            "description_tooltip": null,
            "layout": "IPY_MODEL_03ed85852be047beb58b71a5551cc20f",
            "placeholder": "​",
            "style": "IPY_MODEL_9b0206682e5e4b6a998635affbddcc98",
            "value": "config.json: 100%"
          }
        },
        "72abf97e99a34862917a3050d88c2185": {
          "model_module": "@jupyter-widgets/controls",
          "model_module_version": "1.5.0",
          "model_name": "HTMLModel",
          "state": {
            "_dom_classes": [],
            "_model_module": "@jupyter-widgets/controls",
            "_model_module_version": "1.5.0",
            "_model_name": "HTMLModel",
            "_view_count": null,
            "_view_module": "@jupyter-widgets/controls",
            "_view_module_version": "1.5.0",
            "_view_name": "HTMLView",
            "description": "",
            "description_tooltip": null,
            "layout": "IPY_MODEL_4fe8fdc6c01f4eb382ee5ea03b136f2e",
            "placeholder": "​",
            "style": "IPY_MODEL_7ed2d24ba903457ab36d7ccb2cdba997",
            "value": " 60.0/60.0 [00:00&lt;00:00, 5.00kB/s]"
          }
        },
        "752746a266b74718a1ec6990cb42ec67": {
          "model_module": "@jupyter-widgets/base",
          "model_module_version": "1.2.0",
          "model_name": "LayoutModel",
          "state": {
            "_model_module": "@jupyter-widgets/base",
            "_model_module_version": "1.2.0",
            "_model_name": "LayoutModel",
            "_view_count": null,
            "_view_module": "@jupyter-widgets/base",
            "_view_module_version": "1.2.0",
            "_view_name": "LayoutView",
            "align_content": null,
            "align_items": null,
            "align_self": null,
            "border": null,
            "bottom": null,
            "display": null,
            "flex": null,
            "flex_flow": null,
            "grid_area": null,
            "grid_auto_columns": null,
            "grid_auto_flow": null,
            "grid_auto_rows": null,
            "grid_column": null,
            "grid_gap": null,
            "grid_row": null,
            "grid_template_areas": null,
            "grid_template_columns": null,
            "grid_template_rows": null,
            "height": null,
            "justify_content": null,
            "justify_items": null,
            "left": null,
            "margin": null,
            "max_height": null,
            "max_width": null,
            "min_height": null,
            "min_width": null,
            "object_fit": null,
            "object_position": null,
            "order": null,
            "overflow": null,
            "overflow_x": null,
            "overflow_y": null,
            "padding": null,
            "right": null,
            "top": null,
            "visibility": null,
            "width": null
          }
        },
        "75660a05f0844530b94d7415177a4825": {
          "model_module": "@jupyter-widgets/controls",
          "model_module_version": "1.5.0",
          "model_name": "DescriptionStyleModel",
          "state": {
            "_model_module": "@jupyter-widgets/controls",
            "_model_module_version": "1.5.0",
            "_model_name": "DescriptionStyleModel",
            "_view_count": null,
            "_view_module": "@jupyter-widgets/base",
            "_view_module_version": "1.2.0",
            "_view_name": "StyleView",
            "description_width": ""
          }
        },
        "7908dbe6a6c74e74b18189cf4e6e028b": {
          "model_module": "@jupyter-widgets/controls",
          "model_module_version": "1.5.0",
          "model_name": "HBoxModel",
          "state": {
            "_dom_classes": [],
            "_model_module": "@jupyter-widgets/controls",
            "_model_module_version": "1.5.0",
            "_model_name": "HBoxModel",
            "_view_count": null,
            "_view_module": "@jupyter-widgets/controls",
            "_view_module_version": "1.5.0",
            "_view_name": "HBoxView",
            "box_style": "",
            "children": [
              "IPY_MODEL_e25ea157de5545ad9e85cf9efc89411b",
              "IPY_MODEL_c6bfbbd6afcc4c9ebdd8d75229b34170",
              "IPY_MODEL_6c05cac3062d472fbff3b7b5ce9543d5"
            ],
            "layout": "IPY_MODEL_9108f58135654cb1b077805423efcffa"
          }
        },
        "7a9a391ef48d45bbab15649b9397c705": {
          "model_module": "@jupyter-widgets/base",
          "model_module_version": "1.2.0",
          "model_name": "LayoutModel",
          "state": {
            "_model_module": "@jupyter-widgets/base",
            "_model_module_version": "1.2.0",
            "_model_name": "LayoutModel",
            "_view_count": null,
            "_view_module": "@jupyter-widgets/base",
            "_view_module_version": "1.2.0",
            "_view_name": "LayoutView",
            "align_content": null,
            "align_items": null,
            "align_self": null,
            "border": null,
            "bottom": null,
            "display": null,
            "flex": null,
            "flex_flow": null,
            "grid_area": null,
            "grid_auto_columns": null,
            "grid_auto_flow": null,
            "grid_auto_rows": null,
            "grid_column": null,
            "grid_gap": null,
            "grid_row": null,
            "grid_template_areas": null,
            "grid_template_columns": null,
            "grid_template_rows": null,
            "height": null,
            "justify_content": null,
            "justify_items": null,
            "left": null,
            "margin": null,
            "max_height": null,
            "max_width": null,
            "min_height": null,
            "min_width": null,
            "object_fit": null,
            "object_position": null,
            "order": null,
            "overflow": null,
            "overflow_x": null,
            "overflow_y": null,
            "padding": null,
            "right": null,
            "top": null,
            "visibility": null,
            "width": null
          }
        },
        "7c1f6de96ed14105a7db48a90b368cb6": {
          "model_module": "@jupyter-widgets/controls",
          "model_module_version": "1.5.0",
          "model_name": "DescriptionStyleModel",
          "state": {
            "_model_module": "@jupyter-widgets/controls",
            "_model_module_version": "1.5.0",
            "_model_name": "DescriptionStyleModel",
            "_view_count": null,
            "_view_module": "@jupyter-widgets/base",
            "_view_module_version": "1.2.0",
            "_view_name": "StyleView",
            "description_width": ""
          }
        },
        "7d81ef7f89f34878b1f0963e715af097": {
          "model_module": "@jupyter-widgets/controls",
          "model_module_version": "1.5.0",
          "model_name": "ProgressStyleModel",
          "state": {
            "_model_module": "@jupyter-widgets/controls",
            "_model_module_version": "1.5.0",
            "_model_name": "ProgressStyleModel",
            "_view_count": null,
            "_view_module": "@jupyter-widgets/base",
            "_view_module_version": "1.2.0",
            "_view_name": "StyleView",
            "bar_color": null,
            "description_width": ""
          }
        },
        "7ed2d24ba903457ab36d7ccb2cdba997": {
          "model_module": "@jupyter-widgets/controls",
          "model_module_version": "1.5.0",
          "model_name": "DescriptionStyleModel",
          "state": {
            "_model_module": "@jupyter-widgets/controls",
            "_model_module_version": "1.5.0",
            "_model_name": "DescriptionStyleModel",
            "_view_count": null,
            "_view_module": "@jupyter-widgets/base",
            "_view_module_version": "1.2.0",
            "_view_name": "StyleView",
            "description_width": ""
          }
        },
        "816145e860054066a3f870590a75f90e": {
          "model_module": "@jupyter-widgets/controls",
          "model_module_version": "1.5.0",
          "model_name": "ProgressStyleModel",
          "state": {
            "_model_module": "@jupyter-widgets/controls",
            "_model_module_version": "1.5.0",
            "_model_name": "ProgressStyleModel",
            "_view_count": null,
            "_view_module": "@jupyter-widgets/base",
            "_view_module_version": "1.2.0",
            "_view_name": "StyleView",
            "bar_color": null,
            "description_width": ""
          }
        },
        "82d6c512c35440da89765275573f527a": {
          "model_module": "@jupyter-widgets/controls",
          "model_module_version": "1.5.0",
          "model_name": "HBoxModel",
          "state": {
            "_dom_classes": [],
            "_model_module": "@jupyter-widgets/controls",
            "_model_module_version": "1.5.0",
            "_model_name": "HBoxModel",
            "_view_count": null,
            "_view_module": "@jupyter-widgets/controls",
            "_view_module_version": "1.5.0",
            "_view_name": "HBoxView",
            "box_style": "",
            "children": [
              "IPY_MODEL_cc58326b3fad4ca8b7ff6c6941b1ca20",
              "IPY_MODEL_cd382a8c6d9249cb9d7de1ec517c08a4",
              "IPY_MODEL_87dac222b3134416b281668086e4e5a4"
            ],
            "layout": "IPY_MODEL_dd0574e9863641dfb0b0c4902176837c"
          }
        },
        "837a2f4c49564e7faf958145c16af07e": {
          "model_module": "@jupyter-widgets/controls",
          "model_module_version": "1.5.0",
          "model_name": "DescriptionStyleModel",
          "state": {
            "_model_module": "@jupyter-widgets/controls",
            "_model_module_version": "1.5.0",
            "_model_name": "DescriptionStyleModel",
            "_view_count": null,
            "_view_module": "@jupyter-widgets/base",
            "_view_module_version": "1.2.0",
            "_view_name": "StyleView",
            "description_width": ""
          }
        },
        "83ca2fc1ec2b4dd69c1eb883fa909f71": {
          "model_module": "@jupyter-widgets/base",
          "model_module_version": "1.2.0",
          "model_name": "LayoutModel",
          "state": {
            "_model_module": "@jupyter-widgets/base",
            "_model_module_version": "1.2.0",
            "_model_name": "LayoutModel",
            "_view_count": null,
            "_view_module": "@jupyter-widgets/base",
            "_view_module_version": "1.2.0",
            "_view_name": "LayoutView",
            "align_content": null,
            "align_items": null,
            "align_self": null,
            "border": null,
            "bottom": null,
            "display": null,
            "flex": null,
            "flex_flow": null,
            "grid_area": null,
            "grid_auto_columns": null,
            "grid_auto_flow": null,
            "grid_auto_rows": null,
            "grid_column": null,
            "grid_gap": null,
            "grid_row": null,
            "grid_template_areas": null,
            "grid_template_columns": null,
            "grid_template_rows": null,
            "height": null,
            "justify_content": null,
            "justify_items": null,
            "left": null,
            "margin": null,
            "max_height": null,
            "max_width": null,
            "min_height": null,
            "min_width": null,
            "object_fit": null,
            "object_position": null,
            "order": null,
            "overflow": null,
            "overflow_x": null,
            "overflow_y": null,
            "padding": null,
            "right": null,
            "top": null,
            "visibility": null,
            "width": null
          }
        },
        "842692dff0594f9985096bd72daf18f2": {
          "model_module": "@jupyter-widgets/base",
          "model_module_version": "1.2.0",
          "model_name": "LayoutModel",
          "state": {
            "_model_module": "@jupyter-widgets/base",
            "_model_module_version": "1.2.0",
            "_model_name": "LayoutModel",
            "_view_count": null,
            "_view_module": "@jupyter-widgets/base",
            "_view_module_version": "1.2.0",
            "_view_name": "LayoutView",
            "align_content": null,
            "align_items": null,
            "align_self": null,
            "border": null,
            "bottom": null,
            "display": null,
            "flex": null,
            "flex_flow": null,
            "grid_area": null,
            "grid_auto_columns": null,
            "grid_auto_flow": null,
            "grid_auto_rows": null,
            "grid_column": null,
            "grid_gap": null,
            "grid_row": null,
            "grid_template_areas": null,
            "grid_template_columns": null,
            "grid_template_rows": null,
            "height": null,
            "justify_content": null,
            "justify_items": null,
            "left": null,
            "margin": null,
            "max_height": null,
            "max_width": null,
            "min_height": null,
            "min_width": null,
            "object_fit": null,
            "object_position": null,
            "order": null,
            "overflow": null,
            "overflow_x": null,
            "overflow_y": null,
            "padding": null,
            "right": null,
            "top": null,
            "visibility": null,
            "width": null
          }
        },
        "8478a62fe4bc499c94548b68755d1f78": {
          "model_module": "@jupyter-widgets/controls",
          "model_module_version": "1.5.0",
          "model_name": "ProgressStyleModel",
          "state": {
            "_model_module": "@jupyter-widgets/controls",
            "_model_module_version": "1.5.0",
            "_model_name": "ProgressStyleModel",
            "_view_count": null,
            "_view_module": "@jupyter-widgets/base",
            "_view_module_version": "1.2.0",
            "_view_name": "StyleView",
            "bar_color": null,
            "description_width": ""
          }
        },
        "85653b95f81c403d9b92be73d65348f0": {
          "model_module": "@jupyter-widgets/base",
          "model_module_version": "1.2.0",
          "model_name": "LayoutModel",
          "state": {
            "_model_module": "@jupyter-widgets/base",
            "_model_module_version": "1.2.0",
            "_model_name": "LayoutModel",
            "_view_count": null,
            "_view_module": "@jupyter-widgets/base",
            "_view_module_version": "1.2.0",
            "_view_name": "LayoutView",
            "align_content": null,
            "align_items": null,
            "align_self": null,
            "border": null,
            "bottom": null,
            "display": null,
            "flex": null,
            "flex_flow": null,
            "grid_area": null,
            "grid_auto_columns": null,
            "grid_auto_flow": null,
            "grid_auto_rows": null,
            "grid_column": null,
            "grid_gap": null,
            "grid_row": null,
            "grid_template_areas": null,
            "grid_template_columns": null,
            "grid_template_rows": null,
            "height": null,
            "justify_content": null,
            "justify_items": null,
            "left": null,
            "margin": null,
            "max_height": null,
            "max_width": null,
            "min_height": null,
            "min_width": null,
            "object_fit": null,
            "object_position": null,
            "order": null,
            "overflow": null,
            "overflow_x": null,
            "overflow_y": null,
            "padding": null,
            "right": null,
            "top": null,
            "visibility": null,
            "width": null
          }
        },
        "865abb4efd7d4e8bb810feab66b852c7": {
          "model_module": "@jupyter-widgets/controls",
          "model_module_version": "1.5.0",
          "model_name": "HTMLModel",
          "state": {
            "_dom_classes": [],
            "_model_module": "@jupyter-widgets/controls",
            "_model_module_version": "1.5.0",
            "_model_name": "HTMLModel",
            "_view_count": null,
            "_view_module": "@jupyter-widgets/controls",
            "_view_module_version": "1.5.0",
            "_view_name": "HTMLView",
            "description": "",
            "description_tooltip": null,
            "layout": "IPY_MODEL_88282aaed2374983bed35ee66a197091",
            "placeholder": "​",
            "style": "IPY_MODEL_9e8997505f2647a3aa0238071822b391",
            "value": "vocab.txt: 100%"
          }
        },
        "86e189431269423c97ee6c282a9e0a29": {
          "model_module": "@jupyter-widgets/base",
          "model_module_version": "1.2.0",
          "model_name": "LayoutModel",
          "state": {
            "_model_module": "@jupyter-widgets/base",
            "_model_module_version": "1.2.0",
            "_model_name": "LayoutModel",
            "_view_count": null,
            "_view_module": "@jupyter-widgets/base",
            "_view_module_version": "1.2.0",
            "_view_name": "LayoutView",
            "align_content": null,
            "align_items": null,
            "align_self": null,
            "border": null,
            "bottom": null,
            "display": null,
            "flex": null,
            "flex_flow": null,
            "grid_area": null,
            "grid_auto_columns": null,
            "grid_auto_flow": null,
            "grid_auto_rows": null,
            "grid_column": null,
            "grid_gap": null,
            "grid_row": null,
            "grid_template_areas": null,
            "grid_template_columns": null,
            "grid_template_rows": null,
            "height": null,
            "justify_content": null,
            "justify_items": null,
            "left": null,
            "margin": null,
            "max_height": null,
            "max_width": null,
            "min_height": null,
            "min_width": null,
            "object_fit": null,
            "object_position": null,
            "order": null,
            "overflow": null,
            "overflow_x": null,
            "overflow_y": null,
            "padding": null,
            "right": null,
            "top": null,
            "visibility": null,
            "width": null
          }
        },
        "87dac222b3134416b281668086e4e5a4": {
          "model_module": "@jupyter-widgets/controls",
          "model_module_version": "1.5.0",
          "model_name": "HTMLModel",
          "state": {
            "_dom_classes": [],
            "_model_module": "@jupyter-widgets/controls",
            "_model_module_version": "1.5.0",
            "_model_name": "HTMLModel",
            "_view_count": null,
            "_view_module": "@jupyter-widgets/controls",
            "_view_module_version": "1.5.0",
            "_view_name": "HTMLView",
            "description": "",
            "description_tooltip": null,
            "layout": "IPY_MODEL_22586ee9f7304827b3431a8264f7e16d",
            "placeholder": "​",
            "style": "IPY_MODEL_c7e948e2df1c493e922d3121e8cf3e09",
            "value": " 899k/899k [00:00&lt;00:00, 11.2MB/s]"
          }
        },
        "88282aaed2374983bed35ee66a197091": {
          "model_module": "@jupyter-widgets/base",
          "model_module_version": "1.2.0",
          "model_name": "LayoutModel",
          "state": {
            "_model_module": "@jupyter-widgets/base",
            "_model_module_version": "1.2.0",
            "_model_name": "LayoutModel",
            "_view_count": null,
            "_view_module": "@jupyter-widgets/base",
            "_view_module_version": "1.2.0",
            "_view_name": "LayoutView",
            "align_content": null,
            "align_items": null,
            "align_self": null,
            "border": null,
            "bottom": null,
            "display": null,
            "flex": null,
            "flex_flow": null,
            "grid_area": null,
            "grid_auto_columns": null,
            "grid_auto_flow": null,
            "grid_auto_rows": null,
            "grid_column": null,
            "grid_gap": null,
            "grid_row": null,
            "grid_template_areas": null,
            "grid_template_columns": null,
            "grid_template_rows": null,
            "height": null,
            "justify_content": null,
            "justify_items": null,
            "left": null,
            "margin": null,
            "max_height": null,
            "max_width": null,
            "min_height": null,
            "min_width": null,
            "object_fit": null,
            "object_position": null,
            "order": null,
            "overflow": null,
            "overflow_x": null,
            "overflow_y": null,
            "padding": null,
            "right": null,
            "top": null,
            "visibility": null,
            "width": null
          }
        },
        "8b8166da77684146a79d897f2e4db462": {
          "model_module": "@jupyter-widgets/base",
          "model_module_version": "1.2.0",
          "model_name": "LayoutModel",
          "state": {
            "_model_module": "@jupyter-widgets/base",
            "_model_module_version": "1.2.0",
            "_model_name": "LayoutModel",
            "_view_count": null,
            "_view_module": "@jupyter-widgets/base",
            "_view_module_version": "1.2.0",
            "_view_name": "LayoutView",
            "align_content": null,
            "align_items": null,
            "align_self": null,
            "border": null,
            "bottom": null,
            "display": null,
            "flex": null,
            "flex_flow": null,
            "grid_area": null,
            "grid_auto_columns": null,
            "grid_auto_flow": null,
            "grid_auto_rows": null,
            "grid_column": null,
            "grid_gap": null,
            "grid_row": null,
            "grid_template_areas": null,
            "grid_template_columns": null,
            "grid_template_rows": null,
            "height": null,
            "justify_content": null,
            "justify_items": null,
            "left": null,
            "margin": null,
            "max_height": null,
            "max_width": null,
            "min_height": null,
            "min_width": null,
            "object_fit": null,
            "object_position": null,
            "order": null,
            "overflow": null,
            "overflow_x": null,
            "overflow_y": null,
            "padding": null,
            "right": null,
            "top": null,
            "visibility": null,
            "width": null
          }
        },
        "8de74f4d417b49b7a878c348af399f5f": {
          "model_module": "@jupyter-widgets/base",
          "model_module_version": "1.2.0",
          "model_name": "LayoutModel",
          "state": {
            "_model_module": "@jupyter-widgets/base",
            "_model_module_version": "1.2.0",
            "_model_name": "LayoutModel",
            "_view_count": null,
            "_view_module": "@jupyter-widgets/base",
            "_view_module_version": "1.2.0",
            "_view_name": "LayoutView",
            "align_content": null,
            "align_items": null,
            "align_self": null,
            "border": null,
            "bottom": null,
            "display": null,
            "flex": null,
            "flex_flow": null,
            "grid_area": null,
            "grid_auto_columns": null,
            "grid_auto_flow": null,
            "grid_auto_rows": null,
            "grid_column": null,
            "grid_gap": null,
            "grid_row": null,
            "grid_template_areas": null,
            "grid_template_columns": null,
            "grid_template_rows": null,
            "height": null,
            "justify_content": null,
            "justify_items": null,
            "left": null,
            "margin": null,
            "max_height": null,
            "max_width": null,
            "min_height": null,
            "min_width": null,
            "object_fit": null,
            "object_position": null,
            "order": null,
            "overflow": null,
            "overflow_x": null,
            "overflow_y": null,
            "padding": null,
            "right": null,
            "top": null,
            "visibility": null,
            "width": null
          }
        },
        "8e7e033296314a938793b277365529c5": {
          "model_module": "@jupyter-widgets/controls",
          "model_module_version": "1.5.0",
          "model_name": "DescriptionStyleModel",
          "state": {
            "_model_module": "@jupyter-widgets/controls",
            "_model_module_version": "1.5.0",
            "_model_name": "DescriptionStyleModel",
            "_view_count": null,
            "_view_module": "@jupyter-widgets/base",
            "_view_module_version": "1.2.0",
            "_view_name": "StyleView",
            "description_width": ""
          }
        },
        "906faf38e3e54b35ab291845932a2517": {
          "model_module": "@jupyter-widgets/controls",
          "model_module_version": "1.5.0",
          "model_name": "FloatProgressModel",
          "state": {
            "_dom_classes": [],
            "_model_module": "@jupyter-widgets/controls",
            "_model_module_version": "1.5.0",
            "_model_name": "FloatProgressModel",
            "_view_count": null,
            "_view_module": "@jupyter-widgets/controls",
            "_view_module_version": "1.5.0",
            "_view_name": "ProgressView",
            "bar_style": "success",
            "description": "",
            "description_tooltip": null,
            "layout": "IPY_MODEL_ac6e99ac7be14080a164dd1aa71e1ce8",
            "max": 570,
            "min": 0,
            "orientation": "horizontal",
            "style": "IPY_MODEL_47b16ea27ce9477f9825f93ca4d56f8e",
            "value": 570
          }
        },
        "90cfa61c0e6f488fb39fd6320c0a1768": {
          "model_module": "@jupyter-widgets/base",
          "model_module_version": "1.2.0",
          "model_name": "LayoutModel",
          "state": {
            "_model_module": "@jupyter-widgets/base",
            "_model_module_version": "1.2.0",
            "_model_name": "LayoutModel",
            "_view_count": null,
            "_view_module": "@jupyter-widgets/base",
            "_view_module_version": "1.2.0",
            "_view_name": "LayoutView",
            "align_content": null,
            "align_items": null,
            "align_self": null,
            "border": null,
            "bottom": null,
            "display": null,
            "flex": null,
            "flex_flow": null,
            "grid_area": null,
            "grid_auto_columns": null,
            "grid_auto_flow": null,
            "grid_auto_rows": null,
            "grid_column": null,
            "grid_gap": null,
            "grid_row": null,
            "grid_template_areas": null,
            "grid_template_columns": null,
            "grid_template_rows": null,
            "height": null,
            "justify_content": null,
            "justify_items": null,
            "left": null,
            "margin": null,
            "max_height": null,
            "max_width": null,
            "min_height": null,
            "min_width": null,
            "object_fit": null,
            "object_position": null,
            "order": null,
            "overflow": null,
            "overflow_x": null,
            "overflow_y": null,
            "padding": null,
            "right": null,
            "top": null,
            "visibility": null,
            "width": null
          }
        },
        "9108f58135654cb1b077805423efcffa": {
          "model_module": "@jupyter-widgets/base",
          "model_module_version": "1.2.0",
          "model_name": "LayoutModel",
          "state": {
            "_model_module": "@jupyter-widgets/base",
            "_model_module_version": "1.2.0",
            "_model_name": "LayoutModel",
            "_view_count": null,
            "_view_module": "@jupyter-widgets/base",
            "_view_module_version": "1.2.0",
            "_view_name": "LayoutView",
            "align_content": null,
            "align_items": null,
            "align_self": null,
            "border": null,
            "bottom": null,
            "display": null,
            "flex": null,
            "flex_flow": null,
            "grid_area": null,
            "grid_auto_columns": null,
            "grid_auto_flow": null,
            "grid_auto_rows": null,
            "grid_column": null,
            "grid_gap": null,
            "grid_row": null,
            "grid_template_areas": null,
            "grid_template_columns": null,
            "grid_template_rows": null,
            "height": null,
            "justify_content": null,
            "justify_items": null,
            "left": null,
            "margin": null,
            "max_height": null,
            "max_width": null,
            "min_height": null,
            "min_width": null,
            "object_fit": null,
            "object_position": null,
            "order": null,
            "overflow": null,
            "overflow_x": null,
            "overflow_y": null,
            "padding": null,
            "right": null,
            "top": null,
            "visibility": null,
            "width": null
          }
        },
        "93c2a9951aa34e058cf572db89ffd327": {
          "model_module": "@jupyter-widgets/base",
          "model_module_version": "1.2.0",
          "model_name": "LayoutModel",
          "state": {
            "_model_module": "@jupyter-widgets/base",
            "_model_module_version": "1.2.0",
            "_model_name": "LayoutModel",
            "_view_count": null,
            "_view_module": "@jupyter-widgets/base",
            "_view_module_version": "1.2.0",
            "_view_name": "LayoutView",
            "align_content": null,
            "align_items": null,
            "align_self": null,
            "border": null,
            "bottom": null,
            "display": null,
            "flex": null,
            "flex_flow": null,
            "grid_area": null,
            "grid_auto_columns": null,
            "grid_auto_flow": null,
            "grid_auto_rows": null,
            "grid_column": null,
            "grid_gap": null,
            "grid_row": null,
            "grid_template_areas": null,
            "grid_template_columns": null,
            "grid_template_rows": null,
            "height": null,
            "justify_content": null,
            "justify_items": null,
            "left": null,
            "margin": null,
            "max_height": null,
            "max_width": null,
            "min_height": null,
            "min_width": null,
            "object_fit": null,
            "object_position": null,
            "order": null,
            "overflow": null,
            "overflow_x": null,
            "overflow_y": null,
            "padding": null,
            "right": null,
            "top": null,
            "visibility": null,
            "width": null
          }
        },
        "94a15574f0fe416a8824f26ab1d076e8": {
          "model_module": "@jupyter-widgets/controls",
          "model_module_version": "1.5.0",
          "model_name": "DescriptionStyleModel",
          "state": {
            "_model_module": "@jupyter-widgets/controls",
            "_model_module_version": "1.5.0",
            "_model_name": "DescriptionStyleModel",
            "_view_count": null,
            "_view_module": "@jupyter-widgets/base",
            "_view_module_version": "1.2.0",
            "_view_name": "StyleView",
            "description_width": ""
          }
        },
        "95058bd86cb54ff79ab96a63a5c38b44": {
          "model_module": "@jupyter-widgets/controls",
          "model_module_version": "1.5.0",
          "model_name": "DescriptionStyleModel",
          "state": {
            "_model_module": "@jupyter-widgets/controls",
            "_model_module_version": "1.5.0",
            "_model_name": "DescriptionStyleModel",
            "_view_count": null,
            "_view_module": "@jupyter-widgets/base",
            "_view_module_version": "1.2.0",
            "_view_name": "StyleView",
            "description_width": ""
          }
        },
        "976275042e2f43de8176f5f9df10e421": {
          "model_module": "@jupyter-widgets/base",
          "model_module_version": "1.2.0",
          "model_name": "LayoutModel",
          "state": {
            "_model_module": "@jupyter-widgets/base",
            "_model_module_version": "1.2.0",
            "_model_name": "LayoutModel",
            "_view_count": null,
            "_view_module": "@jupyter-widgets/base",
            "_view_module_version": "1.2.0",
            "_view_name": "LayoutView",
            "align_content": null,
            "align_items": null,
            "align_self": null,
            "border": null,
            "bottom": null,
            "display": null,
            "flex": null,
            "flex_flow": null,
            "grid_area": null,
            "grid_auto_columns": null,
            "grid_auto_flow": null,
            "grid_auto_rows": null,
            "grid_column": null,
            "grid_gap": null,
            "grid_row": null,
            "grid_template_areas": null,
            "grid_template_columns": null,
            "grid_template_rows": null,
            "height": null,
            "justify_content": null,
            "justify_items": null,
            "left": null,
            "margin": null,
            "max_height": null,
            "max_width": null,
            "min_height": null,
            "min_width": null,
            "object_fit": null,
            "object_position": null,
            "order": null,
            "overflow": null,
            "overflow_x": null,
            "overflow_y": null,
            "padding": null,
            "right": null,
            "top": null,
            "visibility": null,
            "width": null
          }
        },
        "9894c44faadd4f3d84b12011244bb838": {
          "model_module": "@jupyter-widgets/controls",
          "model_module_version": "1.5.0",
          "model_name": "ProgressStyleModel",
          "state": {
            "_model_module": "@jupyter-widgets/controls",
            "_model_module_version": "1.5.0",
            "_model_name": "ProgressStyleModel",
            "_view_count": null,
            "_view_module": "@jupyter-widgets/base",
            "_view_module_version": "1.2.0",
            "_view_name": "StyleView",
            "bar_color": null,
            "description_width": ""
          }
        },
        "98f337b1830f451b9f8effd294f59642": {
          "model_module": "@jupyter-widgets/controls",
          "model_module_version": "1.5.0",
          "model_name": "HTMLModel",
          "state": {
            "_dom_classes": [],
            "_model_module": "@jupyter-widgets/controls",
            "_model_module_version": "1.5.0",
            "_model_name": "HTMLModel",
            "_view_count": null,
            "_view_module": "@jupyter-widgets/controls",
            "_view_module_version": "1.5.0",
            "_view_name": "HTMLView",
            "description": "",
            "description_tooltip": null,
            "layout": "IPY_MODEL_8de74f4d417b49b7a878c348af399f5f",
            "placeholder": "​",
            "style": "IPY_MODEL_faab3da741664ea68370ab34362826d1",
            "value": " 213k/213k [00:00&lt;00:00, 4.42MB/s]"
          }
        },
        "9b0206682e5e4b6a998635affbddcc98": {
          "model_module": "@jupyter-widgets/controls",
          "model_module_version": "1.5.0",
          "model_name": "DescriptionStyleModel",
          "state": {
            "_model_module": "@jupyter-widgets/controls",
            "_model_module_version": "1.5.0",
            "_model_name": "DescriptionStyleModel",
            "_view_count": null,
            "_view_module": "@jupyter-widgets/base",
            "_view_module_version": "1.2.0",
            "_view_name": "StyleView",
            "description_width": ""
          }
        },
        "9c302257085b47aba7fe66c9e6d91a22": {
          "model_module": "@jupyter-widgets/base",
          "model_module_version": "1.2.0",
          "model_name": "LayoutModel",
          "state": {
            "_model_module": "@jupyter-widgets/base",
            "_model_module_version": "1.2.0",
            "_model_name": "LayoutModel",
            "_view_count": null,
            "_view_module": "@jupyter-widgets/base",
            "_view_module_version": "1.2.0",
            "_view_name": "LayoutView",
            "align_content": null,
            "align_items": null,
            "align_self": null,
            "border": null,
            "bottom": null,
            "display": null,
            "flex": null,
            "flex_flow": null,
            "grid_area": null,
            "grid_auto_columns": null,
            "grid_auto_flow": null,
            "grid_auto_rows": null,
            "grid_column": null,
            "grid_gap": null,
            "grid_row": null,
            "grid_template_areas": null,
            "grid_template_columns": null,
            "grid_template_rows": null,
            "height": null,
            "justify_content": null,
            "justify_items": null,
            "left": null,
            "margin": null,
            "max_height": null,
            "max_width": null,
            "min_height": null,
            "min_width": null,
            "object_fit": null,
            "object_position": null,
            "order": null,
            "overflow": null,
            "overflow_x": null,
            "overflow_y": null,
            "padding": null,
            "right": null,
            "top": null,
            "visibility": null,
            "width": null
          }
        },
        "9df6c0f1bd0b46f6a9e959135b7b80de": {
          "model_module": "@jupyter-widgets/controls",
          "model_module_version": "1.5.0",
          "model_name": "DescriptionStyleModel",
          "state": {
            "_model_module": "@jupyter-widgets/controls",
            "_model_module_version": "1.5.0",
            "_model_name": "DescriptionStyleModel",
            "_view_count": null,
            "_view_module": "@jupyter-widgets/base",
            "_view_module_version": "1.2.0",
            "_view_name": "StyleView",
            "description_width": ""
          }
        },
        "9e8997505f2647a3aa0238071822b391": {
          "model_module": "@jupyter-widgets/controls",
          "model_module_version": "1.5.0",
          "model_name": "DescriptionStyleModel",
          "state": {
            "_model_module": "@jupyter-widgets/controls",
            "_model_module_version": "1.5.0",
            "_model_name": "DescriptionStyleModel",
            "_view_count": null,
            "_view_module": "@jupyter-widgets/base",
            "_view_module_version": "1.2.0",
            "_view_name": "StyleView",
            "description_width": ""
          }
        },
        "9fd98303624b41b8b020cbed9b8a927e": {
          "model_module": "@jupyter-widgets/base",
          "model_module_version": "1.2.0",
          "model_name": "LayoutModel",
          "state": {
            "_model_module": "@jupyter-widgets/base",
            "_model_module_version": "1.2.0",
            "_model_name": "LayoutModel",
            "_view_count": null,
            "_view_module": "@jupyter-widgets/base",
            "_view_module_version": "1.2.0",
            "_view_name": "LayoutView",
            "align_content": null,
            "align_items": null,
            "align_self": null,
            "border": null,
            "bottom": null,
            "display": null,
            "flex": null,
            "flex_flow": null,
            "grid_area": null,
            "grid_auto_columns": null,
            "grid_auto_flow": null,
            "grid_auto_rows": null,
            "grid_column": null,
            "grid_gap": null,
            "grid_row": null,
            "grid_template_areas": null,
            "grid_template_columns": null,
            "grid_template_rows": null,
            "height": null,
            "justify_content": null,
            "justify_items": null,
            "left": null,
            "margin": null,
            "max_height": null,
            "max_width": null,
            "min_height": null,
            "min_width": null,
            "object_fit": null,
            "object_position": null,
            "order": null,
            "overflow": null,
            "overflow_x": null,
            "overflow_y": null,
            "padding": null,
            "right": null,
            "top": null,
            "visibility": null,
            "width": null
          }
        },
        "a0a7bbbf40e2480da014104afe7fa3d5": {
          "model_module": "@jupyter-widgets/base",
          "model_module_version": "1.2.0",
          "model_name": "LayoutModel",
          "state": {
            "_model_module": "@jupyter-widgets/base",
            "_model_module_version": "1.2.0",
            "_model_name": "LayoutModel",
            "_view_count": null,
            "_view_module": "@jupyter-widgets/base",
            "_view_module_version": "1.2.0",
            "_view_name": "LayoutView",
            "align_content": null,
            "align_items": null,
            "align_self": null,
            "border": null,
            "bottom": null,
            "display": null,
            "flex": null,
            "flex_flow": null,
            "grid_area": null,
            "grid_auto_columns": null,
            "grid_auto_flow": null,
            "grid_auto_rows": null,
            "grid_column": null,
            "grid_gap": null,
            "grid_row": null,
            "grid_template_areas": null,
            "grid_template_columns": null,
            "grid_template_rows": null,
            "height": null,
            "justify_content": null,
            "justify_items": null,
            "left": null,
            "margin": null,
            "max_height": null,
            "max_width": null,
            "min_height": null,
            "min_width": null,
            "object_fit": null,
            "object_position": null,
            "order": null,
            "overflow": null,
            "overflow_x": null,
            "overflow_y": null,
            "padding": null,
            "right": null,
            "top": null,
            "visibility": null,
            "width": null
          }
        },
        "a17a7ab6032a4bc688f078214a089580": {
          "model_module": "@jupyter-widgets/controls",
          "model_module_version": "1.5.0",
          "model_name": "ProgressStyleModel",
          "state": {
            "_model_module": "@jupyter-widgets/controls",
            "_model_module_version": "1.5.0",
            "_model_name": "ProgressStyleModel",
            "_view_count": null,
            "_view_module": "@jupyter-widgets/base",
            "_view_module_version": "1.2.0",
            "_view_name": "StyleView",
            "bar_color": null,
            "description_width": ""
          }
        },
        "a310f4e279ab40c1bd1bd5e6750c9a03": {
          "model_module": "@jupyter-widgets/controls",
          "model_module_version": "1.5.0",
          "model_name": "ProgressStyleModel",
          "state": {
            "_model_module": "@jupyter-widgets/controls",
            "_model_module_version": "1.5.0",
            "_model_name": "ProgressStyleModel",
            "_view_count": null,
            "_view_module": "@jupyter-widgets/base",
            "_view_module_version": "1.2.0",
            "_view_name": "StyleView",
            "bar_color": null,
            "description_width": ""
          }
        },
        "a4acc8863d144413b491673223cb6102": {
          "model_module": "@jupyter-widgets/controls",
          "model_module_version": "1.5.0",
          "model_name": "ProgressStyleModel",
          "state": {
            "_model_module": "@jupyter-widgets/controls",
            "_model_module_version": "1.5.0",
            "_model_name": "ProgressStyleModel",
            "_view_count": null,
            "_view_module": "@jupyter-widgets/base",
            "_view_module_version": "1.2.0",
            "_view_name": "StyleView",
            "bar_color": null,
            "description_width": ""
          }
        },
        "a60ee8f9d7a241e9a0fdcf1807599411": {
          "model_module": "@jupyter-widgets/base",
          "model_module_version": "1.2.0",
          "model_name": "LayoutModel",
          "state": {
            "_model_module": "@jupyter-widgets/base",
            "_model_module_version": "1.2.0",
            "_model_name": "LayoutModel",
            "_view_count": null,
            "_view_module": "@jupyter-widgets/base",
            "_view_module_version": "1.2.0",
            "_view_name": "LayoutView",
            "align_content": null,
            "align_items": null,
            "align_self": null,
            "border": null,
            "bottom": null,
            "display": null,
            "flex": null,
            "flex_flow": null,
            "grid_area": null,
            "grid_auto_columns": null,
            "grid_auto_flow": null,
            "grid_auto_rows": null,
            "grid_column": null,
            "grid_gap": null,
            "grid_row": null,
            "grid_template_areas": null,
            "grid_template_columns": null,
            "grid_template_rows": null,
            "height": null,
            "justify_content": null,
            "justify_items": null,
            "left": null,
            "margin": null,
            "max_height": null,
            "max_width": null,
            "min_height": null,
            "min_width": null,
            "object_fit": null,
            "object_position": null,
            "order": null,
            "overflow": null,
            "overflow_x": null,
            "overflow_y": null,
            "padding": null,
            "right": null,
            "top": null,
            "visibility": null,
            "width": null
          }
        },
        "a6c0e3ab2e2f45f1a152e4036c2f2433": {
          "model_module": "@jupyter-widgets/controls",
          "model_module_version": "1.5.0",
          "model_name": "HTMLModel",
          "state": {
            "_dom_classes": [],
            "_model_module": "@jupyter-widgets/controls",
            "_model_module_version": "1.5.0",
            "_model_name": "HTMLModel",
            "_view_count": null,
            "_view_module": "@jupyter-widgets/controls",
            "_view_module_version": "1.5.0",
            "_view_name": "HTMLView",
            "description": "",
            "description_tooltip": null,
            "layout": "IPY_MODEL_11d235d753304ef5980c436230fcd4a3",
            "placeholder": "​",
            "style": "IPY_MODEL_59f8f5ffdbc9432ea95abb88b62bf818",
            "value": "merges.txt: 100%"
          }
        },
        "a6e4c9795e4e43e5b1d47827c0ef82c8": {
          "model_module": "@jupyter-widgets/controls",
          "model_module_version": "1.5.0",
          "model_name": "HTMLModel",
          "state": {
            "_dom_classes": [],
            "_model_module": "@jupyter-widgets/controls",
            "_model_module_version": "1.5.0",
            "_model_name": "HTMLModel",
            "_view_count": null,
            "_view_module": "@jupyter-widgets/controls",
            "_view_module_version": "1.5.0",
            "_view_name": "HTMLView",
            "description": "",
            "description_tooltip": null,
            "layout": "IPY_MODEL_52a9039673c949af8bb36c1b10e17ac6",
            "placeholder": "​",
            "style": "IPY_MODEL_b9b89b1845bf4a67abb29b83fa5d7287",
            "value": " 25.0/25.0 [00:00&lt;00:00, 448B/s]"
          }
        },
        "a9ed950252a54852861269f0c0085663": {
          "model_module": "@jupyter-widgets/controls",
          "model_module_version": "1.5.0",
          "model_name": "HTMLModel",
          "state": {
            "_dom_classes": [],
            "_model_module": "@jupyter-widgets/controls",
            "_model_module_version": "1.5.0",
            "_model_name": "HTMLModel",
            "_view_count": null,
            "_view_module": "@jupyter-widgets/controls",
            "_view_module_version": "1.5.0",
            "_view_name": "HTMLView",
            "description": "",
            "description_tooltip": null,
            "layout": "IPY_MODEL_0a084f8f78444c309490ca312c665dfc",
            "placeholder": "​",
            "style": "IPY_MODEL_8e7e033296314a938793b277365529c5",
            "value": " 570/570 [00:00&lt;00:00, 16.6kB/s]"
          }
        },
        "a9fc41bb6223425cb01fd117b1f83804": {
          "model_module": "@jupyter-widgets/base",
          "model_module_version": "1.2.0",
          "model_name": "LayoutModel",
          "state": {
            "_model_module": "@jupyter-widgets/base",
            "_model_module_version": "1.2.0",
            "_model_name": "LayoutModel",
            "_view_count": null,
            "_view_module": "@jupyter-widgets/base",
            "_view_module_version": "1.2.0",
            "_view_name": "LayoutView",
            "align_content": null,
            "align_items": null,
            "align_self": null,
            "border": null,
            "bottom": null,
            "display": null,
            "flex": null,
            "flex_flow": null,
            "grid_area": null,
            "grid_auto_columns": null,
            "grid_auto_flow": null,
            "grid_auto_rows": null,
            "grid_column": null,
            "grid_gap": null,
            "grid_row": null,
            "grid_template_areas": null,
            "grid_template_columns": null,
            "grid_template_rows": null,
            "height": null,
            "justify_content": null,
            "justify_items": null,
            "left": null,
            "margin": null,
            "max_height": null,
            "max_width": null,
            "min_height": null,
            "min_width": null,
            "object_fit": null,
            "object_position": null,
            "order": null,
            "overflow": null,
            "overflow_x": null,
            "overflow_y": null,
            "padding": null,
            "right": null,
            "top": null,
            "visibility": null,
            "width": null
          }
        },
        "aac6a53964bd4eeeb9e4f7bf11db3434": {
          "model_module": "@jupyter-widgets/controls",
          "model_module_version": "1.5.0",
          "model_name": "DescriptionStyleModel",
          "state": {
            "_model_module": "@jupyter-widgets/controls",
            "_model_module_version": "1.5.0",
            "_model_name": "DescriptionStyleModel",
            "_view_count": null,
            "_view_module": "@jupyter-widgets/base",
            "_view_module_version": "1.2.0",
            "_view_name": "StyleView",
            "description_width": ""
          }
        },
        "abffa86ae92843ee805bfec35797881c": {
          "model_module": "@jupyter-widgets/controls",
          "model_module_version": "1.5.0",
          "model_name": "ProgressStyleModel",
          "state": {
            "_model_module": "@jupyter-widgets/controls",
            "_model_module_version": "1.5.0",
            "_model_name": "ProgressStyleModel",
            "_view_count": null,
            "_view_module": "@jupyter-widgets/base",
            "_view_module_version": "1.2.0",
            "_view_name": "StyleView",
            "bar_color": null,
            "description_width": ""
          }
        },
        "ac6e99ac7be14080a164dd1aa71e1ce8": {
          "model_module": "@jupyter-widgets/base",
          "model_module_version": "1.2.0",
          "model_name": "LayoutModel",
          "state": {
            "_model_module": "@jupyter-widgets/base",
            "_model_module_version": "1.2.0",
            "_model_name": "LayoutModel",
            "_view_count": null,
            "_view_module": "@jupyter-widgets/base",
            "_view_module_version": "1.2.0",
            "_view_name": "LayoutView",
            "align_content": null,
            "align_items": null,
            "align_self": null,
            "border": null,
            "bottom": null,
            "display": null,
            "flex": null,
            "flex_flow": null,
            "grid_area": null,
            "grid_auto_columns": null,
            "grid_auto_flow": null,
            "grid_auto_rows": null,
            "grid_column": null,
            "grid_gap": null,
            "grid_row": null,
            "grid_template_areas": null,
            "grid_template_columns": null,
            "grid_template_rows": null,
            "height": null,
            "justify_content": null,
            "justify_items": null,
            "left": null,
            "margin": null,
            "max_height": null,
            "max_width": null,
            "min_height": null,
            "min_width": null,
            "object_fit": null,
            "object_position": null,
            "order": null,
            "overflow": null,
            "overflow_x": null,
            "overflow_y": null,
            "padding": null,
            "right": null,
            "top": null,
            "visibility": null,
            "width": null
          }
        },
        "b00f04e5dd7e4e42a6691fc21c712d68": {
          "model_module": "@jupyter-widgets/controls",
          "model_module_version": "1.5.0",
          "model_name": "HTMLModel",
          "state": {
            "_dom_classes": [],
            "_model_module": "@jupyter-widgets/controls",
            "_model_module_version": "1.5.0",
            "_model_name": "HTMLModel",
            "_view_count": null,
            "_view_module": "@jupyter-widgets/controls",
            "_view_module_version": "1.5.0",
            "_view_name": "HTMLView",
            "description": "",
            "description_tooltip": null,
            "layout": "IPY_MODEL_0be9ee05304f478389f4bf511cfb7674",
            "placeholder": "​",
            "style": "IPY_MODEL_45289eb9c1604edb9ebd135c77365694",
            "value": " 456k/456k [00:00&lt;00:00, 8.38MB/s]"
          }
        },
        "b9b89b1845bf4a67abb29b83fa5d7287": {
          "model_module": "@jupyter-widgets/controls",
          "model_module_version": "1.5.0",
          "model_name": "DescriptionStyleModel",
          "state": {
            "_model_module": "@jupyter-widgets/controls",
            "_model_module_version": "1.5.0",
            "_model_name": "DescriptionStyleModel",
            "_view_count": null,
            "_view_module": "@jupyter-widgets/base",
            "_view_module_version": "1.2.0",
            "_view_name": "StyleView",
            "description_width": ""
          }
        },
        "ba0d1033cc7844f488b647f65e8f7fba": {
          "model_module": "@jupyter-widgets/controls",
          "model_module_version": "1.5.0",
          "model_name": "ProgressStyleModel",
          "state": {
            "_model_module": "@jupyter-widgets/controls",
            "_model_module_version": "1.5.0",
            "_model_name": "ProgressStyleModel",
            "_view_count": null,
            "_view_module": "@jupyter-widgets/base",
            "_view_module_version": "1.2.0",
            "_view_name": "StyleView",
            "bar_color": null,
            "description_width": ""
          }
        },
        "ba4106a129a049c286bb9a4150022a23": {
          "model_module": "@jupyter-widgets/base",
          "model_module_version": "1.2.0",
          "model_name": "LayoutModel",
          "state": {
            "_model_module": "@jupyter-widgets/base",
            "_model_module_version": "1.2.0",
            "_model_name": "LayoutModel",
            "_view_count": null,
            "_view_module": "@jupyter-widgets/base",
            "_view_module_version": "1.2.0",
            "_view_name": "LayoutView",
            "align_content": null,
            "align_items": null,
            "align_self": null,
            "border": null,
            "bottom": null,
            "display": null,
            "flex": null,
            "flex_flow": null,
            "grid_area": null,
            "grid_auto_columns": null,
            "grid_auto_flow": null,
            "grid_auto_rows": null,
            "grid_column": null,
            "grid_gap": null,
            "grid_row": null,
            "grid_template_areas": null,
            "grid_template_columns": null,
            "grid_template_rows": null,
            "height": null,
            "justify_content": null,
            "justify_items": null,
            "left": null,
            "margin": null,
            "max_height": null,
            "max_width": null,
            "min_height": null,
            "min_width": null,
            "object_fit": null,
            "object_position": null,
            "order": null,
            "overflow": null,
            "overflow_x": null,
            "overflow_y": null,
            "padding": null,
            "right": null,
            "top": null,
            "visibility": null,
            "width": null
          }
        },
        "bad06f4066b04bfe80054c5374c97cf4": {
          "model_module": "@jupyter-widgets/controls",
          "model_module_version": "1.5.0",
          "model_name": "HTMLModel",
          "state": {
            "_dom_classes": [],
            "_model_module": "@jupyter-widgets/controls",
            "_model_module_version": "1.5.0",
            "_model_name": "HTMLModel",
            "_view_count": null,
            "_view_module": "@jupyter-widgets/controls",
            "_view_module_version": "1.5.0",
            "_view_name": "HTMLView",
            "description": "",
            "description_tooltip": null,
            "layout": "IPY_MODEL_cebfad988c8e4023bb86b0eef56f3881",
            "placeholder": "​",
            "style": "IPY_MODEL_52ffcc174240418b8d017f9718d971b7",
            "value": "vocab.txt: 100%"
          }
        },
        "bc4394876e5546d49a29f5f790d24242": {
          "model_module": "@jupyter-widgets/controls",
          "model_module_version": "1.5.0",
          "model_name": "HBoxModel",
          "state": {
            "_dom_classes": [],
            "_model_module": "@jupyter-widgets/controls",
            "_model_module_version": "1.5.0",
            "_model_name": "HBoxModel",
            "_view_count": null,
            "_view_module": "@jupyter-widgets/controls",
            "_view_module_version": "1.5.0",
            "_view_name": "HBoxView",
            "box_style": "",
            "children": [
              "IPY_MODEL_6f00de9b799a4f91a19b32e3b66ad365",
              "IPY_MODEL_ef623be4cbbb4627bcbbb4549e5df574",
              "IPY_MODEL_cdc389ce89644ed8aee03ff23b888744"
            ],
            "layout": "IPY_MODEL_014362a5a3234d42a8311c0ee54074a4"
          }
        },
        "bea4e7fc5d0e42928bf2cf07fbe83024": {
          "model_module": "@jupyter-widgets/controls",
          "model_module_version": "1.5.0",
          "model_name": "HBoxModel",
          "state": {
            "_dom_classes": [],
            "_model_module": "@jupyter-widgets/controls",
            "_model_module_version": "1.5.0",
            "_model_name": "HBoxModel",
            "_view_count": null,
            "_view_module": "@jupyter-widgets/controls",
            "_view_module_version": "1.5.0",
            "_view_name": "HBoxView",
            "box_style": "",
            "children": [
              "IPY_MODEL_865abb4efd7d4e8bb810feab66b852c7",
              "IPY_MODEL_037ed4db61594840954087dd07adb21d",
              "IPY_MODEL_98f337b1830f451b9f8effd294f59642"
            ],
            "layout": "IPY_MODEL_41dca53141254cbda2f3f718b1e4cb2a"
          }
        },
        "c4b8c201be70445d9a74f5321d717a7f": {
          "model_module": "@jupyter-widgets/base",
          "model_module_version": "1.2.0",
          "model_name": "LayoutModel",
          "state": {
            "_model_module": "@jupyter-widgets/base",
            "_model_module_version": "1.2.0",
            "_model_name": "LayoutModel",
            "_view_count": null,
            "_view_module": "@jupyter-widgets/base",
            "_view_module_version": "1.2.0",
            "_view_name": "LayoutView",
            "align_content": null,
            "align_items": null,
            "align_self": null,
            "border": null,
            "bottom": null,
            "display": null,
            "flex": null,
            "flex_flow": null,
            "grid_area": null,
            "grid_auto_columns": null,
            "grid_auto_flow": null,
            "grid_auto_rows": null,
            "grid_column": null,
            "grid_gap": null,
            "grid_row": null,
            "grid_template_areas": null,
            "grid_template_columns": null,
            "grid_template_rows": null,
            "height": null,
            "justify_content": null,
            "justify_items": null,
            "left": null,
            "margin": null,
            "max_height": null,
            "max_width": null,
            "min_height": null,
            "min_width": null,
            "object_fit": null,
            "object_position": null,
            "order": null,
            "overflow": null,
            "overflow_x": null,
            "overflow_y": null,
            "padding": null,
            "right": null,
            "top": null,
            "visibility": null,
            "width": null
          }
        },
        "c6bfbbd6afcc4c9ebdd8d75229b34170": {
          "model_module": "@jupyter-widgets/controls",
          "model_module_version": "1.5.0",
          "model_name": "FloatProgressModel",
          "state": {
            "_dom_classes": [],
            "_model_module": "@jupyter-widgets/controls",
            "_model_module_version": "1.5.0",
            "_model_name": "FloatProgressModel",
            "_view_count": null,
            "_view_module": "@jupyter-widgets/controls",
            "_view_module_version": "1.5.0",
            "_view_name": "ProgressView",
            "bar_style": "success",
            "description": "",
            "description_tooltip": null,
            "layout": "IPY_MODEL_a9fc41bb6223425cb01fd117b1f83804",
            "max": 1355863,
            "min": 0,
            "orientation": "horizontal",
            "style": "IPY_MODEL_a17a7ab6032a4bc688f078214a089580",
            "value": 1355863
          }
        },
        "c797c59a5c7f466f82904e770dbb4e95": {
          "model_module": "@jupyter-widgets/controls",
          "model_module_version": "1.5.0",
          "model_name": "FloatProgressModel",
          "state": {
            "_dom_classes": [],
            "_model_module": "@jupyter-widgets/controls",
            "_model_module_version": "1.5.0",
            "_model_name": "FloatProgressModel",
            "_view_count": null,
            "_view_module": "@jupyter-widgets/controls",
            "_view_module_version": "1.5.0",
            "_view_name": "ProgressView",
            "bar_style": "success",
            "description": "",
            "description_tooltip": null,
            "layout": "IPY_MODEL_4db57834275f4485b999303f16410498",
            "max": 49,
            "min": 0,
            "orientation": "horizontal",
            "style": "IPY_MODEL_7d81ef7f89f34878b1f0963e715af097",
            "value": 49
          }
        },
        "c7e948e2df1c493e922d3121e8cf3e09": {
          "model_module": "@jupyter-widgets/controls",
          "model_module_version": "1.5.0",
          "model_name": "DescriptionStyleModel",
          "state": {
            "_model_module": "@jupyter-widgets/controls",
            "_model_module_version": "1.5.0",
            "_model_name": "DescriptionStyleModel",
            "_view_count": null,
            "_view_module": "@jupyter-widgets/base",
            "_view_module_version": "1.2.0",
            "_view_name": "StyleView",
            "description_width": ""
          }
        },
        "cc58326b3fad4ca8b7ff6c6941b1ca20": {
          "model_module": "@jupyter-widgets/controls",
          "model_module_version": "1.5.0",
          "model_name": "HTMLModel",
          "state": {
            "_dom_classes": [],
            "_model_module": "@jupyter-widgets/controls",
            "_model_module_version": "1.5.0",
            "_model_name": "HTMLModel",
            "_view_count": null,
            "_view_module": "@jupyter-widgets/controls",
            "_view_module_version": "1.5.0",
            "_view_name": "HTMLView",
            "description": "",
            "description_tooltip": null,
            "layout": "IPY_MODEL_86e189431269423c97ee6c282a9e0a29",
            "placeholder": "​",
            "style": "IPY_MODEL_837a2f4c49564e7faf958145c16af07e",
            "value": "vocab.json: 100%"
          }
        },
        "cd382a8c6d9249cb9d7de1ec517c08a4": {
          "model_module": "@jupyter-widgets/controls",
          "model_module_version": "1.5.0",
          "model_name": "FloatProgressModel",
          "state": {
            "_dom_classes": [],
            "_model_module": "@jupyter-widgets/controls",
            "_model_module_version": "1.5.0",
            "_model_name": "FloatProgressModel",
            "_view_count": null,
            "_view_module": "@jupyter-widgets/controls",
            "_view_module_version": "1.5.0",
            "_view_name": "ProgressView",
            "bar_style": "success",
            "description": "",
            "description_tooltip": null,
            "layout": "IPY_MODEL_30c1e8bb61944da1a6fab152b45dea7f",
            "max": 898823,
            "min": 0,
            "orientation": "horizontal",
            "style": "IPY_MODEL_1f5cdd82b81f4282b69e3c7965616d9f",
            "value": 898823
          }
        },
        "cda44c348efe4b1cb994a79b59a74737": {
          "model_module": "@jupyter-widgets/controls",
          "model_module_version": "1.5.0",
          "model_name": "FloatProgressModel",
          "state": {
            "_dom_classes": [],
            "_model_module": "@jupyter-widgets/controls",
            "_model_module_version": "1.5.0",
            "_model_name": "FloatProgressModel",
            "_view_count": null,
            "_view_module": "@jupyter-widgets/controls",
            "_view_module_version": "1.5.0",
            "_view_name": "ProgressView",
            "bar_style": "success",
            "description": "",
            "description_tooltip": null,
            "layout": "IPY_MODEL_60a63307d37d4403854fe0c09aa89efc",
            "max": 456318,
            "min": 0,
            "orientation": "horizontal",
            "style": "IPY_MODEL_a4acc8863d144413b491673223cb6102",
            "value": 456318
          }
        },
        "cdc389ce89644ed8aee03ff23b888744": {
          "model_module": "@jupyter-widgets/controls",
          "model_module_version": "1.5.0",
          "model_name": "HTMLModel",
          "state": {
            "_dom_classes": [],
            "_model_module": "@jupyter-widgets/controls",
            "_model_module_version": "1.5.0",
            "_model_name": "HTMLModel",
            "_view_count": null,
            "_view_module": "@jupyter-widgets/controls",
            "_view_module_version": "1.5.0",
            "_view_name": "HTMLView",
            "description": "",
            "description_tooltip": null,
            "layout": "IPY_MODEL_93c2a9951aa34e058cf572db89ffd327",
            "placeholder": "​",
            "style": "IPY_MODEL_94a15574f0fe416a8824f26ab1d076e8",
            "value": " 1.33G/1.33G [00:09&lt;00:00, 245MB/s]"
          }
        },
        "cebfad988c8e4023bb86b0eef56f3881": {
          "model_module": "@jupyter-widgets/base",
          "model_module_version": "1.2.0",
          "model_name": "LayoutModel",
          "state": {
            "_model_module": "@jupyter-widgets/base",
            "_model_module_version": "1.2.0",
            "_model_name": "LayoutModel",
            "_view_count": null,
            "_view_module": "@jupyter-widgets/base",
            "_view_module_version": "1.2.0",
            "_view_name": "LayoutView",
            "align_content": null,
            "align_items": null,
            "align_self": null,
            "border": null,
            "bottom": null,
            "display": null,
            "flex": null,
            "flex_flow": null,
            "grid_area": null,
            "grid_auto_columns": null,
            "grid_auto_flow": null,
            "grid_auto_rows": null,
            "grid_column": null,
            "grid_gap": null,
            "grid_row": null,
            "grid_template_areas": null,
            "grid_template_columns": null,
            "grid_template_rows": null,
            "height": null,
            "justify_content": null,
            "justify_items": null,
            "left": null,
            "margin": null,
            "max_height": null,
            "max_width": null,
            "min_height": null,
            "min_width": null,
            "object_fit": null,
            "object_position": null,
            "order": null,
            "overflow": null,
            "overflow_x": null,
            "overflow_y": null,
            "padding": null,
            "right": null,
            "top": null,
            "visibility": null,
            "width": null
          }
        },
        "d0120cd1fd5e4407bfeb2df1c6d191e3": {
          "model_module": "@jupyter-widgets/base",
          "model_module_version": "1.2.0",
          "model_name": "LayoutModel",
          "state": {
            "_model_module": "@jupyter-widgets/base",
            "_model_module_version": "1.2.0",
            "_model_name": "LayoutModel",
            "_view_count": null,
            "_view_module": "@jupyter-widgets/base",
            "_view_module_version": "1.2.0",
            "_view_name": "LayoutView",
            "align_content": null,
            "align_items": null,
            "align_self": null,
            "border": null,
            "bottom": null,
            "display": null,
            "flex": null,
            "flex_flow": null,
            "grid_area": null,
            "grid_auto_columns": null,
            "grid_auto_flow": null,
            "grid_auto_rows": null,
            "grid_column": null,
            "grid_gap": null,
            "grid_row": null,
            "grid_template_areas": null,
            "grid_template_columns": null,
            "grid_template_rows": null,
            "height": null,
            "justify_content": null,
            "justify_items": null,
            "left": null,
            "margin": null,
            "max_height": null,
            "max_width": null,
            "min_height": null,
            "min_width": null,
            "object_fit": null,
            "object_position": null,
            "order": null,
            "overflow": null,
            "overflow_x": null,
            "overflow_y": null,
            "padding": null,
            "right": null,
            "top": null,
            "visibility": null,
            "width": null
          }
        },
        "d123caa9355b4bc081ed8b142528045c": {
          "model_module": "@jupyter-widgets/controls",
          "model_module_version": "1.5.0",
          "model_name": "DescriptionStyleModel",
          "state": {
            "_model_module": "@jupyter-widgets/controls",
            "_model_module_version": "1.5.0",
            "_model_name": "DescriptionStyleModel",
            "_view_count": null,
            "_view_module": "@jupyter-widgets/base",
            "_view_module_version": "1.2.0",
            "_view_name": "StyleView",
            "description_width": ""
          }
        },
        "d218e95902754a6d8b94383cbb17bba4": {
          "model_module": "@jupyter-widgets/controls",
          "model_module_version": "1.5.0",
          "model_name": "FloatProgressModel",
          "state": {
            "_dom_classes": [],
            "_model_module": "@jupyter-widgets/controls",
            "_model_module_version": "1.5.0",
            "_model_name": "FloatProgressModel",
            "_view_count": null,
            "_view_module": "@jupyter-widgets/controls",
            "_view_module_version": "1.5.0",
            "_view_name": "ProgressView",
            "bar_style": "success",
            "description": "",
            "description_tooltip": null,
            "layout": "IPY_MODEL_dd0eea488b214f43b21536d4ac2e983a",
            "max": 481,
            "min": 0,
            "orientation": "horizontal",
            "style": "IPY_MODEL_54f0f6c02f5744e69b4a38ca3a667f82",
            "value": 481
          }
        },
        "d2727ff7117e477eb4b62f2fbb981479": {
          "model_module": "@jupyter-widgets/base",
          "model_module_version": "1.2.0",
          "model_name": "LayoutModel",
          "state": {
            "_model_module": "@jupyter-widgets/base",
            "_model_module_version": "1.2.0",
            "_model_name": "LayoutModel",
            "_view_count": null,
            "_view_module": "@jupyter-widgets/base",
            "_view_module_version": "1.2.0",
            "_view_name": "LayoutView",
            "align_content": null,
            "align_items": null,
            "align_self": null,
            "border": null,
            "bottom": null,
            "display": null,
            "flex": null,
            "flex_flow": null,
            "grid_area": null,
            "grid_auto_columns": null,
            "grid_auto_flow": null,
            "grid_auto_rows": null,
            "grid_column": null,
            "grid_gap": null,
            "grid_row": null,
            "grid_template_areas": null,
            "grid_template_columns": null,
            "grid_template_rows": null,
            "height": null,
            "justify_content": null,
            "justify_items": null,
            "left": null,
            "margin": null,
            "max_height": null,
            "max_width": null,
            "min_height": null,
            "min_width": null,
            "object_fit": null,
            "object_position": null,
            "order": null,
            "overflow": null,
            "overflow_x": null,
            "overflow_y": null,
            "padding": null,
            "right": null,
            "top": null,
            "visibility": null,
            "width": null
          }
        },
        "d36ecef34bdc4430b8f21eb60a01c95a": {
          "model_module": "@jupyter-widgets/controls",
          "model_module_version": "1.5.0",
          "model_name": "DescriptionStyleModel",
          "state": {
            "_model_module": "@jupyter-widgets/controls",
            "_model_module_version": "1.5.0",
            "_model_name": "DescriptionStyleModel",
            "_view_count": null,
            "_view_module": "@jupyter-widgets/base",
            "_view_module_version": "1.2.0",
            "_view_name": "StyleView",
            "description_width": ""
          }
        },
        "d38fd3f41e7d445da50e079863a8cf3d": {
          "model_module": "@jupyter-widgets/controls",
          "model_module_version": "1.5.0",
          "model_name": "HTMLModel",
          "state": {
            "_dom_classes": [],
            "_model_module": "@jupyter-widgets/controls",
            "_model_module_version": "1.5.0",
            "_model_name": "HTMLModel",
            "_view_count": null,
            "_view_module": "@jupyter-widgets/controls",
            "_view_module_version": "1.5.0",
            "_view_name": "HTMLView",
            "description": "",
            "description_tooltip": null,
            "layout": "IPY_MODEL_c4b8c201be70445d9a74f5321d717a7f",
            "placeholder": "​",
            "style": "IPY_MODEL_27492203d43141d3822f04b36e73ec5c",
            "value": "tokenizer_config.json: 100%"
          }
        },
        "dcdbda6bfcf34307b3102beaa80f0fd2": {
          "model_module": "@jupyter-widgets/controls",
          "model_module_version": "1.5.0",
          "model_name": "HTMLModel",
          "state": {
            "_dom_classes": [],
            "_model_module": "@jupyter-widgets/controls",
            "_model_module_version": "1.5.0",
            "_model_name": "HTMLModel",
            "_view_count": null,
            "_view_module": "@jupyter-widgets/controls",
            "_view_module_version": "1.5.0",
            "_view_name": "HTMLView",
            "description": "",
            "description_tooltip": null,
            "layout": "IPY_MODEL_8b8166da77684146a79d897f2e4db462",
            "placeholder": "​",
            "style": "IPY_MODEL_52c1f90b094e410fbef646a3fc3a3ecc",
            "value": " 213k/213k [00:00&lt;00:00, 3.00MB/s]"
          }
        },
        "dd0574e9863641dfb0b0c4902176837c": {
          "model_module": "@jupyter-widgets/base",
          "model_module_version": "1.2.0",
          "model_name": "LayoutModel",
          "state": {
            "_model_module": "@jupyter-widgets/base",
            "_model_module_version": "1.2.0",
            "_model_name": "LayoutModel",
            "_view_count": null,
            "_view_module": "@jupyter-widgets/base",
            "_view_module_version": "1.2.0",
            "_view_name": "LayoutView",
            "align_content": null,
            "align_items": null,
            "align_self": null,
            "border": null,
            "bottom": null,
            "display": null,
            "flex": null,
            "flex_flow": null,
            "grid_area": null,
            "grid_auto_columns": null,
            "grid_auto_flow": null,
            "grid_auto_rows": null,
            "grid_column": null,
            "grid_gap": null,
            "grid_row": null,
            "grid_template_areas": null,
            "grid_template_columns": null,
            "grid_template_rows": null,
            "height": null,
            "justify_content": null,
            "justify_items": null,
            "left": null,
            "margin": null,
            "max_height": null,
            "max_width": null,
            "min_height": null,
            "min_width": null,
            "object_fit": null,
            "object_position": null,
            "order": null,
            "overflow": null,
            "overflow_x": null,
            "overflow_y": null,
            "padding": null,
            "right": null,
            "top": null,
            "visibility": null,
            "width": null
          }
        },
        "dd0eea488b214f43b21536d4ac2e983a": {
          "model_module": "@jupyter-widgets/base",
          "model_module_version": "1.2.0",
          "model_name": "LayoutModel",
          "state": {
            "_model_module": "@jupyter-widgets/base",
            "_model_module_version": "1.2.0",
            "_model_name": "LayoutModel",
            "_view_count": null,
            "_view_module": "@jupyter-widgets/base",
            "_view_module_version": "1.2.0",
            "_view_name": "LayoutView",
            "align_content": null,
            "align_items": null,
            "align_self": null,
            "border": null,
            "bottom": null,
            "display": null,
            "flex": null,
            "flex_flow": null,
            "grid_area": null,
            "grid_auto_columns": null,
            "grid_auto_flow": null,
            "grid_auto_rows": null,
            "grid_column": null,
            "grid_gap": null,
            "grid_row": null,
            "grid_template_areas": null,
            "grid_template_columns": null,
            "grid_template_rows": null,
            "height": null,
            "justify_content": null,
            "justify_items": null,
            "left": null,
            "margin": null,
            "max_height": null,
            "max_width": null,
            "min_height": null,
            "min_width": null,
            "object_fit": null,
            "object_position": null,
            "order": null,
            "overflow": null,
            "overflow_x": null,
            "overflow_y": null,
            "padding": null,
            "right": null,
            "top": null,
            "visibility": null,
            "width": null
          }
        },
        "dfc6edb171334a478c4e31cacac1aedf": {
          "model_module": "@jupyter-widgets/base",
          "model_module_version": "1.2.0",
          "model_name": "LayoutModel",
          "state": {
            "_model_module": "@jupyter-widgets/base",
            "_model_module_version": "1.2.0",
            "_model_name": "LayoutModel",
            "_view_count": null,
            "_view_module": "@jupyter-widgets/base",
            "_view_module_version": "1.2.0",
            "_view_name": "LayoutView",
            "align_content": null,
            "align_items": null,
            "align_self": null,
            "border": null,
            "bottom": null,
            "display": null,
            "flex": null,
            "flex_flow": null,
            "grid_area": null,
            "grid_auto_columns": null,
            "grid_auto_flow": null,
            "grid_auto_rows": null,
            "grid_column": null,
            "grid_gap": null,
            "grid_row": null,
            "grid_template_areas": null,
            "grid_template_columns": null,
            "grid_template_rows": null,
            "height": null,
            "justify_content": null,
            "justify_items": null,
            "left": null,
            "margin": null,
            "max_height": null,
            "max_width": null,
            "min_height": null,
            "min_width": null,
            "object_fit": null,
            "object_position": null,
            "order": null,
            "overflow": null,
            "overflow_x": null,
            "overflow_y": null,
            "padding": null,
            "right": null,
            "top": null,
            "visibility": null,
            "width": null
          }
        },
        "e25ea157de5545ad9e85cf9efc89411b": {
          "model_module": "@jupyter-widgets/controls",
          "model_module_version": "1.5.0",
          "model_name": "HTMLModel",
          "state": {
            "_dom_classes": [],
            "_model_module": "@jupyter-widgets/controls",
            "_model_module_version": "1.5.0",
            "_model_name": "HTMLModel",
            "_view_count": null,
            "_view_module": "@jupyter-widgets/controls",
            "_view_module_version": "1.5.0",
            "_view_name": "HTMLView",
            "description": "",
            "description_tooltip": null,
            "layout": "IPY_MODEL_23e49ee6730647c99026b557a2e5a27b",
            "placeholder": "​",
            "style": "IPY_MODEL_0e617c5e7a544bb0b2a3b18ad7c76b17",
            "value": "tokenizer.json: 100%"
          }
        },
        "e28af79054984bba9897c8730dd28a13": {
          "model_module": "@jupyter-widgets/base",
          "model_module_version": "1.2.0",
          "model_name": "LayoutModel",
          "state": {
            "_model_module": "@jupyter-widgets/base",
            "_model_module_version": "1.2.0",
            "_model_name": "LayoutModel",
            "_view_count": null,
            "_view_module": "@jupyter-widgets/base",
            "_view_module_version": "1.2.0",
            "_view_name": "LayoutView",
            "align_content": null,
            "align_items": null,
            "align_self": null,
            "border": null,
            "bottom": null,
            "display": null,
            "flex": null,
            "flex_flow": null,
            "grid_area": null,
            "grid_auto_columns": null,
            "grid_auto_flow": null,
            "grid_auto_rows": null,
            "grid_column": null,
            "grid_gap": null,
            "grid_row": null,
            "grid_template_areas": null,
            "grid_template_columns": null,
            "grid_template_rows": null,
            "height": null,
            "justify_content": null,
            "justify_items": null,
            "left": null,
            "margin": null,
            "max_height": null,
            "max_width": null,
            "min_height": null,
            "min_width": null,
            "object_fit": null,
            "object_position": null,
            "order": null,
            "overflow": null,
            "overflow_x": null,
            "overflow_y": null,
            "padding": null,
            "right": null,
            "top": null,
            "visibility": null,
            "width": null
          }
        },
        "e3961c41581a4b1aa173bbde974e5fcd": {
          "model_module": "@jupyter-widgets/controls",
          "model_module_version": "1.5.0",
          "model_name": "HBoxModel",
          "state": {
            "_dom_classes": [],
            "_model_module": "@jupyter-widgets/controls",
            "_model_module_version": "1.5.0",
            "_model_name": "HBoxModel",
            "_view_count": null,
            "_view_module": "@jupyter-widgets/controls",
            "_view_module_version": "1.5.0",
            "_view_name": "HBoxView",
            "box_style": "",
            "children": [
              "IPY_MODEL_70761c5f3ce949a5a0ec8945a73ecd6e",
              "IPY_MODEL_403664b857284a5c8ef2066b5768553c",
              "IPY_MODEL_4f808f32530b46fd85dbb27b8a4c4ded"
            ],
            "layout": "IPY_MODEL_ba4106a129a049c286bb9a4150022a23"
          }
        },
        "e4a9ed7bb32f4624a938b62a59e17b67": {
          "model_module": "@jupyter-widgets/base",
          "model_module_version": "1.2.0",
          "model_name": "LayoutModel",
          "state": {
            "_model_module": "@jupyter-widgets/base",
            "_model_module_version": "1.2.0",
            "_model_name": "LayoutModel",
            "_view_count": null,
            "_view_module": "@jupyter-widgets/base",
            "_view_module_version": "1.2.0",
            "_view_name": "LayoutView",
            "align_content": null,
            "align_items": null,
            "align_self": null,
            "border": null,
            "bottom": null,
            "display": null,
            "flex": null,
            "flex_flow": null,
            "grid_area": null,
            "grid_auto_columns": null,
            "grid_auto_flow": null,
            "grid_auto_rows": null,
            "grid_column": null,
            "grid_gap": null,
            "grid_row": null,
            "grid_template_areas": null,
            "grid_template_columns": null,
            "grid_template_rows": null,
            "height": null,
            "justify_content": null,
            "justify_items": null,
            "left": null,
            "margin": null,
            "max_height": null,
            "max_width": null,
            "min_height": null,
            "min_width": null,
            "object_fit": null,
            "object_position": null,
            "order": null,
            "overflow": null,
            "overflow_x": null,
            "overflow_y": null,
            "padding": null,
            "right": null,
            "top": null,
            "visibility": null,
            "width": null
          }
        },
        "ef623be4cbbb4627bcbbb4549e5df574": {
          "model_module": "@jupyter-widgets/controls",
          "model_module_version": "1.5.0",
          "model_name": "FloatProgressModel",
          "state": {
            "_dom_classes": [],
            "_model_module": "@jupyter-widgets/controls",
            "_model_module_version": "1.5.0",
            "_model_name": "FloatProgressModel",
            "_view_count": null,
            "_view_module": "@jupyter-widgets/controls",
            "_view_module_version": "1.5.0",
            "_view_name": "ProgressView",
            "bar_style": "success",
            "description": "",
            "description_tooltip": null,
            "layout": "IPY_MODEL_9c302257085b47aba7fe66c9e6d91a22",
            "max": 1334400964,
            "min": 0,
            "orientation": "horizontal",
            "style": "IPY_MODEL_8478a62fe4bc499c94548b68755d1f78",
            "value": 1334400964
          }
        },
        "f4ce4a4388c746849887b558eb1de8d3": {
          "model_module": "@jupyter-widgets/base",
          "model_module_version": "1.2.0",
          "model_name": "LayoutModel",
          "state": {
            "_model_module": "@jupyter-widgets/base",
            "_model_module_version": "1.2.0",
            "_model_name": "LayoutModel",
            "_view_count": null,
            "_view_module": "@jupyter-widgets/base",
            "_view_module_version": "1.2.0",
            "_view_name": "LayoutView",
            "align_content": null,
            "align_items": null,
            "align_self": null,
            "border": null,
            "bottom": null,
            "display": null,
            "flex": null,
            "flex_flow": null,
            "grid_area": null,
            "grid_auto_columns": null,
            "grid_auto_flow": null,
            "grid_auto_rows": null,
            "grid_column": null,
            "grid_gap": null,
            "grid_row": null,
            "grid_template_areas": null,
            "grid_template_columns": null,
            "grid_template_rows": null,
            "height": null,
            "justify_content": null,
            "justify_items": null,
            "left": null,
            "margin": null,
            "max_height": null,
            "max_width": null,
            "min_height": null,
            "min_width": null,
            "object_fit": null,
            "object_position": null,
            "order": null,
            "overflow": null,
            "overflow_x": null,
            "overflow_y": null,
            "padding": null,
            "right": null,
            "top": null,
            "visibility": null,
            "width": null
          }
        },
        "f7e4e695080d49bbaa08e23ca550cdca": {
          "model_module": "@jupyter-widgets/base",
          "model_module_version": "1.2.0",
          "model_name": "LayoutModel",
          "state": {
            "_model_module": "@jupyter-widgets/base",
            "_model_module_version": "1.2.0",
            "_model_name": "LayoutModel",
            "_view_count": null,
            "_view_module": "@jupyter-widgets/base",
            "_view_module_version": "1.2.0",
            "_view_name": "LayoutView",
            "align_content": null,
            "align_items": null,
            "align_self": null,
            "border": null,
            "bottom": null,
            "display": null,
            "flex": null,
            "flex_flow": null,
            "grid_area": null,
            "grid_auto_columns": null,
            "grid_auto_flow": null,
            "grid_auto_rows": null,
            "grid_column": null,
            "grid_gap": null,
            "grid_row": null,
            "grid_template_areas": null,
            "grid_template_columns": null,
            "grid_template_rows": null,
            "height": null,
            "justify_content": null,
            "justify_items": null,
            "left": null,
            "margin": null,
            "max_height": null,
            "max_width": null,
            "min_height": null,
            "min_width": null,
            "object_fit": null,
            "object_position": null,
            "order": null,
            "overflow": null,
            "overflow_x": null,
            "overflow_y": null,
            "padding": null,
            "right": null,
            "top": null,
            "visibility": null,
            "width": null
          }
        },
        "faab3da741664ea68370ab34362826d1": {
          "model_module": "@jupyter-widgets/controls",
          "model_module_version": "1.5.0",
          "model_name": "DescriptionStyleModel",
          "state": {
            "_model_module": "@jupyter-widgets/controls",
            "_model_module_version": "1.5.0",
            "_model_name": "DescriptionStyleModel",
            "_view_count": null,
            "_view_module": "@jupyter-widgets/base",
            "_view_module_version": "1.2.0",
            "_view_name": "StyleView",
            "description_width": ""
          }
        },
        "fda39625c5ea44f1a8b2a0b840d3d128": {
          "model_module": "@jupyter-widgets/controls",
          "model_module_version": "1.5.0",
          "model_name": "HTMLModel",
          "state": {
            "_dom_classes": [],
            "_model_module": "@jupyter-widgets/controls",
            "_model_module_version": "1.5.0",
            "_model_name": "HTMLModel",
            "_view_count": null,
            "_view_module": "@jupyter-widgets/controls",
            "_view_module_version": "1.5.0",
            "_view_name": "HTMLView",
            "description": "",
            "description_tooltip": null,
            "layout": "IPY_MODEL_a0a7bbbf40e2480da014104afe7fa3d5",
            "placeholder": "​",
            "style": "IPY_MODEL_023a64b12266490381fd8773e4079a45",
            "value": "tokenizer_config.json: 100%"
          }
        }
      }
    }
  },
  "nbformat": 4,
  "nbformat_minor": 0
}

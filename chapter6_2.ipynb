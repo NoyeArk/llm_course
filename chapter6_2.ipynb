{
  "cells": [
    {
      "cell_type": "markdown",
      "metadata": {
        "id": "lQS877Qc1mMV"
      },
      "source": [
        "# 1 在QA管道中使用快速tokenizer"
      ]
    },
    {
      "cell_type": "markdown",
      "metadata": {
        "id": "gLrSK5aI12jW"
      },
      "source": [
        "我们现在将深入研究 question-answering 管道，看看如何利用偏移量从上下文（context）中获取当前问题的答案，这与我们在上一节中处理分组实体的方式有些相似。我们会看到如何处理那些因为过长而最终被截断的上下文（context）。"
      ]
    },
    {
      "cell_type": "markdown",
      "metadata": {
        "id": "mDqb4qpP17fK"
      },
      "source": [
        "## 1.1 使用 question-answering 管道"
      ]
    },
    {
      "cell_type": "code",
      "execution_count": 1,
      "metadata": {
        "colab": {
          "base_uri": "https://localhost:8080/",
          "height": 465,
          "referenced_widgets": [
            "7eb6bd945e264bd9892f440b4d86955a",
            "a96ed7e7188b4f8ab30b876be52b47a2",
            "93b1903863c8451181a056e3f4b0105a",
            "97b0ceee396540018e12c9eeeb047bca",
            "8ef3c73929be4950a86432b9ed65ebd5",
            "0f3e3995eb66489c940166ec10f54adf",
            "2dd2d16e86734e9da0cfe34acda70913",
            "c8970f0b718d4beb99cdcc75c0fc75e5",
            "460a9abd39cc4481885c897cccf83dbb",
            "f208755c947540b096cade9922b522bb",
            "e2ad4594032c4e90ba286562d6cb93b2",
            "a0734041f7674279b09022dcfb5e4275",
            "e80e3e32cc2a4bfc8f7fed4de657b535",
            "fe4030e3e88146c6987befe09818b1dd",
            "26cb06ead8a04ccd811dcf5262c94c73",
            "35593928ac6548bc843963a59f83b4b5",
            "1bcb27d0da3f4cddb240eecad745904e",
            "c9db5017db294f0fa986c3d34058ec95",
            "74fc8a805e1d41a7bb6c2cb92fa18d08",
            "b96785f897ff4f1bae17a44def1b4f03",
            "f99ca2ae343a48749d28bfc6d0ec48e9",
            "5826eb96988f4c34a60c0dbc054b4f5a",
            "54f5332ff80f4bdc93745a0b6e83b378",
            "f4d368433b6e4055a7e4c5da9f7c23b7",
            "efe5a90928d74219902819ccd1d43536",
            "d42bd34a58c340518409daf26c6c7ba0",
            "1f6acc2705ea433e814a52d70db6553b",
            "aeb1c45eddde4563b7aab368c70db2e2",
            "a3587eb27568412b9014c656d94dedeb",
            "3287388270484a25acd6dffb91e84878",
            "6b6af387c98245149514778487f8dcbf",
            "127abed2cefd44218d40d2995f4d6790",
            "12ba7b2d2b024b09a4031cc0d14e0a26",
            "a5f8c36872514eb9a561cf1a24439ed3",
            "410ecb490c9d4f0e94261c55d21e1533",
            "93f16db089c6481caa26f5258126f3a3",
            "7e7b227b7f574562bcced7a94d5676b1",
            "c2a09eee4d5a42d481b9f79fc35380bd",
            "bfb7a0e76961402aa4bc9a31daacc94e",
            "7e0667a3840d4643ade35cbeb887ebbe",
            "47e53fcf31fc4063a67700477f629bb4",
            "7f38a0e4b1f84896861a385f0f192a7d",
            "c7e955fe4dd94f55bd0495be72ad7bbd",
            "5c8acfcd851a4b44a78cda1e0e755f0d",
            "e1be718528564d4e9cf9e1c5c307c9a0",
            "f961d15c20ab4650b9974d1cea8ed89e",
            "e949473279d44a34a72806a8483c6210",
            "44d7c7b4653142298465291cfae28b13",
            "78bf5a4da97548b0b3afd0e38ed0923b",
            "172291dfcce647dcbbde4a3456647f6d",
            "a93da26d984f4533b2ee70198e6a4ea6",
            "1f8ca6f04ad44267bde2529a73a92257",
            "f9c50620b2f6434fac9486679e6f875b",
            "9a4156d0ed35499fa6dcf1f9ac185938",
            "a12ee5aa0d774681980834e1d3e8b3ca"
          ]
        },
        "id": "rNY0ltFH1b-g",
        "outputId": "109d00e4-e888-48d9-98e1-04334c19b67d"
      },
      "outputs": [
        {
          "name": "stderr",
          "output_type": "stream",
          "text": [
            "No model was supplied, defaulted to distilbert/distilbert-base-cased-distilled-squad and revision 564e9b5 (https://huggingface.co/distilbert/distilbert-base-cased-distilled-squad).\n",
            "Using a pipeline without specifying a model name and revision in production is not recommended.\n",
            "/usr/local/lib/python3.11/dist-packages/huggingface_hub/utils/_auth.py:94: UserWarning: \n",
            "The secret `HF_TOKEN` does not exist in your Colab secrets.\n",
            "To authenticate with the Hugging Face Hub, create a token in your settings tab (https://huggingface.co/settings/tokens), set it as secret in your Google Colab and restart your session.\n",
            "You will be able to reuse this secret in all of your notebooks.\n",
            "Please note that authentication is recommended but still optional to access public models or datasets.\n",
            "  warnings.warn(\n"
          ]
        },
        {
          "data": {
            "application/vnd.jupyter.widget-view+json": {
              "model_id": "7eb6bd945e264bd9892f440b4d86955a",
              "version_major": 2,
              "version_minor": 0
            },
            "text/plain": [
              "config.json:   0%|          | 0.00/473 [00:00<?, ?B/s]"
            ]
          },
          "metadata": {},
          "output_type": "display_data"
        },
        {
          "name": "stderr",
          "output_type": "stream",
          "text": [
            "Xet Storage is enabled for this repo, but the 'hf_xet' package is not installed. Falling back to regular HTTP download. For better performance, install the package with: `pip install huggingface_hub[hf_xet]` or `pip install hf_xet`\n",
            "WARNING:huggingface_hub.file_download:Xet Storage is enabled for this repo, but the 'hf_xet' package is not installed. Falling back to regular HTTP download. For better performance, install the package with: `pip install huggingface_hub[hf_xet]` or `pip install hf_xet`\n"
          ]
        },
        {
          "data": {
            "application/vnd.jupyter.widget-view+json": {
              "model_id": "a0734041f7674279b09022dcfb5e4275",
              "version_major": 2,
              "version_minor": 0
            },
            "text/plain": [
              "model.safetensors:   0%|          | 0.00/261M [00:00<?, ?B/s]"
            ]
          },
          "metadata": {},
          "output_type": "display_data"
        },
        {
          "data": {
            "application/vnd.jupyter.widget-view+json": {
              "model_id": "54f5332ff80f4bdc93745a0b6e83b378",
              "version_major": 2,
              "version_minor": 0
            },
            "text/plain": [
              "tokenizer_config.json:   0%|          | 0.00/49.0 [00:00<?, ?B/s]"
            ]
          },
          "metadata": {},
          "output_type": "display_data"
        },
        {
          "data": {
            "application/vnd.jupyter.widget-view+json": {
              "model_id": "a5f8c36872514eb9a561cf1a24439ed3",
              "version_major": 2,
              "version_minor": 0
            },
            "text/plain": [
              "vocab.txt:   0%|          | 0.00/213k [00:00<?, ?B/s]"
            ]
          },
          "metadata": {},
          "output_type": "display_data"
        },
        {
          "data": {
            "application/vnd.jupyter.widget-view+json": {
              "model_id": "e1be718528564d4e9cf9e1c5c307c9a0",
              "version_major": 2,
              "version_minor": 0
            },
            "text/plain": [
              "tokenizer.json:   0%|          | 0.00/436k [00:00<?, ?B/s]"
            ]
          },
          "metadata": {},
          "output_type": "display_data"
        },
        {
          "name": "stderr",
          "output_type": "stream",
          "text": [
            "Device set to use cpu\n"
          ]
        },
        {
          "data": {
            "text/plain": [
              "{'score': 0.9802603125572205,\n",
              " 'start': 78,\n",
              " 'end': 106,\n",
              " 'answer': 'Jax, PyTorch, and TensorFlow'}"
            ]
          },
          "execution_count": 1,
          "metadata": {},
          "output_type": "execute_result"
        }
      ],
      "source": [
        "from transformers import pipeline\n",
        "\n",
        "question_answerer = pipeline(\"question-answering\")\n",
        "context = \"\"\"\n",
        "🤗 Transformers is backed by the three most popular deep learning libraries — Jax, PyTorch, and TensorFlow — with a seamless integration\n",
        "between them. It's straightforward to train your models with one before loading them for inference with the other.\n",
        "\"\"\"\n",
        "question = \"Which deep learning libraries back 🤗 Transformers?\"\n",
        "question_answerer(question=question, context=context)"
      ]
    },
    {
      "cell_type": "markdown",
      "metadata": {
        "id": "YEfJAUVS2R6q"
      },
      "source": [
        "与其他不能处理超过模型接受的最大长度的文本的管道不同，这个管道可以处理非常长的上下文（context），并且即使答案在末尾也能返回问题的答案："
      ]
    },
    {
      "cell_type": "code",
      "execution_count": 2,
      "metadata": {
        "colab": {
          "base_uri": "https://localhost:8080/"
        },
        "id": "u21RJJHx2NNK",
        "outputId": "404abae7-83e0-4b4c-b95d-21c783ce810a"
      },
      "outputs": [
        {
          "data": {
            "text/plain": [
              "{'score': 0.9714871048927307,\n",
              " 'start': 1892,\n",
              " 'end': 1919,\n",
              " 'answer': 'Jax, PyTorch and TensorFlow'}"
            ]
          },
          "execution_count": 2,
          "metadata": {},
          "output_type": "execute_result"
        }
      ],
      "source": [
        "long_context = \"\"\"\n",
        "🤗 Transformers: State of the Art NLP\n",
        "\n",
        "🤗 Transformers provides thousands of pretrained models to perform tasks on texts such as classification, information extraction,\n",
        "question answering, summarization, translation, text generation and more in over 100 languages.\n",
        "Its aim is to make cutting-edge NLP easier to use for everyone.\n",
        "\n",
        "🤗 Transformers provides APIs to quickly download and use those pretrained models on a given text, fine-tune them on your own datasets and\n",
        "then share them with the community on our model hub. At the same time, each python module defining an architecture is fully standalone and\n",
        "can be modified to enable quick research experiments.\n",
        "\n",
        "Why should I use transformers?\n",
        "\n",
        "1. Easy-to-use state-of-the-art models:\n",
        "  - High performance on NLU and NLG tasks.\n",
        "  - Low barrier to entry for educators and practitioners.\n",
        "  - Few user-facing abstractions with just three classes to learn.\n",
        "  - A unified API for using all our pretrained models.\n",
        "  - Lower compute costs, smaller carbon footprint:\n",
        "\n",
        "2. Researchers can share trained models instead of always retraining.\n",
        "  - Practitioners can reduce compute time and production costs.\n",
        "  - Dozens of architectures with over 10,000 pretrained models, some in more than 100 languages.\n",
        "\n",
        "3. Choose the right framework for every part of a model's lifetime:\n",
        "  - Train state-of-the-art models in 3 lines of code.\n",
        "  - Move a single model between TF2.0/PyTorch frameworks at will.\n",
        "  - Seamlessly pick the right framework for training, evaluation and production.\n",
        "\n",
        "4. Easily customize a model or an example to your needs:\n",
        "  - We provide examples for each architecture to reproduce the results published by its original authors.\n",
        "  - Model internals are exposed as consistently as possible.\n",
        "  - Model files can be used independently of the library for quick experiments.\n",
        "\n",
        "🤗 Transformers is backed by the three most popular deep learning libraries — Jax, PyTorch and TensorFlow — with a seamless integration\n",
        "between them. It's straightforward to train your models with one before loading them for inference with the other.\n",
        "\"\"\"\n",
        "question_answerer(question=question, context=long_context)"
      ]
    },
    {
      "cell_type": "markdown",
      "metadata": {
        "id": "M3vxH1_42dLx"
      },
      "source": [
        "## 1.2 使用模型进行问答"
      ]
    },
    {
      "cell_type": "markdown",
      "metadata": {
        "id": "hMqs4Ptb2ixb"
      },
      "source": [
        "与任何其他管道一样，我们首先对输入进行 tokenize，然后将其传入模型。 question-answering 管道默认情况下用于的 checkpoint 是 distilbert-base-cased-distilled-squad （名字中的”squad”源自模型微调所用的数据集）"
      ]
    },
    {
      "cell_type": "code",
      "execution_count": 3,
      "metadata": {
        "colab": {
          "base_uri": "https://localhost:8080/",
          "height": 233,
          "referenced_widgets": [
            "3c1bea43010d48d883dd60efedbdd66d",
            "4515fce965574ebb823ef83e43e440e9",
            "8db304b4aca84b0dab2d01579476768a",
            "4ff4e4e6fd3849c79e91d1fe3fb437ef",
            "8e374dccb99d4641bbf4d2c71579b9f2",
            "156911a5965f42868b232133ea5af35d",
            "d923a0f84ebf4f9db4fd0b0d1580adbd",
            "e13f8f758405465782d62156983ca92d",
            "fabd0ff4d60043f884487050422bac9b",
            "e47a0878c71240e58d200f3aca648f9b",
            "7eecebdc0bff4b6c873dcfc421edc983",
            "1c228b0cae654e4f92a38f4d72090fed",
            "9db31f9f671e443f9641492a58a18035",
            "984e11ab16564a3b862d7ebceb46f00e",
            "676cd0a01c3843bf85fd634049dba899",
            "b1c81c64b05b4ec1a1490cebf78d6766",
            "7224019a3c0544dfa9071536ee01e558",
            "fc16a15a4dea4f70b0f563012eba7615",
            "2d3d43f546a240e1b9227f9dbef7c0d8",
            "c6972496b8a2437d923f9eef2ff7622e",
            "6b0b85f053da4e97baff5667516adda3",
            "5e46c81fc0464beca821f0cf7c97e531",
            "fb8c22ee395147adaad1be7be356c002",
            "272fd6c524614d1e8e61f646f6e4ee4e",
            "7abd0a3879be4f8dbe989ebd2159bb31",
            "da784e2dfcf74fc1ba703aa8a0c888d8",
            "d2b16059d3b84546bbcd19917145d796",
            "4c179b00de1f4909834120dc729e9563",
            "f34e2230c0684676b67d9d45cde20bbd",
            "4332ec56a940403aabe2ecd3fc88359e",
            "317acf0012fe46fbb7ec9884c8cc2f10",
            "8aa452701e4d420d82474f318a65279f",
            "3f0af97a6cc546579344704f61ca723e",
            "e8dde8eb4eb84179879b6a63a09598d1",
            "3d97a2900d3242c9b0d075eb4c79669e",
            "4029984376a44579afc7f2b5dc3af92e",
            "5bd8cd4a13ad447599683eff98343b68",
            "5a60d4e3566e4986b0cbcd0220698f6f",
            "d1209c0b51494bdbaf71076ddb65f2df",
            "5ca13290b2d64141bd81d6ee094a868b",
            "a86c6ebc2b78484f99a605534df9b0a9",
            "6d45c913da9445559c45e0cfa4ec12ec",
            "dd2a995174974f5384984b772052bb88",
            "3deae13e09824b86a663579c67df9ca9",
            "63d02993c6e84a06aa96f0336dd1b927",
            "37c98524d8c045d8aedbfe1a0b44a358",
            "72922795849040c290d4274941876217",
            "21b0ba19a5ee46279c134226b1eaebcf",
            "3d56450545fe4c4789fc69f033af45b1",
            "a27144a8cda14971ad1909d6dbb5dca2",
            "e68a443cf531439889a81c643dd457b0",
            "f57fd166e5cb4c63bb42ff2cf7fd96e7",
            "d89a2ec7832f4d7a95b6b3257b1e44e7",
            "27736897d51c4f788966423b97b77c70",
            "664560876f844eb49802e9572dfb236b"
          ]
        },
        "id": "hsKs6QvM2bs8",
        "outputId": "cbdffa66-0aa6-455d-d934-ab00c244f1f4"
      },
      "outputs": [
        {
          "data": {
            "application/vnd.jupyter.widget-view+json": {
              "model_id": "3c1bea43010d48d883dd60efedbdd66d",
              "version_major": 2,
              "version_minor": 0
            },
            "text/plain": [
              "tokenizer_config.json:   0%|          | 0.00/49.0 [00:00<?, ?B/s]"
            ]
          },
          "metadata": {},
          "output_type": "display_data"
        },
        {
          "data": {
            "application/vnd.jupyter.widget-view+json": {
              "model_id": "1c228b0cae654e4f92a38f4d72090fed",
              "version_major": 2,
              "version_minor": 0
            },
            "text/plain": [
              "config.json:   0%|          | 0.00/473 [00:00<?, ?B/s]"
            ]
          },
          "metadata": {},
          "output_type": "display_data"
        },
        {
          "data": {
            "application/vnd.jupyter.widget-view+json": {
              "model_id": "fb8c22ee395147adaad1be7be356c002",
              "version_major": 2,
              "version_minor": 0
            },
            "text/plain": [
              "vocab.txt:   0%|          | 0.00/213k [00:00<?, ?B/s]"
            ]
          },
          "metadata": {},
          "output_type": "display_data"
        },
        {
          "data": {
            "application/vnd.jupyter.widget-view+json": {
              "model_id": "e8dde8eb4eb84179879b6a63a09598d1",
              "version_major": 2,
              "version_minor": 0
            },
            "text/plain": [
              "tokenizer.json:   0%|          | 0.00/436k [00:00<?, ?B/s]"
            ]
          },
          "metadata": {},
          "output_type": "display_data"
        },
        {
          "name": "stderr",
          "output_type": "stream",
          "text": [
            "Xet Storage is enabled for this repo, but the 'hf_xet' package is not installed. Falling back to regular HTTP download. For better performance, install the package with: `pip install huggingface_hub[hf_xet]` or `pip install hf_xet`\n",
            "WARNING:huggingface_hub.file_download:Xet Storage is enabled for this repo, but the 'hf_xet' package is not installed. Falling back to regular HTTP download. For better performance, install the package with: `pip install huggingface_hub[hf_xet]` or `pip install hf_xet`\n"
          ]
        },
        {
          "data": {
            "application/vnd.jupyter.widget-view+json": {
              "model_id": "63d02993c6e84a06aa96f0336dd1b927",
              "version_major": 2,
              "version_minor": 0
            },
            "text/plain": [
              "model.safetensors:   0%|          | 0.00/261M [00:00<?, ?B/s]"
            ]
          },
          "metadata": {},
          "output_type": "display_data"
        }
      ],
      "source": [
        "from transformers import AutoTokenizer, AutoModelForQuestionAnswering\n",
        "\n",
        "model_checkpoint = \"distilbert-base-cased-distilled-squad\"\n",
        "tokenizer = AutoTokenizer.from_pretrained(model_checkpoint)\n",
        "model = AutoModelForQuestionAnswering.from_pretrained(model_checkpoint)\n",
        "\n",
        "inputs = tokenizer(question, context, return_tensors=\"pt\")\n",
        "outputs = model(**inputs)"
      ]
    },
    {
      "cell_type": "markdown",
      "metadata": {
        "id": "xOtsGIOz2tgm"
      },
      "source": [
        "请注意在这里，我们将问题放在前面和上下文放后面，一起作为一对进行tokenization。\n",
        "![image.png](data:image/png;base64,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)"
      ]
    },
    {
      "cell_type": "markdown",
      "metadata": {
        "id": "D_QP5rpu3AVs"
      },
      "source": [
        "问答模型的工作方式与我们迄今为止看到的模型略有不同。以上图为例，模型训练的目标是来预测答案开始的 token 的索引（这里是 21）和答案结束的 token 的索引（这里是 24）。这就是为什么这些模型不返回一个 logits 的张量，而是返回两个：一个对应于答案的开始 token 的 logits，另一个对应于答案的结束 token 的 logits。在这个例子中，我们的输入包含了 66 个 token ，因此我们得到："
      ]
    },
    {
      "cell_type": "code",
      "execution_count": 5,
      "metadata": {
        "colab": {
          "base_uri": "https://localhost:8080/"
        },
        "id": "hRIH-xD82mUi",
        "outputId": "0bc219b5-4ce5-464c-a7f1-a73b41019008"
      },
      "outputs": [
        {
          "data": {
            "text/plain": [
              "(torch.Size([1, 67]), torch.Size([1, 67]))"
            ]
          },
          "execution_count": 5,
          "metadata": {},
          "output_type": "execute_result"
        }
      ],
      "source": [
        "start_logits = outputs.start_logits\n",
        "end_logits = outputs.end_logits\n",
        "start_logits.shape, end_logits.shape"
      ]
    },
    {
      "cell_type": "markdown",
      "metadata": {
        "id": "m-upiCRj3ROh"
      },
      "source": [
        "为了将这些 logits 转换为概率，我们将使用一个 softmax 函数——但在此之前，我们需要确保我们屏蔽了不属于上下文的索引。我们的输入格式是 [CLS] question [SEP] context [SEP] ，所以我们需要屏蔽 question 的 tokens 以及 [SEP] token 。不过，我们将保留 [CLS] ，因为某些模型使用它来表示答案不在上下文中。\n",
        "\n"
      ]
    },
    {
      "cell_type": "code",
      "execution_count": 6,
      "metadata": {
        "colab": {
          "base_uri": "https://localhost:8080/"
        },
        "id": "fJWQ0-mk2_hO",
        "outputId": "09b45aad-3bee-404e-a48b-99687c41bca6"
      },
      "outputs": [
        {
          "data": {
            "text/plain": [
              "[None,\n",
              " 0,\n",
              " 0,\n",
              " 0,\n",
              " 0,\n",
              " 0,\n",
              " 0,\n",
              " 0,\n",
              " 0,\n",
              " None,\n",
              " 1,\n",
              " 1,\n",
              " 1,\n",
              " 1,\n",
              " 1,\n",
              " 1,\n",
              " 1,\n",
              " 1,\n",
              " 1,\n",
              " 1,\n",
              " 1,\n",
              " 1,\n",
              " 1,\n",
              " 1,\n",
              " 1,\n",
              " 1,\n",
              " 1,\n",
              " 1,\n",
              " 1,\n",
              " 1,\n",
              " 1,\n",
              " 1,\n",
              " 1,\n",
              " 1,\n",
              " 1,\n",
              " 1,\n",
              " 1,\n",
              " 1,\n",
              " 1,\n",
              " 1,\n",
              " 1,\n",
              " 1,\n",
              " 1,\n",
              " 1,\n",
              " 1,\n",
              " 1,\n",
              " 1,\n",
              " 1,\n",
              " 1,\n",
              " 1,\n",
              " 1,\n",
              " 1,\n",
              " 1,\n",
              " 1,\n",
              " 1,\n",
              " 1,\n",
              " 1,\n",
              " 1,\n",
              " 1,\n",
              " 1,\n",
              " 1,\n",
              " 1,\n",
              " 1,\n",
              " 1,\n",
              " 1,\n",
              " 1,\n",
              " None]"
            ]
          },
          "execution_count": 6,
          "metadata": {},
          "output_type": "execute_result"
        }
      ],
      "source": [
        "inputs.sequence_ids()"
      ]
    },
    {
      "cell_type": "code",
      "execution_count": 12,
      "metadata": {
        "colab": {
          "base_uri": "https://localhost:8080/"
        },
        "id": "d6SxRLyX3XlS",
        "outputId": "e0b02a59-6317-4f86-a3cc-15d36a15bf1f"
      },
      "outputs": [
        {
          "data": {
            "text/plain": [
              "torch.Size([1, 67])"
            ]
          },
          "execution_count": 12,
          "metadata": {},
          "output_type": "execute_result"
        }
      ],
      "source": [
        "import torch\n",
        "\n",
        "sequence_ids = inputs.sequence_ids()\n",
        "mask = [i != 1 for i in sequence_ids]\n",
        "\n",
        "mask[0] = False\n",
        "mask = torch.tensor(mask)[None]\n",
        "mask.shape"
      ]
    },
    {
      "cell_type": "code",
      "execution_count": 13,
      "metadata": {
        "id": "_bgJ0pSf3wfb"
      },
      "outputs": [],
      "source": [
        "start_logits[mask] = -10000\n",
        "end_logits[mask] = -10000"
      ]
    },
    {
      "cell_type": "markdown",
      "metadata": {
        "id": "Ge2fPygt39ug"
      },
      "source": [
        "现在我们已经屏蔽了与我们不想预测的位置相对应的 logits，接下来我们可以使用 softmax："
      ]
    },
    {
      "cell_type": "code",
      "execution_count": 14,
      "metadata": {
        "id": "gB_hcQtq36ON"
      },
      "outputs": [],
      "source": [
        "start_probabilities = torch.nn.functional.softmax(start_logits, dim=-1)[0]\n",
        "end_probabilities = torch.nn.functional.softmax(end_logits, dim=-1)[0]"
      ]
    },
    {
      "cell_type": "code",
      "execution_count": 19,
      "metadata": {
        "colab": {
          "base_uri": "https://localhost:8080/"
        },
        "id": "OIbFlmlR4WYh",
        "outputId": "281078c9-8699-4234-e9d2-f34624035498"
      },
      "outputs": [
        {
          "data": {
            "text/plain": [
              "torch.Size([67, 1])"
            ]
          },
          "execution_count": 19,
          "metadata": {},
          "output_type": "execute_result"
        }
      ],
      "source": [
        "start_probabilities[:, None].shape"
      ]
    },
    {
      "cell_type": "markdown",
      "metadata": {
        "id": "MR_bZmYF4Jxo"
      },
      "source": [
        "首先让我们计算所有可能的乘积："
      ]
    },
    {
      "cell_type": "code",
      "execution_count": 17,
      "metadata": {
        "colab": {
          "base_uri": "https://localhost:8080/"
        },
        "id": "XOp_ZMAr3-pU",
        "outputId": "3aca0edd-3d0d-4223-ccea-f7b77c7e25e3"
      },
      "outputs": [
        {
          "data": {
            "text/plain": [
              "torch.Size([67, 67])"
            ]
          },
          "execution_count": 17,
          "metadata": {},
          "output_type": "execute_result"
        }
      ],
      "source": [
        "scores = start_probabilities[:, None] * end_probabilities[None, :]\n",
        "scores.shape"
      ]
    },
    {
      "cell_type": "code",
      "execution_count": 20,
      "metadata": {
        "id": "d5giedY84Oax"
      },
      "outputs": [],
      "source": [
        "import numpy as np\n",
        "\n",
        "scores = torch.triu(scores)"
      ]
    },
    {
      "cell_type": "markdown",
      "metadata": {
        "id": "LjQ_HjqS4lAv"
      },
      "source": [
        "现在我们只需要得到最大值的索引。由于 PyTorch 将返回展平（flattened）后张量中的索引，因此我们需要使用向下取整的除法 // 和取模 % 操作来获得 start_index 和 end_index ：\n",
        "\n"
      ]
    },
    {
      "cell_type": "code",
      "execution_count": 29,
      "metadata": {
        "colab": {
          "base_uri": "https://localhost:8080/"
        },
        "id": "IfJT6j_65TxV",
        "outputId": "cb76c29b-20ee-4244-cdc9-2ae7173a4552"
      },
      "outputs": [
        {
          "data": {
            "text/plain": [
              "torch.Size([67, 67])"
            ]
          },
          "execution_count": 29,
          "metadata": {},
          "output_type": "execute_result"
        }
      ],
      "source": [
        "scores.shape"
      ]
    },
    {
      "cell_type": "code",
      "execution_count": 41,
      "metadata": {
        "colab": {
          "base_uri": "https://localhost:8080/"
        },
        "id": "YI8qigu04i7N",
        "outputId": "14af4960-dcdd-4b46-8c23-8fdae50ee753"
      },
      "outputs": [
        {
          "name": "stdout",
          "output_type": "stream",
          "text": [
            "tensor(0.9803, grad_fn=<SelectBackward0>)\n"
          ]
        }
      ],
      "source": [
        "max_index = scores.argmax().item()\n",
        "start_index = max_index // scores.shape[1]\n",
        "end_index = max_index % scores.shape[1]\n",
        "print(scores[start_index, end_index])"
      ]
    },
    {
      "cell_type": "markdown",
      "metadata": {
        "id": "VEaQpyyN4tPR"
      },
      "source": [
        "我们还没有完全完成，但至少我们已经有了正确的答案分数（你可以通过将其与上一节中的第一个结果进行比较来检查这一点）："
      ]
    },
    {
      "cell_type": "markdown",
      "metadata": {
        "id": "9Ysw5bcl4yX8"
      },
      "source": [
        "✏️ 试试看！ 计算五个最可能的答案的开始和结束索引。"
      ]
    },
    {
      "cell_type": "code",
      "execution_count": 31,
      "metadata": {
        "id": "77L0kHBR5nt0"
      },
      "outputs": [],
      "source": [
        "flat_scores = scores.flatten()"
      ]
    },
    {
      "cell_type": "code",
      "execution_count": 38,
      "metadata": {
        "colab": {
          "base_uri": "https://localhost:8080/"
        },
        "id": "jY4dKQja4nmn",
        "outputId": "583f0f34-5cfa-4317-c71e-48ca99fc2661"
      },
      "outputs": [
        {
          "name": "stdout",
          "output_type": "stream",
          "text": [
            "tensor(0.9803, grad_fn=<SelectBackward0>)\n",
            "Jax, PyTorch, and TensorFlow\n",
            "tensor(0.0082, grad_fn=<SelectBackward0>)\n",
            "Jax, PyTorch, and TensorFlow —\n",
            "tensor(0.0068, grad_fn=<SelectBackward0>)\n",
            "three most popular deep learning libraries — Jax, PyTorch, and TensorFlow\n",
            "tensor(0.0014, grad_fn=<SelectBackward0>)\n",
            "Jax, PyTorch\n",
            "tensor(0.0004, grad_fn=<SelectBackward0>)\n",
            "PyTorch, and TensorFlow\n"
          ]
        }
      ],
      "source": [
        "max_indices = torch.topk(flat_scores, k=5).indices.tolist()\n",
        "for index in max_indices:\n",
        "  start_index = index // scores.shape[1]\n",
        "  end_index = index % scores.shape[1]\n",
        "  print(scores[start_index, end_index])"
      ]
    },
    {
      "cell_type": "markdown",
      "metadata": {
        "id": "uun9K-Yv5vqq"
      },
      "source": [
        "我们有了答案的 start_index 和 end_index ，所以现在我们只需要将他们转换为上下文中的字符索引。这就是偏移量将会非常有用的地方。我们可以像我们在 token 分类任务中那样获取偏移量并使用它们："
      ]
    },
    {
      "cell_type": "code",
      "execution_count": 43,
      "metadata": {
        "colab": {
          "base_uri": "https://localhost:8080/",
          "height": 35
        },
        "id": "RDs640EL49f9",
        "outputId": "6002ff75-b305-4193-9f47-d014d8c6cdc2"
      },
      "outputs": [
        {
          "data": {
            "application/vnd.google.colaboratory.intrinsic+json": {
              "type": "string"
            },
            "text/plain": [
              "'Jax, PyTorch, and TensorFlow'"
            ]
          },
          "execution_count": 43,
          "metadata": {},
          "output_type": "execute_result"
        }
      ],
      "source": [
        "inputs_with_offsets = tokenizer(question, context, return_offsets_mapping=True)\n",
        "offsets = inputs_with_offsets[\"offset_mapping\"]\n",
        "\n",
        "start_char, _ = offsets[start_index]\n",
        "_, end_char = offsets[end_index]\n",
        "answer = context[start_char:end_char]\n",
        "answer"
      ]
    },
    {
      "cell_type": "code",
      "execution_count": 44,
      "metadata": {
        "colab": {
          "base_uri": "https://localhost:8080/"
        },
        "id": "Rze0IrBN50d8",
        "outputId": "56d1fe15-f15a-487b-d400-471effb99708"
      },
      "outputs": [
        {
          "data": {
            "text/plain": [
              "{'answer': 'Jax, PyTorch, and TensorFlow',\n",
              " 'start': 78,\n",
              " 'end': 106,\n",
              " 'score': tensor(0.9803, grad_fn=<SelectBackward0>)}"
            ]
          },
          "execution_count": 44,
          "metadata": {},
          "output_type": "execute_result"
        }
      ],
      "source": [
        "result = {\n",
        "    \"answer\": answer,\n",
        "    \"start\": start_char,\n",
        "    \"end\": end_char,\n",
        "    \"score\": scores[start_index, end_index],\n",
        "}\n",
        "result"
      ]
    },
    {
      "cell_type": "markdown",
      "metadata": {
        "id": "_NCAyJv06Ojp"
      },
      "source": [
        "✏️ 试试看！ 使用你之前计算的最佳分数来显示五个最可能的答案。你可以回到之前的 QA pipeline，并在调用时传入 top_k=5 来对比检查你的结果。"
      ]
    },
    {
      "cell_type": "code",
      "execution_count": 45,
      "metadata": {
        "colab": {
          "base_uri": "https://localhost:8080/"
        },
        "id": "UEQ6lKOa6Fpw",
        "outputId": "4861a38c-1175-44ae-f57c-00b436ad4155"
      },
      "outputs": [
        {
          "data": {
            "text/plain": [
              "[{'answer': 'Jax, PyTorch, and TensorFlow',\n",
              "  'start': 78,\n",
              "  'end': 106,\n",
              "  'score': tensor(0.9803, grad_fn=<SelectBackward0>)},\n",
              " {'answer': 'Jax, PyTorch, and TensorFlow —',\n",
              "  'start': 78,\n",
              "  'end': 108,\n",
              "  'score': tensor(0.0082, grad_fn=<SelectBackward0>)},\n",
              " {'answer': 'three most popular deep learning libraries — Jax, PyTorch, and TensorFlow',\n",
              "  'start': 33,\n",
              "  'end': 106,\n",
              "  'score': tensor(0.0068, grad_fn=<SelectBackward0>)},\n",
              " {'answer': 'Jax, PyTorch',\n",
              "  'start': 78,\n",
              "  'end': 90,\n",
              "  'score': tensor(0.0014, grad_fn=<SelectBackward0>)},\n",
              " {'answer': 'PyTorch, and TensorFlow',\n",
              "  'start': 83,\n",
              "  'end': 106,\n",
              "  'score': tensor(0.0004, grad_fn=<SelectBackward0>)}]"
            ]
          },
          "execution_count": 45,
          "metadata": {},
          "output_type": "execute_result"
        }
      ],
      "source": [
        "max_indices = torch.topk(flat_scores, k=5).indices.tolist()\n",
        "ans = []\n",
        "for index in max_indices:\n",
        "  start_index = index // scores.shape[1]\n",
        "  end_index = index % scores.shape[1]\n",
        "  start_char, _ = offsets[start_index]\n",
        "  _, end_char = offsets[end_index]\n",
        "  answer = context[start_char:end_char]\n",
        "  ans.append({\n",
        "    \"answer\": answer,\n",
        "    \"start\": start_char,\n",
        "    \"end\": end_char,\n",
        "    \"score\": scores[start_index, end_index],\n",
        "})\n",
        "\n",
        "ans"
      ]
    },
    {
      "cell_type": "code",
      "execution_count": 46,
      "metadata": {
        "colab": {
          "base_uri": "https://localhost:8080/"
        },
        "id": "ZCmlTszu6bE_",
        "outputId": "0f23d211-665c-4310-92c1-05b46d729ff9"
      },
      "outputs": [
        {
          "data": {
            "text/plain": [
              "[{'score': 0.9802603125572205,\n",
              "  'start': 78,\n",
              "  'end': 106,\n",
              "  'answer': 'Jax, PyTorch, and TensorFlow'},\n",
              " {'score': 0.00824777316302061,\n",
              "  'start': 78,\n",
              "  'end': 108,\n",
              "  'answer': 'Jax, PyTorch, and TensorFlow —'},\n",
              " {'score': 0.0013676955131813884,\n",
              "  'start': 78,\n",
              "  'end': 90,\n",
              "  'answer': 'Jax, PyTorch'},\n",
              " {'score': 0.00038108445005491376,\n",
              "  'start': 83,\n",
              "  'end': 106,\n",
              "  'answer': 'PyTorch, and TensorFlow'},\n",
              " {'score': 0.00021684484090656042,\n",
              "  'start': 96,\n",
              "  'end': 106,\n",
              "  'answer': 'TensorFlow'}]"
            ]
          },
          "execution_count": 46,
          "metadata": {},
          "output_type": "execute_result"
        }
      ],
      "source": [
        "question_answerer(question=question, context=context, top_k=5)"
      ]
    },
    {
      "cell_type": "markdown",
      "metadata": {
        "id": "3KApDOGQ6oc_"
      },
      "source": [
        "## 1.3 处理长文本"
      ]
    },
    {
      "cell_type": "markdown",
      "metadata": {
        "id": "fok_Ucv46tXw"
      },
      "source": [
        "如果我们尝试将我们之前使用的长问题和长上下文进行 tokenize，我们将得到一个比 question-answering pipeline 中使用的最大长度（384）更大的 tokens 数量："
      ]
    },
    {
      "cell_type": "code",
      "execution_count": 47,
      "metadata": {
        "colab": {
          "base_uri": "https://localhost:8080/"
        },
        "id": "CbECWyMM6ggj",
        "outputId": "7f15daa8-e4b6-4a33-815f-eb0a120bd713"
      },
      "outputs": [
        {
          "data": {
            "text/plain": [
              "461"
            ]
          },
          "execution_count": 47,
          "metadata": {},
          "output_type": "execute_result"
        }
      ],
      "source": [
        "inputs = tokenizer(question, long_context)\n",
        "len(inputs[\"input_ids\"])"
      ]
    },
    {
      "cell_type": "markdown",
      "metadata": {
        "id": "HM1o9nQN62ER"
      },
      "source": [
        "所以，我们需要将我们的输入截断到模型允许输入的最大长度。我们可以用几种方式做到这一点，但我们不想截断问题部分，只想截断上下文部分，并且由于上下文部分是第二项，因此我们将使用 \"only_second\" 截断策略。\n",
        "\n",
        "然后又出现了新的问题：问题的答案可能在截断后被丢弃了，并没有在截断后保留下来的上下文文本中。例如，我们选了一个问题，其中的答案在上下文的末尾，当我们截断它时，答案就不在里面了："
      ]
    },
    {
      "cell_type": "code",
      "execution_count": 49,
      "metadata": {
        "colab": {
          "base_uri": "https://localhost:8080/",
          "height": 268
        },
        "id": "yOkp48kZ6vvJ",
        "outputId": "5707759b-4232-47de-ce3c-fa07dc972b1e"
      },
      "outputs": [
        {
          "data": {
            "application/vnd.google.colaboratory.intrinsic+json": {
              "type": "string"
            },
            "text/plain": [
              "\"[CLS] Which deep learning libraries back [UNK] Transformers? [SEP] [UNK] Transformers : State of the Art NLP [UNK] Transformers provides thousands of pretrained models to perform tasks on texts such as classification, information extraction, question answering, summarization, translation, text generation and more in over 100 languages. Its aim is to make cutting - edge NLP easier to use for everyone. [UNK] Transformers provides APIs to quickly download and use those pretrained models on a given text, fine - tune them on your own datasets and then share them with the community on our model hub. At the same time, each python module defining an architecture is fully standalone and can be modified to enable quick research experiments. Why should I use transformers? 1. Easy - to - use state - of - the - art models : - High performance on NLU and NLG tasks. - Low barrier to entry for educators and practitioners. - Few user - facing abstractions with just three classes to learn. - A unified API for using all our pretrained models. - Lower compute costs, smaller carbon footprint : 2. Researchers can share trained models instead of always retraining. - Practitioners can reduce compute time and production costs. - Dozens of architectures with over 10, 000 pretrained models, some in more than 100 languages. 3. Choose the right framework for every part of a model ' s lifetime : - Train state - of - the - art models in 3 lines of code. - Move a single model between TF2. 0 / PyTorch frameworks at will. - Seamlessly pick the right framework for training, evaluation and production. 4. Easily customize a model or an example to your needs : - We provide examples for each architecture to reproduce the results published by its original authors. - Model internal [SEP]\""
            ]
          },
          "execution_count": 49,
          "metadata": {},
          "output_type": "execute_result"
        }
      ],
      "source": [
        "inputs = tokenizer(question, long_context, max_length=384, truncation=\"only_second\")\n",
        "tokenizer.decode(inputs[\"input_ids\"])"
      ]
    },
    {
      "cell_type": "markdown",
      "metadata": {
        "id": "YJ7kAWdA7JZt"
      },
      "source": [
        "这意味着模型将很难找到正确的答案。为了解决这个问题， question-answering 管道允许我们将上下文分成更小的块，指定最大长度。为了确保我们不在刚好可能找到答案的地方将上下文分割，它还在各块之间包含了一些重叠。"
      ]
    },
    {
      "cell_type": "markdown",
      "metadata": {
        "id": "qMf9pxI17Kv2"
      },
      "source": [
        "我们可以通过添加 return_overflowing_tokens=True 参数，并可以用 stride 参数指定我们想要的重叠长度来让 tokenizer （快速或慢速）为我们做这个工作。下面是一个使用较短的句子的例子："
      ]
    },
    {
      "cell_type": "code",
      "execution_count": 50,
      "metadata": {
        "colab": {
          "base_uri": "https://localhost:8080/"
        },
        "id": "c6ZZrXRt67kL",
        "outputId": "e97d0548-5427-404b-fa5c-abb27948245f"
      },
      "outputs": [
        {
          "name": "stdout",
          "output_type": "stream",
          "text": [
            "[CLS] This sentence is not [SEP]\n",
            "[CLS] is not too long [SEP]\n",
            "[CLS] too long but we [SEP]\n",
            "[CLS] but we are going [SEP]\n",
            "[CLS] are going to split [SEP]\n",
            "[CLS] to split it anyway [SEP]\n",
            "[CLS] it anyway. [SEP]\n"
          ]
        }
      ],
      "source": [
        "sentence = \"This sentence is not too long but we are going to split it anyway.\"\n",
        "inputs = tokenizer(\n",
        "    sentence, truncation=True, return_overflowing_tokens=True, max_length=6, stride=2\n",
        ")\n",
        "\n",
        "for ids in inputs[\"input_ids\"]:\n",
        "    print(tokenizer.decode(ids))"
      ]
    },
    {
      "cell_type": "code",
      "execution_count": 51,
      "metadata": {
        "colab": {
          "base_uri": "https://localhost:8080/"
        },
        "id": "SmYS7pbR7Rv_",
        "outputId": "fd1731f3-6241-49c3-e44a-c2e5816571a6"
      },
      "outputs": [
        {
          "data": {
            "text/plain": [
              "dict_keys(['input_ids', 'attention_mask', 'overflow_to_sample_mapping'])"
            ]
          },
          "execution_count": 51,
          "metadata": {},
          "output_type": "execute_result"
        }
      ],
      "source": [
        "inputs.keys()"
      ]
    },
    {
      "cell_type": "markdown",
      "metadata": {
        "id": "552Ld_S67fId"
      },
      "source": [
        "正如我们所预期的，我们得到了inputs ID 和注意力掩码。最后一个键，overflow_to_sample_mapping，是一个映射，告诉我们每个结果对应哪个句子——在这里，我们有 7 个结果，它们都来自我们传递给 tokenizer 的（唯一的）句子："
      ]
    },
    {
      "cell_type": "code",
      "execution_count": 52,
      "metadata": {
        "colab": {
          "base_uri": "https://localhost:8080/"
        },
        "id": "vhYaUyeZ7aat",
        "outputId": "8fa7e4c9-2f20-4e5b-984d-f2246e13f4d6"
      },
      "outputs": [
        {
          "data": {
            "text/plain": [
              "[0, 0, 0, 0, 0, 0, 0]"
            ]
          },
          "execution_count": 52,
          "metadata": {},
          "output_type": "execute_result"
        }
      ],
      "source": [
        "inputs[\"overflow_to_sample_mapping\"]"
      ]
    },
    {
      "cell_type": "markdown",
      "metadata": {
        "id": "T7vNL4oU7k06"
      },
      "source": [
        "当我们一起对多个句子 tokenize 时，这会更有用。例如，这个："
      ]
    },
    {
      "cell_type": "code",
      "execution_count": 53,
      "metadata": {
        "colab": {
          "base_uri": "https://localhost:8080/"
        },
        "id": "erUghvkB7gqK",
        "outputId": "c0524418-3cab-4da5-db7e-87282ce6f29f"
      },
      "outputs": [
        {
          "name": "stdout",
          "output_type": "stream",
          "text": [
            "[0, 0, 0, 0, 0, 0, 0, 1, 1, 1, 1]\n"
          ]
        }
      ],
      "source": [
        "sentences = [\n",
        "    \"This sentence is not too long but we are going to split it anyway.\",\n",
        "    \"This sentence is shorter but will still get split.\",\n",
        "]\n",
        "inputs = tokenizer(\n",
        "    sentences, truncation=True, return_overflowing_tokens=True, max_length=6, stride=2\n",
        ")\n",
        "\n",
        "print(inputs[\"overflow_to_sample_mapping\"])"
      ]
    },
    {
      "cell_type": "markdown",
      "metadata": {
        "id": "LHB-XER17qV-"
      },
      "source": [
        "现在让我们回到我们的长上下文。默认情况下， question-answering pipeline 使用我们之前提到的 384 作为最大长度，步长为 128，这与模型的微调方式相对应（你可以通过在调用 pipeline 时传递 max_seq_len 和 stride 参数来调整这些参数）。因此，我们在 tokenization 时将使用微调时使用的这些参数。我们还会添加填充（使样本具有相同的长度，这样我们就可以构建拼接成一个矩形的张量），并获取偏移量："
      ]
    },
    {
      "cell_type": "code",
      "execution_count": 57,
      "metadata": {
        "colab": {
          "base_uri": "https://localhost:8080/"
        },
        "id": "FCAkmDl67leV",
        "outputId": "d7eba7de-6778-4f1d-ce97-d33c1e7ec0d7"
      },
      "outputs": [
        {
          "data": {
            "text/plain": [
              "dict_keys(['input_ids', 'attention_mask', 'offset_mapping', 'overflow_to_sample_mapping'])"
            ]
          },
          "execution_count": 57,
          "metadata": {},
          "output_type": "execute_result"
        }
      ],
      "source": [
        "inputs = tokenizer(\n",
        "    question,\n",
        "    long_context,\n",
        "    stride=128,\n",
        "    max_length=384,\n",
        "    padding=\"longest\",\n",
        "    truncation=\"only_second\",\n",
        "    return_overflowing_tokens=True,\n",
        "    return_offsets_mapping=True\n",
        ")\n",
        "inputs.keys()"
      ]
    },
    {
      "cell_type": "code",
      "execution_count": 58,
      "metadata": {
        "colab": {
          "base_uri": "https://localhost:8080/"
        },
        "id": "3bqlaqaV77jI",
        "outputId": "19ee58c3-dec0-4c7c-ec3b-e94e1b9608a0"
      },
      "outputs": [
        {
          "name": "stdout",
          "output_type": "stream",
          "text": [
            "torch.Size([2, 384])\n"
          ]
        }
      ],
      "source": [
        "_ = inputs.pop(\"overflow_to_sample_mapping\")\n",
        "offsets = inputs.pop(\"offset_mapping\")\n",
        "\n",
        "inputs = inputs.convert_to_tensors(\"pt\")\n",
        "print(inputs[\"input_ids\"].shape)"
      ]
    },
    {
      "cell_type": "code",
      "execution_count": 59,
      "metadata": {
        "colab": {
          "base_uri": "https://localhost:8080/"
        },
        "id": "wCBiKzk58Nlk",
        "outputId": "62f6f32c-2dc0-4a23-85bb-e63ca2494b95"
      },
      "outputs": [
        {
          "name": "stdout",
          "output_type": "stream",
          "text": [
            "[CLS] Which deep learning libraries back [UNK] Transformers? [SEP] [UNK] Transformers : State of the Art NLP [UNK] Transformers provides thousands of pretrained models to perform tasks on texts such as classification, information extraction, question answering, summarization, translation, text generation and more in over 100 languages. Its aim is to make cutting - edge NLP easier to use for everyone. [UNK] Transformers provides APIs to quickly download and use those pretrained models on a given text, fine - tune them on your own datasets and then share them with the community on our model hub. At the same time, each python module defining an architecture is fully standalone and can be modified to enable quick research experiments. Why should I use transformers? 1. Easy - to - use state - of - the - art models : - High performance on NLU and NLG tasks. - Low barrier to entry for educators and practitioners. - Few user - facing abstractions with just three classes to learn. - A unified API for using all our pretrained models. - Lower compute costs, smaller carbon footprint : 2. Researchers can share trained models instead of always retraining. - Practitioners can reduce compute time and production costs. - Dozens of architectures with over 10, 000 pretrained models, some in more than 100 languages. 3. Choose the right framework for every part of a model ' s lifetime : - Train state - of - the - art models in 3 lines of code. - Move a single model between TF2. 0 / PyTorch frameworks at will. - Seamlessly pick the right framework for training, evaluation and production. 4. Easily customize a model or an example to your needs : - We provide examples for each architecture to reproduce the results published by its original authors. - Model internal [SEP]\n",
            "[CLS] Which deep learning libraries back [UNK] Transformers? [SEP] Dozens of architectures with over 10, 000 pretrained models, some in more than 100 languages. 3. Choose the right framework for every part of a model ' s lifetime : - Train state - of - the - art models in 3 lines of code. - Move a single model between TF2. 0 / PyTorch frameworks at will. - Seamlessly pick the right framework for training, evaluation and production. 4. Easily customize a model or an example to your needs : - We provide examples for each architecture to reproduce the results published by its original authors. - Model internals are exposed as consistently as possible. - Model files can be used independently of the library for quick experiments. [UNK] Transformers is backed by the three most popular deep learning libraries — Jax, PyTorch and TensorFlow — with a seamless integration between them. It ' s straightforward to train your models with one before loading them for inference with the other. [SEP] [PAD] [PAD] [PAD] [PAD] [PAD] [PAD] [PAD] [PAD] [PAD] [PAD] [PAD] [PAD] [PAD] [PAD] [PAD] [PAD] [PAD] [PAD] [PAD] [PAD] [PAD] [PAD] [PAD] [PAD] [PAD] [PAD] [PAD] [PAD] [PAD] [PAD] [PAD] [PAD] [PAD] [PAD] [PAD] [PAD] [PAD] [PAD] [PAD] [PAD] [PAD] [PAD] [PAD] [PAD] [PAD] [PAD] [PAD] [PAD] [PAD] [PAD] [PAD] [PAD] [PAD] [PAD] [PAD] [PAD] [PAD] [PAD] [PAD] [PAD] [PAD] [PAD] [PAD] [PAD] [PAD] [PAD] [PAD] [PAD] [PAD] [PAD] [PAD] [PAD] [PAD] [PAD] [PAD] [PAD] [PAD] [PAD] [PAD] [PAD] [PAD] [PAD] [PAD] [PAD] [PAD] [PAD] [PAD] [PAD] [PAD] [PAD] [PAD] [PAD] [PAD] [PAD] [PAD] [PAD] [PAD] [PAD] [PAD] [PAD] [PAD] [PAD] [PAD] [PAD] [PAD] [PAD] [PAD] [PAD] [PAD] [PAD] [PAD] [PAD] [PAD] [PAD] [PAD] [PAD] [PAD] [PAD] [PAD] [PAD] [PAD] [PAD] [PAD] [PAD] [PAD] [PAD] [PAD] [PAD] [PAD] [PAD] [PAD] [PAD] [PAD] [PAD] [PAD] [PAD] [PAD] [PAD] [PAD] [PAD] [PAD] [PAD] [PAD] [PAD] [PAD] [PAD] [PAD] [PAD] [PAD] [PAD] [PAD] [PAD] [PAD] [PAD] [PAD] [PAD] [PAD] [PAD] [PAD] [PAD] [PAD] [PAD] [PAD] [PAD] [PAD] [PAD] [PAD] [PAD]\n"
          ]
        }
      ],
      "source": [
        "for ids in inputs[\"input_ids\"]:\n",
        "    print(tokenizer.decode(ids))"
      ]
    },
    {
      "cell_type": "markdown",
      "metadata": {
        "id": "m68nbuFY8Z74"
      },
      "source": [
        "我们的长上下文被分成两部分，这意味着在经过我们的模型后，我们将得到两组开始和结束的 logits："
      ]
    },
    {
      "cell_type": "code",
      "execution_count": 60,
      "metadata": {
        "colab": {
          "base_uri": "https://localhost:8080/"
        },
        "id": "1liCa85F8Qfu",
        "outputId": "7ba7f804-5df2-4dbf-d0c9-a9486cee6ca0"
      },
      "outputs": [
        {
          "name": "stdout",
          "output_type": "stream",
          "text": [
            "torch.Size([2, 384]) torch.Size([2, 384])\n"
          ]
        }
      ],
      "source": [
        "outputs = model(**inputs)\n",
        "\n",
        "start_logits = outputs.start_logits\n",
        "end_logits = outputs.end_logits\n",
        "print(start_logits.shape, end_logits.shape)"
      ]
    },
    {
      "cell_type": "markdown",
      "metadata": {
        "id": "ICTXmZiG8dG9"
      },
      "source": [
        "和以前一样，我们在计算 softmax 之前屏蔽不属于上下文的 token 。我们还屏蔽了所有填充 token （如注意力掩码）："
      ]
    },
    {
      "cell_type": "code",
      "execution_count": 61,
      "metadata": {
        "id": "q0CwM9is8axl"
      },
      "outputs": [],
      "source": [
        "sequence_ids = inputs.sequence_ids()\n",
        "# 屏蔽除 context tokens 之外的所有内容\n",
        "mask = [i != 1 for i in sequence_ids]\n",
        "# 取消对 [CLS] token 的屏蔽\n",
        "mask[0] = False\n",
        "# 屏蔽所有的 [PAD] tokens\n",
        "mask = torch.logical_or(torch.tensor(mask)[None], (inputs[\"attention_mask\"] == 0))\n",
        "\n",
        "start_logits[mask] = -10000\n",
        "end_logits[mask] = -10000"
      ]
    },
    {
      "cell_type": "code",
      "execution_count": 62,
      "metadata": {
        "id": "AqJI0yrg8d9b"
      },
      "outputs": [],
      "source": [
        "start_probabilities = torch.nn.functional.softmax(start_logits, dim=-1)\n",
        "end_probabilities = torch.nn.functional.softmax(end_logits, dim=-1)"
      ]
    },
    {
      "cell_type": "markdown",
      "metadata": {
        "id": "MBRPJ-ni8iza"
      },
      "source": [
        "下一步与我们对短的上下文所做的类似，但在这里我们将对两个块分别进行处理。我们为所有可能的回答范围赋予一个得分，然后选择得分最高的范围："
      ]
    },
    {
      "cell_type": "code",
      "execution_count": 63,
      "metadata": {
        "colab": {
          "base_uri": "https://localhost:8080/"
        },
        "id": "d4aU-OVU8hic",
        "outputId": "3781ac98-2e94-4fe1-cc57-02ea48d6ea94"
      },
      "outputs": [
        {
          "name": "stdout",
          "output_type": "stream",
          "text": [
            "[(0, 18, 0.33866992592811584), (173, 184, 0.9714868664741516)]\n"
          ]
        }
      ],
      "source": [
        "candidates = []\n",
        "for start_probs, end_probs in zip(start_probabilities, end_probabilities):\n",
        "    scores = start_probs[:, None] * end_probs[None, :]\n",
        "    idx = torch.triu(scores).argmax().item()\n",
        "\n",
        "    start_idx = idx // scores.shape[1]\n",
        "    end_idx = idx % scores.shape[1]\n",
        "    score = scores[start_idx, end_idx].item()\n",
        "    candidates.append((start_idx, end_idx, score))\n",
        "\n",
        "print(candidates)"
      ]
    },
    {
      "cell_type": "markdown",
      "metadata": {
        "id": "aLZTnZEv8nai"
      },
      "source": [
        "这两个候选范围对应的是模型在每个块中能够找到的最好的答案。模型对于正确的答案在第二部分更有信心（这是个好兆头！）。现在我们只需要将这两个 token 范围映射到上下文中的字符范围（我们只需要映射第二个就能得到我们的答案，但是看看模型在第一块中选取了什么作为答案还是很有意思的）。"
      ]
    },
    {
      "cell_type": "markdown",
      "metadata": {
        "id": "DV4DDGh28xYp"
      },
      "source": [
        "我们之前抓取 offsets 的实际上是一个偏移量列表，每个文本块都有一个列表：\n",
        "\n"
      ]
    },
    {
      "cell_type": "code",
      "execution_count": 64,
      "metadata": {
        "colab": {
          "base_uri": "https://localhost:8080/"
        },
        "id": "gKkig2UD8j05",
        "outputId": "e5d01988-05cc-4365-de91-827ddbc82780"
      },
      "outputs": [
        {
          "name": "stdout",
          "output_type": "stream",
          "text": [
            "{'answer': '\\n🤗 Transformers: State of the Art NLP', 'start': 0, 'end': 37, 'score': 0.33866992592811584}\n",
            "{'answer': 'Jax, PyTorch and TensorFlow', 'start': 1892, 'end': 1919, 'score': 0.9714868664741516}\n"
          ]
        }
      ],
      "source": [
        "for candidate, offset in zip(candidates, offsets):\n",
        "    start_token, end_token, score = candidate\n",
        "    start_char, _ = offset[start_token]\n",
        "    _, end_char = offset[end_token]\n",
        "    answer = long_context[start_char:end_char]\n",
        "    result = {\"answer\": answer, \"start\": start_char, \"end\": end_char, \"score\": score}\n",
        "    print(result)"
      ]
    },
    {
      "cell_type": "code",
      "execution_count": 65,
      "metadata": {
        "colab": {
          "base_uri": "https://localhost:8080/"
        },
        "id": "s0RpkUvu8yH0",
        "outputId": "229454a5-9304-46a7-8e81-4b93e7563d7f"
      },
      "outputs": [
        {
          "data": {
            "text/plain": [
              "[{'score': 0.9714871048927307,\n",
              "  'start': 1892,\n",
              "  'end': 1919,\n",
              "  'answer': 'Jax, PyTorch and TensorFlow'},\n",
              " {'score': 0.14949452877044678,\n",
              "  'start': 17,\n",
              "  'end': 37,\n",
              "  'answer': 'State of the Art NLP'},\n",
              " {'score': 0.015565173700451851,\n",
              "  'start': 1892,\n",
              "  'end': 1921,\n",
              "  'answer': 'Jax, PyTorch and TensorFlow —'},\n",
              " {'score': 0.013705423101782799, 'start': 34, 'end': 37, 'answer': 'NLP'},\n",
              " {'score': 0.010596777312457561,\n",
              "  'start': 3,\n",
              "  'end': 37,\n",
              "  'answer': 'Transformers: State of the Art NLP'}]"
            ]
          },
          "execution_count": 65,
          "metadata": {},
          "output_type": "execute_result"
        }
      ],
      "source": [
        "question_answerer(question=question, context=long_context, top_k=5)"
      ]
    }
  ],
  "metadata": {
    "colab": {
      "provenance": []
    },
    "kernelspec": {
      "display_name": "Python 3",
      "name": "python3"
    },
    "language_info": {
      "name": "python"
    },
    "widgets": {
      "application/vnd.jupyter.widget-state+json": {
        "0f3e3995eb66489c940166ec10f54adf": {
          "model_module": "@jupyter-widgets/base",
          "model_module_version": "1.2.0",
          "model_name": "LayoutModel",
          "state": {
            "_model_module": "@jupyter-widgets/base",
            "_model_module_version": "1.2.0",
            "_model_name": "LayoutModel",
            "_view_count": null,
            "_view_module": "@jupyter-widgets/base",
            "_view_module_version": "1.2.0",
            "_view_name": "LayoutView",
            "align_content": null,
            "align_items": null,
            "align_self": null,
            "border": null,
            "bottom": null,
            "display": null,
            "flex": null,
            "flex_flow": null,
            "grid_area": null,
            "grid_auto_columns": null,
            "grid_auto_flow": null,
            "grid_auto_rows": null,
            "grid_column": null,
            "grid_gap": null,
            "grid_row": null,
            "grid_template_areas": null,
            "grid_template_columns": null,
            "grid_template_rows": null,
            "height": null,
            "justify_content": null,
            "justify_items": null,
            "left": null,
            "margin": null,
            "max_height": null,
            "max_width": null,
            "min_height": null,
            "min_width": null,
            "object_fit": null,
            "object_position": null,
            "order": null,
            "overflow": null,
            "overflow_x": null,
            "overflow_y": null,
            "padding": null,
            "right": null,
            "top": null,
            "visibility": null,
            "width": null
          }
        },
        "127abed2cefd44218d40d2995f4d6790": {
          "model_module": "@jupyter-widgets/base",
          "model_module_version": "1.2.0",
          "model_name": "LayoutModel",
          "state": {
            "_model_module": "@jupyter-widgets/base",
            "_model_module_version": "1.2.0",
            "_model_name": "LayoutModel",
            "_view_count": null,
            "_view_module": "@jupyter-widgets/base",
            "_view_module_version": "1.2.0",
            "_view_name": "LayoutView",
            "align_content": null,
            "align_items": null,
            "align_self": null,
            "border": null,
            "bottom": null,
            "display": null,
            "flex": null,
            "flex_flow": null,
            "grid_area": null,
            "grid_auto_columns": null,
            "grid_auto_flow": null,
            "grid_auto_rows": null,
            "grid_column": null,
            "grid_gap": null,
            "grid_row": null,
            "grid_template_areas": null,
            "grid_template_columns": null,
            "grid_template_rows": null,
            "height": null,
            "justify_content": null,
            "justify_items": null,
            "left": null,
            "margin": null,
            "max_height": null,
            "max_width": null,
            "min_height": null,
            "min_width": null,
            "object_fit": null,
            "object_position": null,
            "order": null,
            "overflow": null,
            "overflow_x": null,
            "overflow_y": null,
            "padding": null,
            "right": null,
            "top": null,
            "visibility": null,
            "width": null
          }
        },
        "12ba7b2d2b024b09a4031cc0d14e0a26": {
          "model_module": "@jupyter-widgets/controls",
          "model_module_version": "1.5.0",
          "model_name": "DescriptionStyleModel",
          "state": {
            "_model_module": "@jupyter-widgets/controls",
            "_model_module_version": "1.5.0",
            "_model_name": "DescriptionStyleModel",
            "_view_count": null,
            "_view_module": "@jupyter-widgets/base",
            "_view_module_version": "1.2.0",
            "_view_name": "StyleView",
            "description_width": ""
          }
        },
        "156911a5965f42868b232133ea5af35d": {
          "model_module": "@jupyter-widgets/base",
          "model_module_version": "1.2.0",
          "model_name": "LayoutModel",
          "state": {
            "_model_module": "@jupyter-widgets/base",
            "_model_module_version": "1.2.0",
            "_model_name": "LayoutModel",
            "_view_count": null,
            "_view_module": "@jupyter-widgets/base",
            "_view_module_version": "1.2.0",
            "_view_name": "LayoutView",
            "align_content": null,
            "align_items": null,
            "align_self": null,
            "border": null,
            "bottom": null,
            "display": null,
            "flex": null,
            "flex_flow": null,
            "grid_area": null,
            "grid_auto_columns": null,
            "grid_auto_flow": null,
            "grid_auto_rows": null,
            "grid_column": null,
            "grid_gap": null,
            "grid_row": null,
            "grid_template_areas": null,
            "grid_template_columns": null,
            "grid_template_rows": null,
            "height": null,
            "justify_content": null,
            "justify_items": null,
            "left": null,
            "margin": null,
            "max_height": null,
            "max_width": null,
            "min_height": null,
            "min_width": null,
            "object_fit": null,
            "object_position": null,
            "order": null,
            "overflow": null,
            "overflow_x": null,
            "overflow_y": null,
            "padding": null,
            "right": null,
            "top": null,
            "visibility": null,
            "width": null
          }
        },
        "172291dfcce647dcbbde4a3456647f6d": {
          "model_module": "@jupyter-widgets/base",
          "model_module_version": "1.2.0",
          "model_name": "LayoutModel",
          "state": {
            "_model_module": "@jupyter-widgets/base",
            "_model_module_version": "1.2.0",
            "_model_name": "LayoutModel",
            "_view_count": null,
            "_view_module": "@jupyter-widgets/base",
            "_view_module_version": "1.2.0",
            "_view_name": "LayoutView",
            "align_content": null,
            "align_items": null,
            "align_self": null,
            "border": null,
            "bottom": null,
            "display": null,
            "flex": null,
            "flex_flow": null,
            "grid_area": null,
            "grid_auto_columns": null,
            "grid_auto_flow": null,
            "grid_auto_rows": null,
            "grid_column": null,
            "grid_gap": null,
            "grid_row": null,
            "grid_template_areas": null,
            "grid_template_columns": null,
            "grid_template_rows": null,
            "height": null,
            "justify_content": null,
            "justify_items": null,
            "left": null,
            "margin": null,
            "max_height": null,
            "max_width": null,
            "min_height": null,
            "min_width": null,
            "object_fit": null,
            "object_position": null,
            "order": null,
            "overflow": null,
            "overflow_x": null,
            "overflow_y": null,
            "padding": null,
            "right": null,
            "top": null,
            "visibility": null,
            "width": null
          }
        },
        "1bcb27d0da3f4cddb240eecad745904e": {
          "model_module": "@jupyter-widgets/base",
          "model_module_version": "1.2.0",
          "model_name": "LayoutModel",
          "state": {
            "_model_module": "@jupyter-widgets/base",
            "_model_module_version": "1.2.0",
            "_model_name": "LayoutModel",
            "_view_count": null,
            "_view_module": "@jupyter-widgets/base",
            "_view_module_version": "1.2.0",
            "_view_name": "LayoutView",
            "align_content": null,
            "align_items": null,
            "align_self": null,
            "border": null,
            "bottom": null,
            "display": null,
            "flex": null,
            "flex_flow": null,
            "grid_area": null,
            "grid_auto_columns": null,
            "grid_auto_flow": null,
            "grid_auto_rows": null,
            "grid_column": null,
            "grid_gap": null,
            "grid_row": null,
            "grid_template_areas": null,
            "grid_template_columns": null,
            "grid_template_rows": null,
            "height": null,
            "justify_content": null,
            "justify_items": null,
            "left": null,
            "margin": null,
            "max_height": null,
            "max_width": null,
            "min_height": null,
            "min_width": null,
            "object_fit": null,
            "object_position": null,
            "order": null,
            "overflow": null,
            "overflow_x": null,
            "overflow_y": null,
            "padding": null,
            "right": null,
            "top": null,
            "visibility": null,
            "width": null
          }
        },
        "1c228b0cae654e4f92a38f4d72090fed": {
          "model_module": "@jupyter-widgets/controls",
          "model_module_version": "1.5.0",
          "model_name": "HBoxModel",
          "state": {
            "_dom_classes": [],
            "_model_module": "@jupyter-widgets/controls",
            "_model_module_version": "1.5.0",
            "_model_name": "HBoxModel",
            "_view_count": null,
            "_view_module": "@jupyter-widgets/controls",
            "_view_module_version": "1.5.0",
            "_view_name": "HBoxView",
            "box_style": "",
            "children": [
              "IPY_MODEL_9db31f9f671e443f9641492a58a18035",
              "IPY_MODEL_984e11ab16564a3b862d7ebceb46f00e",
              "IPY_MODEL_676cd0a01c3843bf85fd634049dba899"
            ],
            "layout": "IPY_MODEL_b1c81c64b05b4ec1a1490cebf78d6766"
          }
        },
        "1f6acc2705ea433e814a52d70db6553b": {
          "model_module": "@jupyter-widgets/base",
          "model_module_version": "1.2.0",
          "model_name": "LayoutModel",
          "state": {
            "_model_module": "@jupyter-widgets/base",
            "_model_module_version": "1.2.0",
            "_model_name": "LayoutModel",
            "_view_count": null,
            "_view_module": "@jupyter-widgets/base",
            "_view_module_version": "1.2.0",
            "_view_name": "LayoutView",
            "align_content": null,
            "align_items": null,
            "align_self": null,
            "border": null,
            "bottom": null,
            "display": null,
            "flex": null,
            "flex_flow": null,
            "grid_area": null,
            "grid_auto_columns": null,
            "grid_auto_flow": null,
            "grid_auto_rows": null,
            "grid_column": null,
            "grid_gap": null,
            "grid_row": null,
            "grid_template_areas": null,
            "grid_template_columns": null,
            "grid_template_rows": null,
            "height": null,
            "justify_content": null,
            "justify_items": null,
            "left": null,
            "margin": null,
            "max_height": null,
            "max_width": null,
            "min_height": null,
            "min_width": null,
            "object_fit": null,
            "object_position": null,
            "order": null,
            "overflow": null,
            "overflow_x": null,
            "overflow_y": null,
            "padding": null,
            "right": null,
            "top": null,
            "visibility": null,
            "width": null
          }
        },
        "1f8ca6f04ad44267bde2529a73a92257": {
          "model_module": "@jupyter-widgets/base",
          "model_module_version": "1.2.0",
          "model_name": "LayoutModel",
          "state": {
            "_model_module": "@jupyter-widgets/base",
            "_model_module_version": "1.2.0",
            "_model_name": "LayoutModel",
            "_view_count": null,
            "_view_module": "@jupyter-widgets/base",
            "_view_module_version": "1.2.0",
            "_view_name": "LayoutView",
            "align_content": null,
            "align_items": null,
            "align_self": null,
            "border": null,
            "bottom": null,
            "display": null,
            "flex": null,
            "flex_flow": null,
            "grid_area": null,
            "grid_auto_columns": null,
            "grid_auto_flow": null,
            "grid_auto_rows": null,
            "grid_column": null,
            "grid_gap": null,
            "grid_row": null,
            "grid_template_areas": null,
            "grid_template_columns": null,
            "grid_template_rows": null,
            "height": null,
            "justify_content": null,
            "justify_items": null,
            "left": null,
            "margin": null,
            "max_height": null,
            "max_width": null,
            "min_height": null,
            "min_width": null,
            "object_fit": null,
            "object_position": null,
            "order": null,
            "overflow": null,
            "overflow_x": null,
            "overflow_y": null,
            "padding": null,
            "right": null,
            "top": null,
            "visibility": null,
            "width": null
          }
        },
        "21b0ba19a5ee46279c134226b1eaebcf": {
          "model_module": "@jupyter-widgets/controls",
          "model_module_version": "1.5.0",
          "model_name": "HTMLModel",
          "state": {
            "_dom_classes": [],
            "_model_module": "@jupyter-widgets/controls",
            "_model_module_version": "1.5.0",
            "_model_name": "HTMLModel",
            "_view_count": null,
            "_view_module": "@jupyter-widgets/controls",
            "_view_module_version": "1.5.0",
            "_view_name": "HTMLView",
            "description": "",
            "description_tooltip": null,
            "layout": "IPY_MODEL_27736897d51c4f788966423b97b77c70",
            "placeholder": "​",
            "style": "IPY_MODEL_664560876f844eb49802e9572dfb236b",
            "value": " 261M/261M [00:02&lt;00:00, 110MB/s]"
          }
        },
        "26cb06ead8a04ccd811dcf5262c94c73": {
          "model_module": "@jupyter-widgets/controls",
          "model_module_version": "1.5.0",
          "model_name": "HTMLModel",
          "state": {
            "_dom_classes": [],
            "_model_module": "@jupyter-widgets/controls",
            "_model_module_version": "1.5.0",
            "_model_name": "HTMLModel",
            "_view_count": null,
            "_view_module": "@jupyter-widgets/controls",
            "_view_module_version": "1.5.0",
            "_view_name": "HTMLView",
            "description": "",
            "description_tooltip": null,
            "layout": "IPY_MODEL_f99ca2ae343a48749d28bfc6d0ec48e9",
            "placeholder": "​",
            "style": "IPY_MODEL_5826eb96988f4c34a60c0dbc054b4f5a",
            "value": " 261M/261M [00:02&lt;00:00, 125MB/s]"
          }
        },
        "272fd6c524614d1e8e61f646f6e4ee4e": {
          "model_module": "@jupyter-widgets/controls",
          "model_module_version": "1.5.0",
          "model_name": "HTMLModel",
          "state": {
            "_dom_classes": [],
            "_model_module": "@jupyter-widgets/controls",
            "_model_module_version": "1.5.0",
            "_model_name": "HTMLModel",
            "_view_count": null,
            "_view_module": "@jupyter-widgets/controls",
            "_view_module_version": "1.5.0",
            "_view_name": "HTMLView",
            "description": "",
            "description_tooltip": null,
            "layout": "IPY_MODEL_4c179b00de1f4909834120dc729e9563",
            "placeholder": "​",
            "style": "IPY_MODEL_f34e2230c0684676b67d9d45cde20bbd",
            "value": "vocab.txt: 100%"
          }
        },
        "27736897d51c4f788966423b97b77c70": {
          "model_module": "@jupyter-widgets/base",
          "model_module_version": "1.2.0",
          "model_name": "LayoutModel",
          "state": {
            "_model_module": "@jupyter-widgets/base",
            "_model_module_version": "1.2.0",
            "_model_name": "LayoutModel",
            "_view_count": null,
            "_view_module": "@jupyter-widgets/base",
            "_view_module_version": "1.2.0",
            "_view_name": "LayoutView",
            "align_content": null,
            "align_items": null,
            "align_self": null,
            "border": null,
            "bottom": null,
            "display": null,
            "flex": null,
            "flex_flow": null,
            "grid_area": null,
            "grid_auto_columns": null,
            "grid_auto_flow": null,
            "grid_auto_rows": null,
            "grid_column": null,
            "grid_gap": null,
            "grid_row": null,
            "grid_template_areas": null,
            "grid_template_columns": null,
            "grid_template_rows": null,
            "height": null,
            "justify_content": null,
            "justify_items": null,
            "left": null,
            "margin": null,
            "max_height": null,
            "max_width": null,
            "min_height": null,
            "min_width": null,
            "object_fit": null,
            "object_position": null,
            "order": null,
            "overflow": null,
            "overflow_x": null,
            "overflow_y": null,
            "padding": null,
            "right": null,
            "top": null,
            "visibility": null,
            "width": null
          }
        },
        "2d3d43f546a240e1b9227f9dbef7c0d8": {
          "model_module": "@jupyter-widgets/base",
          "model_module_version": "1.2.0",
          "model_name": "LayoutModel",
          "state": {
            "_model_module": "@jupyter-widgets/base",
            "_model_module_version": "1.2.0",
            "_model_name": "LayoutModel",
            "_view_count": null,
            "_view_module": "@jupyter-widgets/base",
            "_view_module_version": "1.2.0",
            "_view_name": "LayoutView",
            "align_content": null,
            "align_items": null,
            "align_self": null,
            "border": null,
            "bottom": null,
            "display": null,
            "flex": null,
            "flex_flow": null,
            "grid_area": null,
            "grid_auto_columns": null,
            "grid_auto_flow": null,
            "grid_auto_rows": null,
            "grid_column": null,
            "grid_gap": null,
            "grid_row": null,
            "grid_template_areas": null,
            "grid_template_columns": null,
            "grid_template_rows": null,
            "height": null,
            "justify_content": null,
            "justify_items": null,
            "left": null,
            "margin": null,
            "max_height": null,
            "max_width": null,
            "min_height": null,
            "min_width": null,
            "object_fit": null,
            "object_position": null,
            "order": null,
            "overflow": null,
            "overflow_x": null,
            "overflow_y": null,
            "padding": null,
            "right": null,
            "top": null,
            "visibility": null,
            "width": null
          }
        },
        "2dd2d16e86734e9da0cfe34acda70913": {
          "model_module": "@jupyter-widgets/controls",
          "model_module_version": "1.5.0",
          "model_name": "DescriptionStyleModel",
          "state": {
            "_model_module": "@jupyter-widgets/controls",
            "_model_module_version": "1.5.0",
            "_model_name": "DescriptionStyleModel",
            "_view_count": null,
            "_view_module": "@jupyter-widgets/base",
            "_view_module_version": "1.2.0",
            "_view_name": "StyleView",
            "description_width": ""
          }
        },
        "317acf0012fe46fbb7ec9884c8cc2f10": {
          "model_module": "@jupyter-widgets/controls",
          "model_module_version": "1.5.0",
          "model_name": "ProgressStyleModel",
          "state": {
            "_model_module": "@jupyter-widgets/controls",
            "_model_module_version": "1.5.0",
            "_model_name": "ProgressStyleModel",
            "_view_count": null,
            "_view_module": "@jupyter-widgets/base",
            "_view_module_version": "1.2.0",
            "_view_name": "StyleView",
            "bar_color": null,
            "description_width": ""
          }
        },
        "3287388270484a25acd6dffb91e84878": {
          "model_module": "@jupyter-widgets/base",
          "model_module_version": "1.2.0",
          "model_name": "LayoutModel",
          "state": {
            "_model_module": "@jupyter-widgets/base",
            "_model_module_version": "1.2.0",
            "_model_name": "LayoutModel",
            "_view_count": null,
            "_view_module": "@jupyter-widgets/base",
            "_view_module_version": "1.2.0",
            "_view_name": "LayoutView",
            "align_content": null,
            "align_items": null,
            "align_self": null,
            "border": null,
            "bottom": null,
            "display": null,
            "flex": null,
            "flex_flow": null,
            "grid_area": null,
            "grid_auto_columns": null,
            "grid_auto_flow": null,
            "grid_auto_rows": null,
            "grid_column": null,
            "grid_gap": null,
            "grid_row": null,
            "grid_template_areas": null,
            "grid_template_columns": null,
            "grid_template_rows": null,
            "height": null,
            "justify_content": null,
            "justify_items": null,
            "left": null,
            "margin": null,
            "max_height": null,
            "max_width": null,
            "min_height": null,
            "min_width": null,
            "object_fit": null,
            "object_position": null,
            "order": null,
            "overflow": null,
            "overflow_x": null,
            "overflow_y": null,
            "padding": null,
            "right": null,
            "top": null,
            "visibility": null,
            "width": null
          }
        },
        "35593928ac6548bc843963a59f83b4b5": {
          "model_module": "@jupyter-widgets/base",
          "model_module_version": "1.2.0",
          "model_name": "LayoutModel",
          "state": {
            "_model_module": "@jupyter-widgets/base",
            "_model_module_version": "1.2.0",
            "_model_name": "LayoutModel",
            "_view_count": null,
            "_view_module": "@jupyter-widgets/base",
            "_view_module_version": "1.2.0",
            "_view_name": "LayoutView",
            "align_content": null,
            "align_items": null,
            "align_self": null,
            "border": null,
            "bottom": null,
            "display": null,
            "flex": null,
            "flex_flow": null,
            "grid_area": null,
            "grid_auto_columns": null,
            "grid_auto_flow": null,
            "grid_auto_rows": null,
            "grid_column": null,
            "grid_gap": null,
            "grid_row": null,
            "grid_template_areas": null,
            "grid_template_columns": null,
            "grid_template_rows": null,
            "height": null,
            "justify_content": null,
            "justify_items": null,
            "left": null,
            "margin": null,
            "max_height": null,
            "max_width": null,
            "min_height": null,
            "min_width": null,
            "object_fit": null,
            "object_position": null,
            "order": null,
            "overflow": null,
            "overflow_x": null,
            "overflow_y": null,
            "padding": null,
            "right": null,
            "top": null,
            "visibility": null,
            "width": null
          }
        },
        "37c98524d8c045d8aedbfe1a0b44a358": {
          "model_module": "@jupyter-widgets/controls",
          "model_module_version": "1.5.0",
          "model_name": "HTMLModel",
          "state": {
            "_dom_classes": [],
            "_model_module": "@jupyter-widgets/controls",
            "_model_module_version": "1.5.0",
            "_model_name": "HTMLModel",
            "_view_count": null,
            "_view_module": "@jupyter-widgets/controls",
            "_view_module_version": "1.5.0",
            "_view_name": "HTMLView",
            "description": "",
            "description_tooltip": null,
            "layout": "IPY_MODEL_a27144a8cda14971ad1909d6dbb5dca2",
            "placeholder": "​",
            "style": "IPY_MODEL_e68a443cf531439889a81c643dd457b0",
            "value": "model.safetensors: 100%"
          }
        },
        "3c1bea43010d48d883dd60efedbdd66d": {
          "model_module": "@jupyter-widgets/controls",
          "model_module_version": "1.5.0",
          "model_name": "HBoxModel",
          "state": {
            "_dom_classes": [],
            "_model_module": "@jupyter-widgets/controls",
            "_model_module_version": "1.5.0",
            "_model_name": "HBoxModel",
            "_view_count": null,
            "_view_module": "@jupyter-widgets/controls",
            "_view_module_version": "1.5.0",
            "_view_name": "HBoxView",
            "box_style": "",
            "children": [
              "IPY_MODEL_4515fce965574ebb823ef83e43e440e9",
              "IPY_MODEL_8db304b4aca84b0dab2d01579476768a",
              "IPY_MODEL_4ff4e4e6fd3849c79e91d1fe3fb437ef"
            ],
            "layout": "IPY_MODEL_8e374dccb99d4641bbf4d2c71579b9f2"
          }
        },
        "3d56450545fe4c4789fc69f033af45b1": {
          "model_module": "@jupyter-widgets/base",
          "model_module_version": "1.2.0",
          "model_name": "LayoutModel",
          "state": {
            "_model_module": "@jupyter-widgets/base",
            "_model_module_version": "1.2.0",
            "_model_name": "LayoutModel",
            "_view_count": null,
            "_view_module": "@jupyter-widgets/base",
            "_view_module_version": "1.2.0",
            "_view_name": "LayoutView",
            "align_content": null,
            "align_items": null,
            "align_self": null,
            "border": null,
            "bottom": null,
            "display": null,
            "flex": null,
            "flex_flow": null,
            "grid_area": null,
            "grid_auto_columns": null,
            "grid_auto_flow": null,
            "grid_auto_rows": null,
            "grid_column": null,
            "grid_gap": null,
            "grid_row": null,
            "grid_template_areas": null,
            "grid_template_columns": null,
            "grid_template_rows": null,
            "height": null,
            "justify_content": null,
            "justify_items": null,
            "left": null,
            "margin": null,
            "max_height": null,
            "max_width": null,
            "min_height": null,
            "min_width": null,
            "object_fit": null,
            "object_position": null,
            "order": null,
            "overflow": null,
            "overflow_x": null,
            "overflow_y": null,
            "padding": null,
            "right": null,
            "top": null,
            "visibility": null,
            "width": null
          }
        },
        "3d97a2900d3242c9b0d075eb4c79669e": {
          "model_module": "@jupyter-widgets/controls",
          "model_module_version": "1.5.0",
          "model_name": "HTMLModel",
          "state": {
            "_dom_classes": [],
            "_model_module": "@jupyter-widgets/controls",
            "_model_module_version": "1.5.0",
            "_model_name": "HTMLModel",
            "_view_count": null,
            "_view_module": "@jupyter-widgets/controls",
            "_view_module_version": "1.5.0",
            "_view_name": "HTMLView",
            "description": "",
            "description_tooltip": null,
            "layout": "IPY_MODEL_d1209c0b51494bdbaf71076ddb65f2df",
            "placeholder": "​",
            "style": "IPY_MODEL_5ca13290b2d64141bd81d6ee094a868b",
            "value": "tokenizer.json: 100%"
          }
        },
        "3deae13e09824b86a663579c67df9ca9": {
          "model_module": "@jupyter-widgets/controls",
          "model_module_version": "1.5.0",
          "model_name": "DescriptionStyleModel",
          "state": {
            "_model_module": "@jupyter-widgets/controls",
            "_model_module_version": "1.5.0",
            "_model_name": "DescriptionStyleModel",
            "_view_count": null,
            "_view_module": "@jupyter-widgets/base",
            "_view_module_version": "1.2.0",
            "_view_name": "StyleView",
            "description_width": ""
          }
        },
        "3f0af97a6cc546579344704f61ca723e": {
          "model_module": "@jupyter-widgets/controls",
          "model_module_version": "1.5.0",
          "model_name": "DescriptionStyleModel",
          "state": {
            "_model_module": "@jupyter-widgets/controls",
            "_model_module_version": "1.5.0",
            "_model_name": "DescriptionStyleModel",
            "_view_count": null,
            "_view_module": "@jupyter-widgets/base",
            "_view_module_version": "1.2.0",
            "_view_name": "StyleView",
            "description_width": ""
          }
        },
        "4029984376a44579afc7f2b5dc3af92e": {
          "model_module": "@jupyter-widgets/controls",
          "model_module_version": "1.5.0",
          "model_name": "FloatProgressModel",
          "state": {
            "_dom_classes": [],
            "_model_module": "@jupyter-widgets/controls",
            "_model_module_version": "1.5.0",
            "_model_name": "FloatProgressModel",
            "_view_count": null,
            "_view_module": "@jupyter-widgets/controls",
            "_view_module_version": "1.5.0",
            "_view_name": "ProgressView",
            "bar_style": "success",
            "description": "",
            "description_tooltip": null,
            "layout": "IPY_MODEL_a86c6ebc2b78484f99a605534df9b0a9",
            "max": 435797,
            "min": 0,
            "orientation": "horizontal",
            "style": "IPY_MODEL_6d45c913da9445559c45e0cfa4ec12ec",
            "value": 435797
          }
        },
        "410ecb490c9d4f0e94261c55d21e1533": {
          "model_module": "@jupyter-widgets/controls",
          "model_module_version": "1.5.0",
          "model_name": "HTMLModel",
          "state": {
            "_dom_classes": [],
            "_model_module": "@jupyter-widgets/controls",
            "_model_module_version": "1.5.0",
            "_model_name": "HTMLModel",
            "_view_count": null,
            "_view_module": "@jupyter-widgets/controls",
            "_view_module_version": "1.5.0",
            "_view_name": "HTMLView",
            "description": "",
            "description_tooltip": null,
            "layout": "IPY_MODEL_bfb7a0e76961402aa4bc9a31daacc94e",
            "placeholder": "​",
            "style": "IPY_MODEL_7e0667a3840d4643ade35cbeb887ebbe",
            "value": "vocab.txt: 100%"
          }
        },
        "4332ec56a940403aabe2ecd3fc88359e": {
          "model_module": "@jupyter-widgets/base",
          "model_module_version": "1.2.0",
          "model_name": "LayoutModel",
          "state": {
            "_model_module": "@jupyter-widgets/base",
            "_model_module_version": "1.2.0",
            "_model_name": "LayoutModel",
            "_view_count": null,
            "_view_module": "@jupyter-widgets/base",
            "_view_module_version": "1.2.0",
            "_view_name": "LayoutView",
            "align_content": null,
            "align_items": null,
            "align_self": null,
            "border": null,
            "bottom": null,
            "display": null,
            "flex": null,
            "flex_flow": null,
            "grid_area": null,
            "grid_auto_columns": null,
            "grid_auto_flow": null,
            "grid_auto_rows": null,
            "grid_column": null,
            "grid_gap": null,
            "grid_row": null,
            "grid_template_areas": null,
            "grid_template_columns": null,
            "grid_template_rows": null,
            "height": null,
            "justify_content": null,
            "justify_items": null,
            "left": null,
            "margin": null,
            "max_height": null,
            "max_width": null,
            "min_height": null,
            "min_width": null,
            "object_fit": null,
            "object_position": null,
            "order": null,
            "overflow": null,
            "overflow_x": null,
            "overflow_y": null,
            "padding": null,
            "right": null,
            "top": null,
            "visibility": null,
            "width": null
          }
        },
        "44d7c7b4653142298465291cfae28b13": {
          "model_module": "@jupyter-widgets/controls",
          "model_module_version": "1.5.0",
          "model_name": "HTMLModel",
          "state": {
            "_dom_classes": [],
            "_model_module": "@jupyter-widgets/controls",
            "_model_module_version": "1.5.0",
            "_model_name": "HTMLModel",
            "_view_count": null,
            "_view_module": "@jupyter-widgets/controls",
            "_view_module_version": "1.5.0",
            "_view_name": "HTMLView",
            "description": "",
            "description_tooltip": null,
            "layout": "IPY_MODEL_9a4156d0ed35499fa6dcf1f9ac185938",
            "placeholder": "​",
            "style": "IPY_MODEL_a12ee5aa0d774681980834e1d3e8b3ca",
            "value": " 436k/436k [00:00&lt;00:00, 6.92MB/s]"
          }
        },
        "4515fce965574ebb823ef83e43e440e9": {
          "model_module": "@jupyter-widgets/controls",
          "model_module_version": "1.5.0",
          "model_name": "HTMLModel",
          "state": {
            "_dom_classes": [],
            "_model_module": "@jupyter-widgets/controls",
            "_model_module_version": "1.5.0",
            "_model_name": "HTMLModel",
            "_view_count": null,
            "_view_module": "@jupyter-widgets/controls",
            "_view_module_version": "1.5.0",
            "_view_name": "HTMLView",
            "description": "",
            "description_tooltip": null,
            "layout": "IPY_MODEL_156911a5965f42868b232133ea5af35d",
            "placeholder": "​",
            "style": "IPY_MODEL_d923a0f84ebf4f9db4fd0b0d1580adbd",
            "value": "tokenizer_config.json: 100%"
          }
        },
        "460a9abd39cc4481885c897cccf83dbb": {
          "model_module": "@jupyter-widgets/controls",
          "model_module_version": "1.5.0",
          "model_name": "ProgressStyleModel",
          "state": {
            "_model_module": "@jupyter-widgets/controls",
            "_model_module_version": "1.5.0",
            "_model_name": "ProgressStyleModel",
            "_view_count": null,
            "_view_module": "@jupyter-widgets/base",
            "_view_module_version": "1.2.0",
            "_view_name": "StyleView",
            "bar_color": null,
            "description_width": ""
          }
        },
        "47e53fcf31fc4063a67700477f629bb4": {
          "model_module": "@jupyter-widgets/base",
          "model_module_version": "1.2.0",
          "model_name": "LayoutModel",
          "state": {
            "_model_module": "@jupyter-widgets/base",
            "_model_module_version": "1.2.0",
            "_model_name": "LayoutModel",
            "_view_count": null,
            "_view_module": "@jupyter-widgets/base",
            "_view_module_version": "1.2.0",
            "_view_name": "LayoutView",
            "align_content": null,
            "align_items": null,
            "align_self": null,
            "border": null,
            "bottom": null,
            "display": null,
            "flex": null,
            "flex_flow": null,
            "grid_area": null,
            "grid_auto_columns": null,
            "grid_auto_flow": null,
            "grid_auto_rows": null,
            "grid_column": null,
            "grid_gap": null,
            "grid_row": null,
            "grid_template_areas": null,
            "grid_template_columns": null,
            "grid_template_rows": null,
            "height": null,
            "justify_content": null,
            "justify_items": null,
            "left": null,
            "margin": null,
            "max_height": null,
            "max_width": null,
            "min_height": null,
            "min_width": null,
            "object_fit": null,
            "object_position": null,
            "order": null,
            "overflow": null,
            "overflow_x": null,
            "overflow_y": null,
            "padding": null,
            "right": null,
            "top": null,
            "visibility": null,
            "width": null
          }
        },
        "4c179b00de1f4909834120dc729e9563": {
          "model_module": "@jupyter-widgets/base",
          "model_module_version": "1.2.0",
          "model_name": "LayoutModel",
          "state": {
            "_model_module": "@jupyter-widgets/base",
            "_model_module_version": "1.2.0",
            "_model_name": "LayoutModel",
            "_view_count": null,
            "_view_module": "@jupyter-widgets/base",
            "_view_module_version": "1.2.0",
            "_view_name": "LayoutView",
            "align_content": null,
            "align_items": null,
            "align_self": null,
            "border": null,
            "bottom": null,
            "display": null,
            "flex": null,
            "flex_flow": null,
            "grid_area": null,
            "grid_auto_columns": null,
            "grid_auto_flow": null,
            "grid_auto_rows": null,
            "grid_column": null,
            "grid_gap": null,
            "grid_row": null,
            "grid_template_areas": null,
            "grid_template_columns": null,
            "grid_template_rows": null,
            "height": null,
            "justify_content": null,
            "justify_items": null,
            "left": null,
            "margin": null,
            "max_height": null,
            "max_width": null,
            "min_height": null,
            "min_width": null,
            "object_fit": null,
            "object_position": null,
            "order": null,
            "overflow": null,
            "overflow_x": null,
            "overflow_y": null,
            "padding": null,
            "right": null,
            "top": null,
            "visibility": null,
            "width": null
          }
        },
        "4ff4e4e6fd3849c79e91d1fe3fb437ef": {
          "model_module": "@jupyter-widgets/controls",
          "model_module_version": "1.5.0",
          "model_name": "HTMLModel",
          "state": {
            "_dom_classes": [],
            "_model_module": "@jupyter-widgets/controls",
            "_model_module_version": "1.5.0",
            "_model_name": "HTMLModel",
            "_view_count": null,
            "_view_module": "@jupyter-widgets/controls",
            "_view_module_version": "1.5.0",
            "_view_name": "HTMLView",
            "description": "",
            "description_tooltip": null,
            "layout": "IPY_MODEL_e47a0878c71240e58d200f3aca648f9b",
            "placeholder": "​",
            "style": "IPY_MODEL_7eecebdc0bff4b6c873dcfc421edc983",
            "value": " 49.0/49.0 [00:00&lt;00:00, 2.90kB/s]"
          }
        },
        "54f5332ff80f4bdc93745a0b6e83b378": {
          "model_module": "@jupyter-widgets/controls",
          "model_module_version": "1.5.0",
          "model_name": "HBoxModel",
          "state": {
            "_dom_classes": [],
            "_model_module": "@jupyter-widgets/controls",
            "_model_module_version": "1.5.0",
            "_model_name": "HBoxModel",
            "_view_count": null,
            "_view_module": "@jupyter-widgets/controls",
            "_view_module_version": "1.5.0",
            "_view_name": "HBoxView",
            "box_style": "",
            "children": [
              "IPY_MODEL_f4d368433b6e4055a7e4c5da9f7c23b7",
              "IPY_MODEL_efe5a90928d74219902819ccd1d43536",
              "IPY_MODEL_d42bd34a58c340518409daf26c6c7ba0"
            ],
            "layout": "IPY_MODEL_1f6acc2705ea433e814a52d70db6553b"
          }
        },
        "5826eb96988f4c34a60c0dbc054b4f5a": {
          "model_module": "@jupyter-widgets/controls",
          "model_module_version": "1.5.0",
          "model_name": "DescriptionStyleModel",
          "state": {
            "_model_module": "@jupyter-widgets/controls",
            "_model_module_version": "1.5.0",
            "_model_name": "DescriptionStyleModel",
            "_view_count": null,
            "_view_module": "@jupyter-widgets/base",
            "_view_module_version": "1.2.0",
            "_view_name": "StyleView",
            "description_width": ""
          }
        },
        "5a60d4e3566e4986b0cbcd0220698f6f": {
          "model_module": "@jupyter-widgets/base",
          "model_module_version": "1.2.0",
          "model_name": "LayoutModel",
          "state": {
            "_model_module": "@jupyter-widgets/base",
            "_model_module_version": "1.2.0",
            "_model_name": "LayoutModel",
            "_view_count": null,
            "_view_module": "@jupyter-widgets/base",
            "_view_module_version": "1.2.0",
            "_view_name": "LayoutView",
            "align_content": null,
            "align_items": null,
            "align_self": null,
            "border": null,
            "bottom": null,
            "display": null,
            "flex": null,
            "flex_flow": null,
            "grid_area": null,
            "grid_auto_columns": null,
            "grid_auto_flow": null,
            "grid_auto_rows": null,
            "grid_column": null,
            "grid_gap": null,
            "grid_row": null,
            "grid_template_areas": null,
            "grid_template_columns": null,
            "grid_template_rows": null,
            "height": null,
            "justify_content": null,
            "justify_items": null,
            "left": null,
            "margin": null,
            "max_height": null,
            "max_width": null,
            "min_height": null,
            "min_width": null,
            "object_fit": null,
            "object_position": null,
            "order": null,
            "overflow": null,
            "overflow_x": null,
            "overflow_y": null,
            "padding": null,
            "right": null,
            "top": null,
            "visibility": null,
            "width": null
          }
        },
        "5bd8cd4a13ad447599683eff98343b68": {
          "model_module": "@jupyter-widgets/controls",
          "model_module_version": "1.5.0",
          "model_name": "HTMLModel",
          "state": {
            "_dom_classes": [],
            "_model_module": "@jupyter-widgets/controls",
            "_model_module_version": "1.5.0",
            "_model_name": "HTMLModel",
            "_view_count": null,
            "_view_module": "@jupyter-widgets/controls",
            "_view_module_version": "1.5.0",
            "_view_name": "HTMLView",
            "description": "",
            "description_tooltip": null,
            "layout": "IPY_MODEL_dd2a995174974f5384984b772052bb88",
            "placeholder": "​",
            "style": "IPY_MODEL_3deae13e09824b86a663579c67df9ca9",
            "value": " 436k/436k [00:00&lt;00:00, 6.66MB/s]"
          }
        },
        "5c8acfcd851a4b44a78cda1e0e755f0d": {
          "model_module": "@jupyter-widgets/controls",
          "model_module_version": "1.5.0",
          "model_name": "DescriptionStyleModel",
          "state": {
            "_model_module": "@jupyter-widgets/controls",
            "_model_module_version": "1.5.0",
            "_model_name": "DescriptionStyleModel",
            "_view_count": null,
            "_view_module": "@jupyter-widgets/base",
            "_view_module_version": "1.2.0",
            "_view_name": "StyleView",
            "description_width": ""
          }
        },
        "5ca13290b2d64141bd81d6ee094a868b": {
          "model_module": "@jupyter-widgets/controls",
          "model_module_version": "1.5.0",
          "model_name": "DescriptionStyleModel",
          "state": {
            "_model_module": "@jupyter-widgets/controls",
            "_model_module_version": "1.5.0",
            "_model_name": "DescriptionStyleModel",
            "_view_count": null,
            "_view_module": "@jupyter-widgets/base",
            "_view_module_version": "1.2.0",
            "_view_name": "StyleView",
            "description_width": ""
          }
        },
        "5e46c81fc0464beca821f0cf7c97e531": {
          "model_module": "@jupyter-widgets/controls",
          "model_module_version": "1.5.0",
          "model_name": "DescriptionStyleModel",
          "state": {
            "_model_module": "@jupyter-widgets/controls",
            "_model_module_version": "1.5.0",
            "_model_name": "DescriptionStyleModel",
            "_view_count": null,
            "_view_module": "@jupyter-widgets/base",
            "_view_module_version": "1.2.0",
            "_view_name": "StyleView",
            "description_width": ""
          }
        },
        "63d02993c6e84a06aa96f0336dd1b927": {
          "model_module": "@jupyter-widgets/controls",
          "model_module_version": "1.5.0",
          "model_name": "HBoxModel",
          "state": {
            "_dom_classes": [],
            "_model_module": "@jupyter-widgets/controls",
            "_model_module_version": "1.5.0",
            "_model_name": "HBoxModel",
            "_view_count": null,
            "_view_module": "@jupyter-widgets/controls",
            "_view_module_version": "1.5.0",
            "_view_name": "HBoxView",
            "box_style": "",
            "children": [
              "IPY_MODEL_37c98524d8c045d8aedbfe1a0b44a358",
              "IPY_MODEL_72922795849040c290d4274941876217",
              "IPY_MODEL_21b0ba19a5ee46279c134226b1eaebcf"
            ],
            "layout": "IPY_MODEL_3d56450545fe4c4789fc69f033af45b1"
          }
        },
        "664560876f844eb49802e9572dfb236b": {
          "model_module": "@jupyter-widgets/controls",
          "model_module_version": "1.5.0",
          "model_name": "DescriptionStyleModel",
          "state": {
            "_model_module": "@jupyter-widgets/controls",
            "_model_module_version": "1.5.0",
            "_model_name": "DescriptionStyleModel",
            "_view_count": null,
            "_view_module": "@jupyter-widgets/base",
            "_view_module_version": "1.2.0",
            "_view_name": "StyleView",
            "description_width": ""
          }
        },
        "676cd0a01c3843bf85fd634049dba899": {
          "model_module": "@jupyter-widgets/controls",
          "model_module_version": "1.5.0",
          "model_name": "HTMLModel",
          "state": {
            "_dom_classes": [],
            "_model_module": "@jupyter-widgets/controls",
            "_model_module_version": "1.5.0",
            "_model_name": "HTMLModel",
            "_view_count": null,
            "_view_module": "@jupyter-widgets/controls",
            "_view_module_version": "1.5.0",
            "_view_name": "HTMLView",
            "description": "",
            "description_tooltip": null,
            "layout": "IPY_MODEL_6b0b85f053da4e97baff5667516adda3",
            "placeholder": "​",
            "style": "IPY_MODEL_5e46c81fc0464beca821f0cf7c97e531",
            "value": " 473/473 [00:00&lt;00:00, 13.7kB/s]"
          }
        },
        "6b0b85f053da4e97baff5667516adda3": {
          "model_module": "@jupyter-widgets/base",
          "model_module_version": "1.2.0",
          "model_name": "LayoutModel",
          "state": {
            "_model_module": "@jupyter-widgets/base",
            "_model_module_version": "1.2.0",
            "_model_name": "LayoutModel",
            "_view_count": null,
            "_view_module": "@jupyter-widgets/base",
            "_view_module_version": "1.2.0",
            "_view_name": "LayoutView",
            "align_content": null,
            "align_items": null,
            "align_self": null,
            "border": null,
            "bottom": null,
            "display": null,
            "flex": null,
            "flex_flow": null,
            "grid_area": null,
            "grid_auto_columns": null,
            "grid_auto_flow": null,
            "grid_auto_rows": null,
            "grid_column": null,
            "grid_gap": null,
            "grid_row": null,
            "grid_template_areas": null,
            "grid_template_columns": null,
            "grid_template_rows": null,
            "height": null,
            "justify_content": null,
            "justify_items": null,
            "left": null,
            "margin": null,
            "max_height": null,
            "max_width": null,
            "min_height": null,
            "min_width": null,
            "object_fit": null,
            "object_position": null,
            "order": null,
            "overflow": null,
            "overflow_x": null,
            "overflow_y": null,
            "padding": null,
            "right": null,
            "top": null,
            "visibility": null,
            "width": null
          }
        },
        "6b6af387c98245149514778487f8dcbf": {
          "model_module": "@jupyter-widgets/controls",
          "model_module_version": "1.5.0",
          "model_name": "ProgressStyleModel",
          "state": {
            "_model_module": "@jupyter-widgets/controls",
            "_model_module_version": "1.5.0",
            "_model_name": "ProgressStyleModel",
            "_view_count": null,
            "_view_module": "@jupyter-widgets/base",
            "_view_module_version": "1.2.0",
            "_view_name": "StyleView",
            "bar_color": null,
            "description_width": ""
          }
        },
        "6d45c913da9445559c45e0cfa4ec12ec": {
          "model_module": "@jupyter-widgets/controls",
          "model_module_version": "1.5.0",
          "model_name": "ProgressStyleModel",
          "state": {
            "_model_module": "@jupyter-widgets/controls",
            "_model_module_version": "1.5.0",
            "_model_name": "ProgressStyleModel",
            "_view_count": null,
            "_view_module": "@jupyter-widgets/base",
            "_view_module_version": "1.2.0",
            "_view_name": "StyleView",
            "bar_color": null,
            "description_width": ""
          }
        },
        "7224019a3c0544dfa9071536ee01e558": {
          "model_module": "@jupyter-widgets/base",
          "model_module_version": "1.2.0",
          "model_name": "LayoutModel",
          "state": {
            "_model_module": "@jupyter-widgets/base",
            "_model_module_version": "1.2.0",
            "_model_name": "LayoutModel",
            "_view_count": null,
            "_view_module": "@jupyter-widgets/base",
            "_view_module_version": "1.2.0",
            "_view_name": "LayoutView",
            "align_content": null,
            "align_items": null,
            "align_self": null,
            "border": null,
            "bottom": null,
            "display": null,
            "flex": null,
            "flex_flow": null,
            "grid_area": null,
            "grid_auto_columns": null,
            "grid_auto_flow": null,
            "grid_auto_rows": null,
            "grid_column": null,
            "grid_gap": null,
            "grid_row": null,
            "grid_template_areas": null,
            "grid_template_columns": null,
            "grid_template_rows": null,
            "height": null,
            "justify_content": null,
            "justify_items": null,
            "left": null,
            "margin": null,
            "max_height": null,
            "max_width": null,
            "min_height": null,
            "min_width": null,
            "object_fit": null,
            "object_position": null,
            "order": null,
            "overflow": null,
            "overflow_x": null,
            "overflow_y": null,
            "padding": null,
            "right": null,
            "top": null,
            "visibility": null,
            "width": null
          }
        },
        "72922795849040c290d4274941876217": {
          "model_module": "@jupyter-widgets/controls",
          "model_module_version": "1.5.0",
          "model_name": "FloatProgressModel",
          "state": {
            "_dom_classes": [],
            "_model_module": "@jupyter-widgets/controls",
            "_model_module_version": "1.5.0",
            "_model_name": "FloatProgressModel",
            "_view_count": null,
            "_view_module": "@jupyter-widgets/controls",
            "_view_module_version": "1.5.0",
            "_view_name": "ProgressView",
            "bar_style": "success",
            "description": "",
            "description_tooltip": null,
            "layout": "IPY_MODEL_f57fd166e5cb4c63bb42ff2cf7fd96e7",
            "max": 260782156,
            "min": 0,
            "orientation": "horizontal",
            "style": "IPY_MODEL_d89a2ec7832f4d7a95b6b3257b1e44e7",
            "value": 260782156
          }
        },
        "74fc8a805e1d41a7bb6c2cb92fa18d08": {
          "model_module": "@jupyter-widgets/base",
          "model_module_version": "1.2.0",
          "model_name": "LayoutModel",
          "state": {
            "_model_module": "@jupyter-widgets/base",
            "_model_module_version": "1.2.0",
            "_model_name": "LayoutModel",
            "_view_count": null,
            "_view_module": "@jupyter-widgets/base",
            "_view_module_version": "1.2.0",
            "_view_name": "LayoutView",
            "align_content": null,
            "align_items": null,
            "align_self": null,
            "border": null,
            "bottom": null,
            "display": null,
            "flex": null,
            "flex_flow": null,
            "grid_area": null,
            "grid_auto_columns": null,
            "grid_auto_flow": null,
            "grid_auto_rows": null,
            "grid_column": null,
            "grid_gap": null,
            "grid_row": null,
            "grid_template_areas": null,
            "grid_template_columns": null,
            "grid_template_rows": null,
            "height": null,
            "justify_content": null,
            "justify_items": null,
            "left": null,
            "margin": null,
            "max_height": null,
            "max_width": null,
            "min_height": null,
            "min_width": null,
            "object_fit": null,
            "object_position": null,
            "order": null,
            "overflow": null,
            "overflow_x": null,
            "overflow_y": null,
            "padding": null,
            "right": null,
            "top": null,
            "visibility": null,
            "width": null
          }
        },
        "78bf5a4da97548b0b3afd0e38ed0923b": {
          "model_module": "@jupyter-widgets/base",
          "model_module_version": "1.2.0",
          "model_name": "LayoutModel",
          "state": {
            "_model_module": "@jupyter-widgets/base",
            "_model_module_version": "1.2.0",
            "_model_name": "LayoutModel",
            "_view_count": null,
            "_view_module": "@jupyter-widgets/base",
            "_view_module_version": "1.2.0",
            "_view_name": "LayoutView",
            "align_content": null,
            "align_items": null,
            "align_self": null,
            "border": null,
            "bottom": null,
            "display": null,
            "flex": null,
            "flex_flow": null,
            "grid_area": null,
            "grid_auto_columns": null,
            "grid_auto_flow": null,
            "grid_auto_rows": null,
            "grid_column": null,
            "grid_gap": null,
            "grid_row": null,
            "grid_template_areas": null,
            "grid_template_columns": null,
            "grid_template_rows": null,
            "height": null,
            "justify_content": null,
            "justify_items": null,
            "left": null,
            "margin": null,
            "max_height": null,
            "max_width": null,
            "min_height": null,
            "min_width": null,
            "object_fit": null,
            "object_position": null,
            "order": null,
            "overflow": null,
            "overflow_x": null,
            "overflow_y": null,
            "padding": null,
            "right": null,
            "top": null,
            "visibility": null,
            "width": null
          }
        },
        "7abd0a3879be4f8dbe989ebd2159bb31": {
          "model_module": "@jupyter-widgets/controls",
          "model_module_version": "1.5.0",
          "model_name": "FloatProgressModel",
          "state": {
            "_dom_classes": [],
            "_model_module": "@jupyter-widgets/controls",
            "_model_module_version": "1.5.0",
            "_model_name": "FloatProgressModel",
            "_view_count": null,
            "_view_module": "@jupyter-widgets/controls",
            "_view_module_version": "1.5.0",
            "_view_name": "ProgressView",
            "bar_style": "success",
            "description": "",
            "description_tooltip": null,
            "layout": "IPY_MODEL_4332ec56a940403aabe2ecd3fc88359e",
            "max": 213450,
            "min": 0,
            "orientation": "horizontal",
            "style": "IPY_MODEL_317acf0012fe46fbb7ec9884c8cc2f10",
            "value": 213450
          }
        },
        "7e0667a3840d4643ade35cbeb887ebbe": {
          "model_module": "@jupyter-widgets/controls",
          "model_module_version": "1.5.0",
          "model_name": "DescriptionStyleModel",
          "state": {
            "_model_module": "@jupyter-widgets/controls",
            "_model_module_version": "1.5.0",
            "_model_name": "DescriptionStyleModel",
            "_view_count": null,
            "_view_module": "@jupyter-widgets/base",
            "_view_module_version": "1.2.0",
            "_view_name": "StyleView",
            "description_width": ""
          }
        },
        "7e7b227b7f574562bcced7a94d5676b1": {
          "model_module": "@jupyter-widgets/controls",
          "model_module_version": "1.5.0",
          "model_name": "HTMLModel",
          "state": {
            "_dom_classes": [],
            "_model_module": "@jupyter-widgets/controls",
            "_model_module_version": "1.5.0",
            "_model_name": "HTMLModel",
            "_view_count": null,
            "_view_module": "@jupyter-widgets/controls",
            "_view_module_version": "1.5.0",
            "_view_name": "HTMLView",
            "description": "",
            "description_tooltip": null,
            "layout": "IPY_MODEL_c7e955fe4dd94f55bd0495be72ad7bbd",
            "placeholder": "​",
            "style": "IPY_MODEL_5c8acfcd851a4b44a78cda1e0e755f0d",
            "value": " 213k/213k [00:00&lt;00:00, 4.38MB/s]"
          }
        },
        "7eb6bd945e264bd9892f440b4d86955a": {
          "model_module": "@jupyter-widgets/controls",
          "model_module_version": "1.5.0",
          "model_name": "HBoxModel",
          "state": {
            "_dom_classes": [],
            "_model_module": "@jupyter-widgets/controls",
            "_model_module_version": "1.5.0",
            "_model_name": "HBoxModel",
            "_view_count": null,
            "_view_module": "@jupyter-widgets/controls",
            "_view_module_version": "1.5.0",
            "_view_name": "HBoxView",
            "box_style": "",
            "children": [
              "IPY_MODEL_a96ed7e7188b4f8ab30b876be52b47a2",
              "IPY_MODEL_93b1903863c8451181a056e3f4b0105a",
              "IPY_MODEL_97b0ceee396540018e12c9eeeb047bca"
            ],
            "layout": "IPY_MODEL_8ef3c73929be4950a86432b9ed65ebd5"
          }
        },
        "7eecebdc0bff4b6c873dcfc421edc983": {
          "model_module": "@jupyter-widgets/controls",
          "model_module_version": "1.5.0",
          "model_name": "DescriptionStyleModel",
          "state": {
            "_model_module": "@jupyter-widgets/controls",
            "_model_module_version": "1.5.0",
            "_model_name": "DescriptionStyleModel",
            "_view_count": null,
            "_view_module": "@jupyter-widgets/base",
            "_view_module_version": "1.2.0",
            "_view_name": "StyleView",
            "description_width": ""
          }
        },
        "7f38a0e4b1f84896861a385f0f192a7d": {
          "model_module": "@jupyter-widgets/controls",
          "model_module_version": "1.5.0",
          "model_name": "ProgressStyleModel",
          "state": {
            "_model_module": "@jupyter-widgets/controls",
            "_model_module_version": "1.5.0",
            "_model_name": "ProgressStyleModel",
            "_view_count": null,
            "_view_module": "@jupyter-widgets/base",
            "_view_module_version": "1.2.0",
            "_view_name": "StyleView",
            "bar_color": null,
            "description_width": ""
          }
        },
        "8aa452701e4d420d82474f318a65279f": {
          "model_module": "@jupyter-widgets/base",
          "model_module_version": "1.2.0",
          "model_name": "LayoutModel",
          "state": {
            "_model_module": "@jupyter-widgets/base",
            "_model_module_version": "1.2.0",
            "_model_name": "LayoutModel",
            "_view_count": null,
            "_view_module": "@jupyter-widgets/base",
            "_view_module_version": "1.2.0",
            "_view_name": "LayoutView",
            "align_content": null,
            "align_items": null,
            "align_self": null,
            "border": null,
            "bottom": null,
            "display": null,
            "flex": null,
            "flex_flow": null,
            "grid_area": null,
            "grid_auto_columns": null,
            "grid_auto_flow": null,
            "grid_auto_rows": null,
            "grid_column": null,
            "grid_gap": null,
            "grid_row": null,
            "grid_template_areas": null,
            "grid_template_columns": null,
            "grid_template_rows": null,
            "height": null,
            "justify_content": null,
            "justify_items": null,
            "left": null,
            "margin": null,
            "max_height": null,
            "max_width": null,
            "min_height": null,
            "min_width": null,
            "object_fit": null,
            "object_position": null,
            "order": null,
            "overflow": null,
            "overflow_x": null,
            "overflow_y": null,
            "padding": null,
            "right": null,
            "top": null,
            "visibility": null,
            "width": null
          }
        },
        "8db304b4aca84b0dab2d01579476768a": {
          "model_module": "@jupyter-widgets/controls",
          "model_module_version": "1.5.0",
          "model_name": "FloatProgressModel",
          "state": {
            "_dom_classes": [],
            "_model_module": "@jupyter-widgets/controls",
            "_model_module_version": "1.5.0",
            "_model_name": "FloatProgressModel",
            "_view_count": null,
            "_view_module": "@jupyter-widgets/controls",
            "_view_module_version": "1.5.0",
            "_view_name": "ProgressView",
            "bar_style": "success",
            "description": "",
            "description_tooltip": null,
            "layout": "IPY_MODEL_e13f8f758405465782d62156983ca92d",
            "max": 49,
            "min": 0,
            "orientation": "horizontal",
            "style": "IPY_MODEL_fabd0ff4d60043f884487050422bac9b",
            "value": 49
          }
        },
        "8e374dccb99d4641bbf4d2c71579b9f2": {
          "model_module": "@jupyter-widgets/base",
          "model_module_version": "1.2.0",
          "model_name": "LayoutModel",
          "state": {
            "_model_module": "@jupyter-widgets/base",
            "_model_module_version": "1.2.0",
            "_model_name": "LayoutModel",
            "_view_count": null,
            "_view_module": "@jupyter-widgets/base",
            "_view_module_version": "1.2.0",
            "_view_name": "LayoutView",
            "align_content": null,
            "align_items": null,
            "align_self": null,
            "border": null,
            "bottom": null,
            "display": null,
            "flex": null,
            "flex_flow": null,
            "grid_area": null,
            "grid_auto_columns": null,
            "grid_auto_flow": null,
            "grid_auto_rows": null,
            "grid_column": null,
            "grid_gap": null,
            "grid_row": null,
            "grid_template_areas": null,
            "grid_template_columns": null,
            "grid_template_rows": null,
            "height": null,
            "justify_content": null,
            "justify_items": null,
            "left": null,
            "margin": null,
            "max_height": null,
            "max_width": null,
            "min_height": null,
            "min_width": null,
            "object_fit": null,
            "object_position": null,
            "order": null,
            "overflow": null,
            "overflow_x": null,
            "overflow_y": null,
            "padding": null,
            "right": null,
            "top": null,
            "visibility": null,
            "width": null
          }
        },
        "8ef3c73929be4950a86432b9ed65ebd5": {
          "model_module": "@jupyter-widgets/base",
          "model_module_version": "1.2.0",
          "model_name": "LayoutModel",
          "state": {
            "_model_module": "@jupyter-widgets/base",
            "_model_module_version": "1.2.0",
            "_model_name": "LayoutModel",
            "_view_count": null,
            "_view_module": "@jupyter-widgets/base",
            "_view_module_version": "1.2.0",
            "_view_name": "LayoutView",
            "align_content": null,
            "align_items": null,
            "align_self": null,
            "border": null,
            "bottom": null,
            "display": null,
            "flex": null,
            "flex_flow": null,
            "grid_area": null,
            "grid_auto_columns": null,
            "grid_auto_flow": null,
            "grid_auto_rows": null,
            "grid_column": null,
            "grid_gap": null,
            "grid_row": null,
            "grid_template_areas": null,
            "grid_template_columns": null,
            "grid_template_rows": null,
            "height": null,
            "justify_content": null,
            "justify_items": null,
            "left": null,
            "margin": null,
            "max_height": null,
            "max_width": null,
            "min_height": null,
            "min_width": null,
            "object_fit": null,
            "object_position": null,
            "order": null,
            "overflow": null,
            "overflow_x": null,
            "overflow_y": null,
            "padding": null,
            "right": null,
            "top": null,
            "visibility": null,
            "width": null
          }
        },
        "93b1903863c8451181a056e3f4b0105a": {
          "model_module": "@jupyter-widgets/controls",
          "model_module_version": "1.5.0",
          "model_name": "FloatProgressModel",
          "state": {
            "_dom_classes": [],
            "_model_module": "@jupyter-widgets/controls",
            "_model_module_version": "1.5.0",
            "_model_name": "FloatProgressModel",
            "_view_count": null,
            "_view_module": "@jupyter-widgets/controls",
            "_view_module_version": "1.5.0",
            "_view_name": "ProgressView",
            "bar_style": "success",
            "description": "",
            "description_tooltip": null,
            "layout": "IPY_MODEL_c8970f0b718d4beb99cdcc75c0fc75e5",
            "max": 473,
            "min": 0,
            "orientation": "horizontal",
            "style": "IPY_MODEL_460a9abd39cc4481885c897cccf83dbb",
            "value": 473
          }
        },
        "93f16db089c6481caa26f5258126f3a3": {
          "model_module": "@jupyter-widgets/controls",
          "model_module_version": "1.5.0",
          "model_name": "FloatProgressModel",
          "state": {
            "_dom_classes": [],
            "_model_module": "@jupyter-widgets/controls",
            "_model_module_version": "1.5.0",
            "_model_name": "FloatProgressModel",
            "_view_count": null,
            "_view_module": "@jupyter-widgets/controls",
            "_view_module_version": "1.5.0",
            "_view_name": "ProgressView",
            "bar_style": "success",
            "description": "",
            "description_tooltip": null,
            "layout": "IPY_MODEL_47e53fcf31fc4063a67700477f629bb4",
            "max": 213450,
            "min": 0,
            "orientation": "horizontal",
            "style": "IPY_MODEL_7f38a0e4b1f84896861a385f0f192a7d",
            "value": 213450
          }
        },
        "97b0ceee396540018e12c9eeeb047bca": {
          "model_module": "@jupyter-widgets/controls",
          "model_module_version": "1.5.0",
          "model_name": "HTMLModel",
          "state": {
            "_dom_classes": [],
            "_model_module": "@jupyter-widgets/controls",
            "_model_module_version": "1.5.0",
            "_model_name": "HTMLModel",
            "_view_count": null,
            "_view_module": "@jupyter-widgets/controls",
            "_view_module_version": "1.5.0",
            "_view_name": "HTMLView",
            "description": "",
            "description_tooltip": null,
            "layout": "IPY_MODEL_f208755c947540b096cade9922b522bb",
            "placeholder": "​",
            "style": "IPY_MODEL_e2ad4594032c4e90ba286562d6cb93b2",
            "value": " 473/473 [00:00&lt;00:00, 44.1kB/s]"
          }
        },
        "984e11ab16564a3b862d7ebceb46f00e": {
          "model_module": "@jupyter-widgets/controls",
          "model_module_version": "1.5.0",
          "model_name": "FloatProgressModel",
          "state": {
            "_dom_classes": [],
            "_model_module": "@jupyter-widgets/controls",
            "_model_module_version": "1.5.0",
            "_model_name": "FloatProgressModel",
            "_view_count": null,
            "_view_module": "@jupyter-widgets/controls",
            "_view_module_version": "1.5.0",
            "_view_name": "ProgressView",
            "bar_style": "success",
            "description": "",
            "description_tooltip": null,
            "layout": "IPY_MODEL_2d3d43f546a240e1b9227f9dbef7c0d8",
            "max": 473,
            "min": 0,
            "orientation": "horizontal",
            "style": "IPY_MODEL_c6972496b8a2437d923f9eef2ff7622e",
            "value": 473
          }
        },
        "9a4156d0ed35499fa6dcf1f9ac185938": {
          "model_module": "@jupyter-widgets/base",
          "model_module_version": "1.2.0",
          "model_name": "LayoutModel",
          "state": {
            "_model_module": "@jupyter-widgets/base",
            "_model_module_version": "1.2.0",
            "_model_name": "LayoutModel",
            "_view_count": null,
            "_view_module": "@jupyter-widgets/base",
            "_view_module_version": "1.2.0",
            "_view_name": "LayoutView",
            "align_content": null,
            "align_items": null,
            "align_self": null,
            "border": null,
            "bottom": null,
            "display": null,
            "flex": null,
            "flex_flow": null,
            "grid_area": null,
            "grid_auto_columns": null,
            "grid_auto_flow": null,
            "grid_auto_rows": null,
            "grid_column": null,
            "grid_gap": null,
            "grid_row": null,
            "grid_template_areas": null,
            "grid_template_columns": null,
            "grid_template_rows": null,
            "height": null,
            "justify_content": null,
            "justify_items": null,
            "left": null,
            "margin": null,
            "max_height": null,
            "max_width": null,
            "min_height": null,
            "min_width": null,
            "object_fit": null,
            "object_position": null,
            "order": null,
            "overflow": null,
            "overflow_x": null,
            "overflow_y": null,
            "padding": null,
            "right": null,
            "top": null,
            "visibility": null,
            "width": null
          }
        },
        "9db31f9f671e443f9641492a58a18035": {
          "model_module": "@jupyter-widgets/controls",
          "model_module_version": "1.5.0",
          "model_name": "HTMLModel",
          "state": {
            "_dom_classes": [],
            "_model_module": "@jupyter-widgets/controls",
            "_model_module_version": "1.5.0",
            "_model_name": "HTMLModel",
            "_view_count": null,
            "_view_module": "@jupyter-widgets/controls",
            "_view_module_version": "1.5.0",
            "_view_name": "HTMLView",
            "description": "",
            "description_tooltip": null,
            "layout": "IPY_MODEL_7224019a3c0544dfa9071536ee01e558",
            "placeholder": "​",
            "style": "IPY_MODEL_fc16a15a4dea4f70b0f563012eba7615",
            "value": "config.json: 100%"
          }
        },
        "a0734041f7674279b09022dcfb5e4275": {
          "model_module": "@jupyter-widgets/controls",
          "model_module_version": "1.5.0",
          "model_name": "HBoxModel",
          "state": {
            "_dom_classes": [],
            "_model_module": "@jupyter-widgets/controls",
            "_model_module_version": "1.5.0",
            "_model_name": "HBoxModel",
            "_view_count": null,
            "_view_module": "@jupyter-widgets/controls",
            "_view_module_version": "1.5.0",
            "_view_name": "HBoxView",
            "box_style": "",
            "children": [
              "IPY_MODEL_e80e3e32cc2a4bfc8f7fed4de657b535",
              "IPY_MODEL_fe4030e3e88146c6987befe09818b1dd",
              "IPY_MODEL_26cb06ead8a04ccd811dcf5262c94c73"
            ],
            "layout": "IPY_MODEL_35593928ac6548bc843963a59f83b4b5"
          }
        },
        "a12ee5aa0d774681980834e1d3e8b3ca": {
          "model_module": "@jupyter-widgets/controls",
          "model_module_version": "1.5.0",
          "model_name": "DescriptionStyleModel",
          "state": {
            "_model_module": "@jupyter-widgets/controls",
            "_model_module_version": "1.5.0",
            "_model_name": "DescriptionStyleModel",
            "_view_count": null,
            "_view_module": "@jupyter-widgets/base",
            "_view_module_version": "1.2.0",
            "_view_name": "StyleView",
            "description_width": ""
          }
        },
        "a27144a8cda14971ad1909d6dbb5dca2": {
          "model_module": "@jupyter-widgets/base",
          "model_module_version": "1.2.0",
          "model_name": "LayoutModel",
          "state": {
            "_model_module": "@jupyter-widgets/base",
            "_model_module_version": "1.2.0",
            "_model_name": "LayoutModel",
            "_view_count": null,
            "_view_module": "@jupyter-widgets/base",
            "_view_module_version": "1.2.0",
            "_view_name": "LayoutView",
            "align_content": null,
            "align_items": null,
            "align_self": null,
            "border": null,
            "bottom": null,
            "display": null,
            "flex": null,
            "flex_flow": null,
            "grid_area": null,
            "grid_auto_columns": null,
            "grid_auto_flow": null,
            "grid_auto_rows": null,
            "grid_column": null,
            "grid_gap": null,
            "grid_row": null,
            "grid_template_areas": null,
            "grid_template_columns": null,
            "grid_template_rows": null,
            "height": null,
            "justify_content": null,
            "justify_items": null,
            "left": null,
            "margin": null,
            "max_height": null,
            "max_width": null,
            "min_height": null,
            "min_width": null,
            "object_fit": null,
            "object_position": null,
            "order": null,
            "overflow": null,
            "overflow_x": null,
            "overflow_y": null,
            "padding": null,
            "right": null,
            "top": null,
            "visibility": null,
            "width": null
          }
        },
        "a3587eb27568412b9014c656d94dedeb": {
          "model_module": "@jupyter-widgets/controls",
          "model_module_version": "1.5.0",
          "model_name": "DescriptionStyleModel",
          "state": {
            "_model_module": "@jupyter-widgets/controls",
            "_model_module_version": "1.5.0",
            "_model_name": "DescriptionStyleModel",
            "_view_count": null,
            "_view_module": "@jupyter-widgets/base",
            "_view_module_version": "1.2.0",
            "_view_name": "StyleView",
            "description_width": ""
          }
        },
        "a5f8c36872514eb9a561cf1a24439ed3": {
          "model_module": "@jupyter-widgets/controls",
          "model_module_version": "1.5.0",
          "model_name": "HBoxModel",
          "state": {
            "_dom_classes": [],
            "_model_module": "@jupyter-widgets/controls",
            "_model_module_version": "1.5.0",
            "_model_name": "HBoxModel",
            "_view_count": null,
            "_view_module": "@jupyter-widgets/controls",
            "_view_module_version": "1.5.0",
            "_view_name": "HBoxView",
            "box_style": "",
            "children": [
              "IPY_MODEL_410ecb490c9d4f0e94261c55d21e1533",
              "IPY_MODEL_93f16db089c6481caa26f5258126f3a3",
              "IPY_MODEL_7e7b227b7f574562bcced7a94d5676b1"
            ],
            "layout": "IPY_MODEL_c2a09eee4d5a42d481b9f79fc35380bd"
          }
        },
        "a86c6ebc2b78484f99a605534df9b0a9": {
          "model_module": "@jupyter-widgets/base",
          "model_module_version": "1.2.0",
          "model_name": "LayoutModel",
          "state": {
            "_model_module": "@jupyter-widgets/base",
            "_model_module_version": "1.2.0",
            "_model_name": "LayoutModel",
            "_view_count": null,
            "_view_module": "@jupyter-widgets/base",
            "_view_module_version": "1.2.0",
            "_view_name": "LayoutView",
            "align_content": null,
            "align_items": null,
            "align_self": null,
            "border": null,
            "bottom": null,
            "display": null,
            "flex": null,
            "flex_flow": null,
            "grid_area": null,
            "grid_auto_columns": null,
            "grid_auto_flow": null,
            "grid_auto_rows": null,
            "grid_column": null,
            "grid_gap": null,
            "grid_row": null,
            "grid_template_areas": null,
            "grid_template_columns": null,
            "grid_template_rows": null,
            "height": null,
            "justify_content": null,
            "justify_items": null,
            "left": null,
            "margin": null,
            "max_height": null,
            "max_width": null,
            "min_height": null,
            "min_width": null,
            "object_fit": null,
            "object_position": null,
            "order": null,
            "overflow": null,
            "overflow_x": null,
            "overflow_y": null,
            "padding": null,
            "right": null,
            "top": null,
            "visibility": null,
            "width": null
          }
        },
        "a93da26d984f4533b2ee70198e6a4ea6": {
          "model_module": "@jupyter-widgets/controls",
          "model_module_version": "1.5.0",
          "model_name": "DescriptionStyleModel",
          "state": {
            "_model_module": "@jupyter-widgets/controls",
            "_model_module_version": "1.5.0",
            "_model_name": "DescriptionStyleModel",
            "_view_count": null,
            "_view_module": "@jupyter-widgets/base",
            "_view_module_version": "1.2.0",
            "_view_name": "StyleView",
            "description_width": ""
          }
        },
        "a96ed7e7188b4f8ab30b876be52b47a2": {
          "model_module": "@jupyter-widgets/controls",
          "model_module_version": "1.5.0",
          "model_name": "HTMLModel",
          "state": {
            "_dom_classes": [],
            "_model_module": "@jupyter-widgets/controls",
            "_model_module_version": "1.5.0",
            "_model_name": "HTMLModel",
            "_view_count": null,
            "_view_module": "@jupyter-widgets/controls",
            "_view_module_version": "1.5.0",
            "_view_name": "HTMLView",
            "description": "",
            "description_tooltip": null,
            "layout": "IPY_MODEL_0f3e3995eb66489c940166ec10f54adf",
            "placeholder": "​",
            "style": "IPY_MODEL_2dd2d16e86734e9da0cfe34acda70913",
            "value": "config.json: 100%"
          }
        },
        "aeb1c45eddde4563b7aab368c70db2e2": {
          "model_module": "@jupyter-widgets/base",
          "model_module_version": "1.2.0",
          "model_name": "LayoutModel",
          "state": {
            "_model_module": "@jupyter-widgets/base",
            "_model_module_version": "1.2.0",
            "_model_name": "LayoutModel",
            "_view_count": null,
            "_view_module": "@jupyter-widgets/base",
            "_view_module_version": "1.2.0",
            "_view_name": "LayoutView",
            "align_content": null,
            "align_items": null,
            "align_self": null,
            "border": null,
            "bottom": null,
            "display": null,
            "flex": null,
            "flex_flow": null,
            "grid_area": null,
            "grid_auto_columns": null,
            "grid_auto_flow": null,
            "grid_auto_rows": null,
            "grid_column": null,
            "grid_gap": null,
            "grid_row": null,
            "grid_template_areas": null,
            "grid_template_columns": null,
            "grid_template_rows": null,
            "height": null,
            "justify_content": null,
            "justify_items": null,
            "left": null,
            "margin": null,
            "max_height": null,
            "max_width": null,
            "min_height": null,
            "min_width": null,
            "object_fit": null,
            "object_position": null,
            "order": null,
            "overflow": null,
            "overflow_x": null,
            "overflow_y": null,
            "padding": null,
            "right": null,
            "top": null,
            "visibility": null,
            "width": null
          }
        },
        "b1c81c64b05b4ec1a1490cebf78d6766": {
          "model_module": "@jupyter-widgets/base",
          "model_module_version": "1.2.0",
          "model_name": "LayoutModel",
          "state": {
            "_model_module": "@jupyter-widgets/base",
            "_model_module_version": "1.2.0",
            "_model_name": "LayoutModel",
            "_view_count": null,
            "_view_module": "@jupyter-widgets/base",
            "_view_module_version": "1.2.0",
            "_view_name": "LayoutView",
            "align_content": null,
            "align_items": null,
            "align_self": null,
            "border": null,
            "bottom": null,
            "display": null,
            "flex": null,
            "flex_flow": null,
            "grid_area": null,
            "grid_auto_columns": null,
            "grid_auto_flow": null,
            "grid_auto_rows": null,
            "grid_column": null,
            "grid_gap": null,
            "grid_row": null,
            "grid_template_areas": null,
            "grid_template_columns": null,
            "grid_template_rows": null,
            "height": null,
            "justify_content": null,
            "justify_items": null,
            "left": null,
            "margin": null,
            "max_height": null,
            "max_width": null,
            "min_height": null,
            "min_width": null,
            "object_fit": null,
            "object_position": null,
            "order": null,
            "overflow": null,
            "overflow_x": null,
            "overflow_y": null,
            "padding": null,
            "right": null,
            "top": null,
            "visibility": null,
            "width": null
          }
        },
        "b96785f897ff4f1bae17a44def1b4f03": {
          "model_module": "@jupyter-widgets/controls",
          "model_module_version": "1.5.0",
          "model_name": "ProgressStyleModel",
          "state": {
            "_model_module": "@jupyter-widgets/controls",
            "_model_module_version": "1.5.0",
            "_model_name": "ProgressStyleModel",
            "_view_count": null,
            "_view_module": "@jupyter-widgets/base",
            "_view_module_version": "1.2.0",
            "_view_name": "StyleView",
            "bar_color": null,
            "description_width": ""
          }
        },
        "bfb7a0e76961402aa4bc9a31daacc94e": {
          "model_module": "@jupyter-widgets/base",
          "model_module_version": "1.2.0",
          "model_name": "LayoutModel",
          "state": {
            "_model_module": "@jupyter-widgets/base",
            "_model_module_version": "1.2.0",
            "_model_name": "LayoutModel",
            "_view_count": null,
            "_view_module": "@jupyter-widgets/base",
            "_view_module_version": "1.2.0",
            "_view_name": "LayoutView",
            "align_content": null,
            "align_items": null,
            "align_self": null,
            "border": null,
            "bottom": null,
            "display": null,
            "flex": null,
            "flex_flow": null,
            "grid_area": null,
            "grid_auto_columns": null,
            "grid_auto_flow": null,
            "grid_auto_rows": null,
            "grid_column": null,
            "grid_gap": null,
            "grid_row": null,
            "grid_template_areas": null,
            "grid_template_columns": null,
            "grid_template_rows": null,
            "height": null,
            "justify_content": null,
            "justify_items": null,
            "left": null,
            "margin": null,
            "max_height": null,
            "max_width": null,
            "min_height": null,
            "min_width": null,
            "object_fit": null,
            "object_position": null,
            "order": null,
            "overflow": null,
            "overflow_x": null,
            "overflow_y": null,
            "padding": null,
            "right": null,
            "top": null,
            "visibility": null,
            "width": null
          }
        },
        "c2a09eee4d5a42d481b9f79fc35380bd": {
          "model_module": "@jupyter-widgets/base",
          "model_module_version": "1.2.0",
          "model_name": "LayoutModel",
          "state": {
            "_model_module": "@jupyter-widgets/base",
            "_model_module_version": "1.2.0",
            "_model_name": "LayoutModel",
            "_view_count": null,
            "_view_module": "@jupyter-widgets/base",
            "_view_module_version": "1.2.0",
            "_view_name": "LayoutView",
            "align_content": null,
            "align_items": null,
            "align_self": null,
            "border": null,
            "bottom": null,
            "display": null,
            "flex": null,
            "flex_flow": null,
            "grid_area": null,
            "grid_auto_columns": null,
            "grid_auto_flow": null,
            "grid_auto_rows": null,
            "grid_column": null,
            "grid_gap": null,
            "grid_row": null,
            "grid_template_areas": null,
            "grid_template_columns": null,
            "grid_template_rows": null,
            "height": null,
            "justify_content": null,
            "justify_items": null,
            "left": null,
            "margin": null,
            "max_height": null,
            "max_width": null,
            "min_height": null,
            "min_width": null,
            "object_fit": null,
            "object_position": null,
            "order": null,
            "overflow": null,
            "overflow_x": null,
            "overflow_y": null,
            "padding": null,
            "right": null,
            "top": null,
            "visibility": null,
            "width": null
          }
        },
        "c6972496b8a2437d923f9eef2ff7622e": {
          "model_module": "@jupyter-widgets/controls",
          "model_module_version": "1.5.0",
          "model_name": "ProgressStyleModel",
          "state": {
            "_model_module": "@jupyter-widgets/controls",
            "_model_module_version": "1.5.0",
            "_model_name": "ProgressStyleModel",
            "_view_count": null,
            "_view_module": "@jupyter-widgets/base",
            "_view_module_version": "1.2.0",
            "_view_name": "StyleView",
            "bar_color": null,
            "description_width": ""
          }
        },
        "c7e955fe4dd94f55bd0495be72ad7bbd": {
          "model_module": "@jupyter-widgets/base",
          "model_module_version": "1.2.0",
          "model_name": "LayoutModel",
          "state": {
            "_model_module": "@jupyter-widgets/base",
            "_model_module_version": "1.2.0",
            "_model_name": "LayoutModel",
            "_view_count": null,
            "_view_module": "@jupyter-widgets/base",
            "_view_module_version": "1.2.0",
            "_view_name": "LayoutView",
            "align_content": null,
            "align_items": null,
            "align_self": null,
            "border": null,
            "bottom": null,
            "display": null,
            "flex": null,
            "flex_flow": null,
            "grid_area": null,
            "grid_auto_columns": null,
            "grid_auto_flow": null,
            "grid_auto_rows": null,
            "grid_column": null,
            "grid_gap": null,
            "grid_row": null,
            "grid_template_areas": null,
            "grid_template_columns": null,
            "grid_template_rows": null,
            "height": null,
            "justify_content": null,
            "justify_items": null,
            "left": null,
            "margin": null,
            "max_height": null,
            "max_width": null,
            "min_height": null,
            "min_width": null,
            "object_fit": null,
            "object_position": null,
            "order": null,
            "overflow": null,
            "overflow_x": null,
            "overflow_y": null,
            "padding": null,
            "right": null,
            "top": null,
            "visibility": null,
            "width": null
          }
        },
        "c8970f0b718d4beb99cdcc75c0fc75e5": {
          "model_module": "@jupyter-widgets/base",
          "model_module_version": "1.2.0",
          "model_name": "LayoutModel",
          "state": {
            "_model_module": "@jupyter-widgets/base",
            "_model_module_version": "1.2.0",
            "_model_name": "LayoutModel",
            "_view_count": null,
            "_view_module": "@jupyter-widgets/base",
            "_view_module_version": "1.2.0",
            "_view_name": "LayoutView",
            "align_content": null,
            "align_items": null,
            "align_self": null,
            "border": null,
            "bottom": null,
            "display": null,
            "flex": null,
            "flex_flow": null,
            "grid_area": null,
            "grid_auto_columns": null,
            "grid_auto_flow": null,
            "grid_auto_rows": null,
            "grid_column": null,
            "grid_gap": null,
            "grid_row": null,
            "grid_template_areas": null,
            "grid_template_columns": null,
            "grid_template_rows": null,
            "height": null,
            "justify_content": null,
            "justify_items": null,
            "left": null,
            "margin": null,
            "max_height": null,
            "max_width": null,
            "min_height": null,
            "min_width": null,
            "object_fit": null,
            "object_position": null,
            "order": null,
            "overflow": null,
            "overflow_x": null,
            "overflow_y": null,
            "padding": null,
            "right": null,
            "top": null,
            "visibility": null,
            "width": null
          }
        },
        "c9db5017db294f0fa986c3d34058ec95": {
          "model_module": "@jupyter-widgets/controls",
          "model_module_version": "1.5.0",
          "model_name": "DescriptionStyleModel",
          "state": {
            "_model_module": "@jupyter-widgets/controls",
            "_model_module_version": "1.5.0",
            "_model_name": "DescriptionStyleModel",
            "_view_count": null,
            "_view_module": "@jupyter-widgets/base",
            "_view_module_version": "1.2.0",
            "_view_name": "StyleView",
            "description_width": ""
          }
        },
        "d1209c0b51494bdbaf71076ddb65f2df": {
          "model_module": "@jupyter-widgets/base",
          "model_module_version": "1.2.0",
          "model_name": "LayoutModel",
          "state": {
            "_model_module": "@jupyter-widgets/base",
            "_model_module_version": "1.2.0",
            "_model_name": "LayoutModel",
            "_view_count": null,
            "_view_module": "@jupyter-widgets/base",
            "_view_module_version": "1.2.0",
            "_view_name": "LayoutView",
            "align_content": null,
            "align_items": null,
            "align_self": null,
            "border": null,
            "bottom": null,
            "display": null,
            "flex": null,
            "flex_flow": null,
            "grid_area": null,
            "grid_auto_columns": null,
            "grid_auto_flow": null,
            "grid_auto_rows": null,
            "grid_column": null,
            "grid_gap": null,
            "grid_row": null,
            "grid_template_areas": null,
            "grid_template_columns": null,
            "grid_template_rows": null,
            "height": null,
            "justify_content": null,
            "justify_items": null,
            "left": null,
            "margin": null,
            "max_height": null,
            "max_width": null,
            "min_height": null,
            "min_width": null,
            "object_fit": null,
            "object_position": null,
            "order": null,
            "overflow": null,
            "overflow_x": null,
            "overflow_y": null,
            "padding": null,
            "right": null,
            "top": null,
            "visibility": null,
            "width": null
          }
        },
        "d2b16059d3b84546bbcd19917145d796": {
          "model_module": "@jupyter-widgets/base",
          "model_module_version": "1.2.0",
          "model_name": "LayoutModel",
          "state": {
            "_model_module": "@jupyter-widgets/base",
            "_model_module_version": "1.2.0",
            "_model_name": "LayoutModel",
            "_view_count": null,
            "_view_module": "@jupyter-widgets/base",
            "_view_module_version": "1.2.0",
            "_view_name": "LayoutView",
            "align_content": null,
            "align_items": null,
            "align_self": null,
            "border": null,
            "bottom": null,
            "display": null,
            "flex": null,
            "flex_flow": null,
            "grid_area": null,
            "grid_auto_columns": null,
            "grid_auto_flow": null,
            "grid_auto_rows": null,
            "grid_column": null,
            "grid_gap": null,
            "grid_row": null,
            "grid_template_areas": null,
            "grid_template_columns": null,
            "grid_template_rows": null,
            "height": null,
            "justify_content": null,
            "justify_items": null,
            "left": null,
            "margin": null,
            "max_height": null,
            "max_width": null,
            "min_height": null,
            "min_width": null,
            "object_fit": null,
            "object_position": null,
            "order": null,
            "overflow": null,
            "overflow_x": null,
            "overflow_y": null,
            "padding": null,
            "right": null,
            "top": null,
            "visibility": null,
            "width": null
          }
        },
        "d42bd34a58c340518409daf26c6c7ba0": {
          "model_module": "@jupyter-widgets/controls",
          "model_module_version": "1.5.0",
          "model_name": "HTMLModel",
          "state": {
            "_dom_classes": [],
            "_model_module": "@jupyter-widgets/controls",
            "_model_module_version": "1.5.0",
            "_model_name": "HTMLModel",
            "_view_count": null,
            "_view_module": "@jupyter-widgets/controls",
            "_view_module_version": "1.5.0",
            "_view_name": "HTMLView",
            "description": "",
            "description_tooltip": null,
            "layout": "IPY_MODEL_127abed2cefd44218d40d2995f4d6790",
            "placeholder": "​",
            "style": "IPY_MODEL_12ba7b2d2b024b09a4031cc0d14e0a26",
            "value": " 49.0/49.0 [00:00&lt;00:00, 4.10kB/s]"
          }
        },
        "d89a2ec7832f4d7a95b6b3257b1e44e7": {
          "model_module": "@jupyter-widgets/controls",
          "model_module_version": "1.5.0",
          "model_name": "ProgressStyleModel",
          "state": {
            "_model_module": "@jupyter-widgets/controls",
            "_model_module_version": "1.5.0",
            "_model_name": "ProgressStyleModel",
            "_view_count": null,
            "_view_module": "@jupyter-widgets/base",
            "_view_module_version": "1.2.0",
            "_view_name": "StyleView",
            "bar_color": null,
            "description_width": ""
          }
        },
        "d923a0f84ebf4f9db4fd0b0d1580adbd": {
          "model_module": "@jupyter-widgets/controls",
          "model_module_version": "1.5.0",
          "model_name": "DescriptionStyleModel",
          "state": {
            "_model_module": "@jupyter-widgets/controls",
            "_model_module_version": "1.5.0",
            "_model_name": "DescriptionStyleModel",
            "_view_count": null,
            "_view_module": "@jupyter-widgets/base",
            "_view_module_version": "1.2.0",
            "_view_name": "StyleView",
            "description_width": ""
          }
        },
        "da784e2dfcf74fc1ba703aa8a0c888d8": {
          "model_module": "@jupyter-widgets/controls",
          "model_module_version": "1.5.0",
          "model_name": "HTMLModel",
          "state": {
            "_dom_classes": [],
            "_model_module": "@jupyter-widgets/controls",
            "_model_module_version": "1.5.0",
            "_model_name": "HTMLModel",
            "_view_count": null,
            "_view_module": "@jupyter-widgets/controls",
            "_view_module_version": "1.5.0",
            "_view_name": "HTMLView",
            "description": "",
            "description_tooltip": null,
            "layout": "IPY_MODEL_8aa452701e4d420d82474f318a65279f",
            "placeholder": "​",
            "style": "IPY_MODEL_3f0af97a6cc546579344704f61ca723e",
            "value": " 213k/213k [00:00&lt;00:00, 6.00MB/s]"
          }
        },
        "dd2a995174974f5384984b772052bb88": {
          "model_module": "@jupyter-widgets/base",
          "model_module_version": "1.2.0",
          "model_name": "LayoutModel",
          "state": {
            "_model_module": "@jupyter-widgets/base",
            "_model_module_version": "1.2.0",
            "_model_name": "LayoutModel",
            "_view_count": null,
            "_view_module": "@jupyter-widgets/base",
            "_view_module_version": "1.2.0",
            "_view_name": "LayoutView",
            "align_content": null,
            "align_items": null,
            "align_self": null,
            "border": null,
            "bottom": null,
            "display": null,
            "flex": null,
            "flex_flow": null,
            "grid_area": null,
            "grid_auto_columns": null,
            "grid_auto_flow": null,
            "grid_auto_rows": null,
            "grid_column": null,
            "grid_gap": null,
            "grid_row": null,
            "grid_template_areas": null,
            "grid_template_columns": null,
            "grid_template_rows": null,
            "height": null,
            "justify_content": null,
            "justify_items": null,
            "left": null,
            "margin": null,
            "max_height": null,
            "max_width": null,
            "min_height": null,
            "min_width": null,
            "object_fit": null,
            "object_position": null,
            "order": null,
            "overflow": null,
            "overflow_x": null,
            "overflow_y": null,
            "padding": null,
            "right": null,
            "top": null,
            "visibility": null,
            "width": null
          }
        },
        "e13f8f758405465782d62156983ca92d": {
          "model_module": "@jupyter-widgets/base",
          "model_module_version": "1.2.0",
          "model_name": "LayoutModel",
          "state": {
            "_model_module": "@jupyter-widgets/base",
            "_model_module_version": "1.2.0",
            "_model_name": "LayoutModel",
            "_view_count": null,
            "_view_module": "@jupyter-widgets/base",
            "_view_module_version": "1.2.0",
            "_view_name": "LayoutView",
            "align_content": null,
            "align_items": null,
            "align_self": null,
            "border": null,
            "bottom": null,
            "display": null,
            "flex": null,
            "flex_flow": null,
            "grid_area": null,
            "grid_auto_columns": null,
            "grid_auto_flow": null,
            "grid_auto_rows": null,
            "grid_column": null,
            "grid_gap": null,
            "grid_row": null,
            "grid_template_areas": null,
            "grid_template_columns": null,
            "grid_template_rows": null,
            "height": null,
            "justify_content": null,
            "justify_items": null,
            "left": null,
            "margin": null,
            "max_height": null,
            "max_width": null,
            "min_height": null,
            "min_width": null,
            "object_fit": null,
            "object_position": null,
            "order": null,
            "overflow": null,
            "overflow_x": null,
            "overflow_y": null,
            "padding": null,
            "right": null,
            "top": null,
            "visibility": null,
            "width": null
          }
        },
        "e1be718528564d4e9cf9e1c5c307c9a0": {
          "model_module": "@jupyter-widgets/controls",
          "model_module_version": "1.5.0",
          "model_name": "HBoxModel",
          "state": {
            "_dom_classes": [],
            "_model_module": "@jupyter-widgets/controls",
            "_model_module_version": "1.5.0",
            "_model_name": "HBoxModel",
            "_view_count": null,
            "_view_module": "@jupyter-widgets/controls",
            "_view_module_version": "1.5.0",
            "_view_name": "HBoxView",
            "box_style": "",
            "children": [
              "IPY_MODEL_f961d15c20ab4650b9974d1cea8ed89e",
              "IPY_MODEL_e949473279d44a34a72806a8483c6210",
              "IPY_MODEL_44d7c7b4653142298465291cfae28b13"
            ],
            "layout": "IPY_MODEL_78bf5a4da97548b0b3afd0e38ed0923b"
          }
        },
        "e2ad4594032c4e90ba286562d6cb93b2": {
          "model_module": "@jupyter-widgets/controls",
          "model_module_version": "1.5.0",
          "model_name": "DescriptionStyleModel",
          "state": {
            "_model_module": "@jupyter-widgets/controls",
            "_model_module_version": "1.5.0",
            "_model_name": "DescriptionStyleModel",
            "_view_count": null,
            "_view_module": "@jupyter-widgets/base",
            "_view_module_version": "1.2.0",
            "_view_name": "StyleView",
            "description_width": ""
          }
        },
        "e47a0878c71240e58d200f3aca648f9b": {
          "model_module": "@jupyter-widgets/base",
          "model_module_version": "1.2.0",
          "model_name": "LayoutModel",
          "state": {
            "_model_module": "@jupyter-widgets/base",
            "_model_module_version": "1.2.0",
            "_model_name": "LayoutModel",
            "_view_count": null,
            "_view_module": "@jupyter-widgets/base",
            "_view_module_version": "1.2.0",
            "_view_name": "LayoutView",
            "align_content": null,
            "align_items": null,
            "align_self": null,
            "border": null,
            "bottom": null,
            "display": null,
            "flex": null,
            "flex_flow": null,
            "grid_area": null,
            "grid_auto_columns": null,
            "grid_auto_flow": null,
            "grid_auto_rows": null,
            "grid_column": null,
            "grid_gap": null,
            "grid_row": null,
            "grid_template_areas": null,
            "grid_template_columns": null,
            "grid_template_rows": null,
            "height": null,
            "justify_content": null,
            "justify_items": null,
            "left": null,
            "margin": null,
            "max_height": null,
            "max_width": null,
            "min_height": null,
            "min_width": null,
            "object_fit": null,
            "object_position": null,
            "order": null,
            "overflow": null,
            "overflow_x": null,
            "overflow_y": null,
            "padding": null,
            "right": null,
            "top": null,
            "visibility": null,
            "width": null
          }
        },
        "e68a443cf531439889a81c643dd457b0": {
          "model_module": "@jupyter-widgets/controls",
          "model_module_version": "1.5.0",
          "model_name": "DescriptionStyleModel",
          "state": {
            "_model_module": "@jupyter-widgets/controls",
            "_model_module_version": "1.5.0",
            "_model_name": "DescriptionStyleModel",
            "_view_count": null,
            "_view_module": "@jupyter-widgets/base",
            "_view_module_version": "1.2.0",
            "_view_name": "StyleView",
            "description_width": ""
          }
        },
        "e80e3e32cc2a4bfc8f7fed4de657b535": {
          "model_module": "@jupyter-widgets/controls",
          "model_module_version": "1.5.0",
          "model_name": "HTMLModel",
          "state": {
            "_dom_classes": [],
            "_model_module": "@jupyter-widgets/controls",
            "_model_module_version": "1.5.0",
            "_model_name": "HTMLModel",
            "_view_count": null,
            "_view_module": "@jupyter-widgets/controls",
            "_view_module_version": "1.5.0",
            "_view_name": "HTMLView",
            "description": "",
            "description_tooltip": null,
            "layout": "IPY_MODEL_1bcb27d0da3f4cddb240eecad745904e",
            "placeholder": "​",
            "style": "IPY_MODEL_c9db5017db294f0fa986c3d34058ec95",
            "value": "model.safetensors: 100%"
          }
        },
        "e8dde8eb4eb84179879b6a63a09598d1": {
          "model_module": "@jupyter-widgets/controls",
          "model_module_version": "1.5.0",
          "model_name": "HBoxModel",
          "state": {
            "_dom_classes": [],
            "_model_module": "@jupyter-widgets/controls",
            "_model_module_version": "1.5.0",
            "_model_name": "HBoxModel",
            "_view_count": null,
            "_view_module": "@jupyter-widgets/controls",
            "_view_module_version": "1.5.0",
            "_view_name": "HBoxView",
            "box_style": "",
            "children": [
              "IPY_MODEL_3d97a2900d3242c9b0d075eb4c79669e",
              "IPY_MODEL_4029984376a44579afc7f2b5dc3af92e",
              "IPY_MODEL_5bd8cd4a13ad447599683eff98343b68"
            ],
            "layout": "IPY_MODEL_5a60d4e3566e4986b0cbcd0220698f6f"
          }
        },
        "e949473279d44a34a72806a8483c6210": {
          "model_module": "@jupyter-widgets/controls",
          "model_module_version": "1.5.0",
          "model_name": "FloatProgressModel",
          "state": {
            "_dom_classes": [],
            "_model_module": "@jupyter-widgets/controls",
            "_model_module_version": "1.5.0",
            "_model_name": "FloatProgressModel",
            "_view_count": null,
            "_view_module": "@jupyter-widgets/controls",
            "_view_module_version": "1.5.0",
            "_view_name": "ProgressView",
            "bar_style": "success",
            "description": "",
            "description_tooltip": null,
            "layout": "IPY_MODEL_1f8ca6f04ad44267bde2529a73a92257",
            "max": 435797,
            "min": 0,
            "orientation": "horizontal",
            "style": "IPY_MODEL_f9c50620b2f6434fac9486679e6f875b",
            "value": 435797
          }
        },
        "efe5a90928d74219902819ccd1d43536": {
          "model_module": "@jupyter-widgets/controls",
          "model_module_version": "1.5.0",
          "model_name": "FloatProgressModel",
          "state": {
            "_dom_classes": [],
            "_model_module": "@jupyter-widgets/controls",
            "_model_module_version": "1.5.0",
            "_model_name": "FloatProgressModel",
            "_view_count": null,
            "_view_module": "@jupyter-widgets/controls",
            "_view_module_version": "1.5.0",
            "_view_name": "ProgressView",
            "bar_style": "success",
            "description": "",
            "description_tooltip": null,
            "layout": "IPY_MODEL_3287388270484a25acd6dffb91e84878",
            "max": 49,
            "min": 0,
            "orientation": "horizontal",
            "style": "IPY_MODEL_6b6af387c98245149514778487f8dcbf",
            "value": 49
          }
        },
        "f208755c947540b096cade9922b522bb": {
          "model_module": "@jupyter-widgets/base",
          "model_module_version": "1.2.0",
          "model_name": "LayoutModel",
          "state": {
            "_model_module": "@jupyter-widgets/base",
            "_model_module_version": "1.2.0",
            "_model_name": "LayoutModel",
            "_view_count": null,
            "_view_module": "@jupyter-widgets/base",
            "_view_module_version": "1.2.0",
            "_view_name": "LayoutView",
            "align_content": null,
            "align_items": null,
            "align_self": null,
            "border": null,
            "bottom": null,
            "display": null,
            "flex": null,
            "flex_flow": null,
            "grid_area": null,
            "grid_auto_columns": null,
            "grid_auto_flow": null,
            "grid_auto_rows": null,
            "grid_column": null,
            "grid_gap": null,
            "grid_row": null,
            "grid_template_areas": null,
            "grid_template_columns": null,
            "grid_template_rows": null,
            "height": null,
            "justify_content": null,
            "justify_items": null,
            "left": null,
            "margin": null,
            "max_height": null,
            "max_width": null,
            "min_height": null,
            "min_width": null,
            "object_fit": null,
            "object_position": null,
            "order": null,
            "overflow": null,
            "overflow_x": null,
            "overflow_y": null,
            "padding": null,
            "right": null,
            "top": null,
            "visibility": null,
            "width": null
          }
        },
        "f34e2230c0684676b67d9d45cde20bbd": {
          "model_module": "@jupyter-widgets/controls",
          "model_module_version": "1.5.0",
          "model_name": "DescriptionStyleModel",
          "state": {
            "_model_module": "@jupyter-widgets/controls",
            "_model_module_version": "1.5.0",
            "_model_name": "DescriptionStyleModel",
            "_view_count": null,
            "_view_module": "@jupyter-widgets/base",
            "_view_module_version": "1.2.0",
            "_view_name": "StyleView",
            "description_width": ""
          }
        },
        "f4d368433b6e4055a7e4c5da9f7c23b7": {
          "model_module": "@jupyter-widgets/controls",
          "model_module_version": "1.5.0",
          "model_name": "HTMLModel",
          "state": {
            "_dom_classes": [],
            "_model_module": "@jupyter-widgets/controls",
            "_model_module_version": "1.5.0",
            "_model_name": "HTMLModel",
            "_view_count": null,
            "_view_module": "@jupyter-widgets/controls",
            "_view_module_version": "1.5.0",
            "_view_name": "HTMLView",
            "description": "",
            "description_tooltip": null,
            "layout": "IPY_MODEL_aeb1c45eddde4563b7aab368c70db2e2",
            "placeholder": "​",
            "style": "IPY_MODEL_a3587eb27568412b9014c656d94dedeb",
            "value": "tokenizer_config.json: 100%"
          }
        },
        "f57fd166e5cb4c63bb42ff2cf7fd96e7": {
          "model_module": "@jupyter-widgets/base",
          "model_module_version": "1.2.0",
          "model_name": "LayoutModel",
          "state": {
            "_model_module": "@jupyter-widgets/base",
            "_model_module_version": "1.2.0",
            "_model_name": "LayoutModel",
            "_view_count": null,
            "_view_module": "@jupyter-widgets/base",
            "_view_module_version": "1.2.0",
            "_view_name": "LayoutView",
            "align_content": null,
            "align_items": null,
            "align_self": null,
            "border": null,
            "bottom": null,
            "display": null,
            "flex": null,
            "flex_flow": null,
            "grid_area": null,
            "grid_auto_columns": null,
            "grid_auto_flow": null,
            "grid_auto_rows": null,
            "grid_column": null,
            "grid_gap": null,
            "grid_row": null,
            "grid_template_areas": null,
            "grid_template_columns": null,
            "grid_template_rows": null,
            "height": null,
            "justify_content": null,
            "justify_items": null,
            "left": null,
            "margin": null,
            "max_height": null,
            "max_width": null,
            "min_height": null,
            "min_width": null,
            "object_fit": null,
            "object_position": null,
            "order": null,
            "overflow": null,
            "overflow_x": null,
            "overflow_y": null,
            "padding": null,
            "right": null,
            "top": null,
            "visibility": null,
            "width": null
          }
        },
        "f961d15c20ab4650b9974d1cea8ed89e": {
          "model_module": "@jupyter-widgets/controls",
          "model_module_version": "1.5.0",
          "model_name": "HTMLModel",
          "state": {
            "_dom_classes": [],
            "_model_module": "@jupyter-widgets/controls",
            "_model_module_version": "1.5.0",
            "_model_name": "HTMLModel",
            "_view_count": null,
            "_view_module": "@jupyter-widgets/controls",
            "_view_module_version": "1.5.0",
            "_view_name": "HTMLView",
            "description": "",
            "description_tooltip": null,
            "layout": "IPY_MODEL_172291dfcce647dcbbde4a3456647f6d",
            "placeholder": "​",
            "style": "IPY_MODEL_a93da26d984f4533b2ee70198e6a4ea6",
            "value": "tokenizer.json: 100%"
          }
        },
        "f99ca2ae343a48749d28bfc6d0ec48e9": {
          "model_module": "@jupyter-widgets/base",
          "model_module_version": "1.2.0",
          "model_name": "LayoutModel",
          "state": {
            "_model_module": "@jupyter-widgets/base",
            "_model_module_version": "1.2.0",
            "_model_name": "LayoutModel",
            "_view_count": null,
            "_view_module": "@jupyter-widgets/base",
            "_view_module_version": "1.2.0",
            "_view_name": "LayoutView",
            "align_content": null,
            "align_items": null,
            "align_self": null,
            "border": null,
            "bottom": null,
            "display": null,
            "flex": null,
            "flex_flow": null,
            "grid_area": null,
            "grid_auto_columns": null,
            "grid_auto_flow": null,
            "grid_auto_rows": null,
            "grid_column": null,
            "grid_gap": null,
            "grid_row": null,
            "grid_template_areas": null,
            "grid_template_columns": null,
            "grid_template_rows": null,
            "height": null,
            "justify_content": null,
            "justify_items": null,
            "left": null,
            "margin": null,
            "max_height": null,
            "max_width": null,
            "min_height": null,
            "min_width": null,
            "object_fit": null,
            "object_position": null,
            "order": null,
            "overflow": null,
            "overflow_x": null,
            "overflow_y": null,
            "padding": null,
            "right": null,
            "top": null,
            "visibility": null,
            "width": null
          }
        },
        "f9c50620b2f6434fac9486679e6f875b": {
          "model_module": "@jupyter-widgets/controls",
          "model_module_version": "1.5.0",
          "model_name": "ProgressStyleModel",
          "state": {
            "_model_module": "@jupyter-widgets/controls",
            "_model_module_version": "1.5.0",
            "_model_name": "ProgressStyleModel",
            "_view_count": null,
            "_view_module": "@jupyter-widgets/base",
            "_view_module_version": "1.2.0",
            "_view_name": "StyleView",
            "bar_color": null,
            "description_width": ""
          }
        },
        "fabd0ff4d60043f884487050422bac9b": {
          "model_module": "@jupyter-widgets/controls",
          "model_module_version": "1.5.0",
          "model_name": "ProgressStyleModel",
          "state": {
            "_model_module": "@jupyter-widgets/controls",
            "_model_module_version": "1.5.0",
            "_model_name": "ProgressStyleModel",
            "_view_count": null,
            "_view_module": "@jupyter-widgets/base",
            "_view_module_version": "1.2.0",
            "_view_name": "StyleView",
            "bar_color": null,
            "description_width": ""
          }
        },
        "fb8c22ee395147adaad1be7be356c002": {
          "model_module": "@jupyter-widgets/controls",
          "model_module_version": "1.5.0",
          "model_name": "HBoxModel",
          "state": {
            "_dom_classes": [],
            "_model_module": "@jupyter-widgets/controls",
            "_model_module_version": "1.5.0",
            "_model_name": "HBoxModel",
            "_view_count": null,
            "_view_module": "@jupyter-widgets/controls",
            "_view_module_version": "1.5.0",
            "_view_name": "HBoxView",
            "box_style": "",
            "children": [
              "IPY_MODEL_272fd6c524614d1e8e61f646f6e4ee4e",
              "IPY_MODEL_7abd0a3879be4f8dbe989ebd2159bb31",
              "IPY_MODEL_da784e2dfcf74fc1ba703aa8a0c888d8"
            ],
            "layout": "IPY_MODEL_d2b16059d3b84546bbcd19917145d796"
          }
        },
        "fc16a15a4dea4f70b0f563012eba7615": {
          "model_module": "@jupyter-widgets/controls",
          "model_module_version": "1.5.0",
          "model_name": "DescriptionStyleModel",
          "state": {
            "_model_module": "@jupyter-widgets/controls",
            "_model_module_version": "1.5.0",
            "_model_name": "DescriptionStyleModel",
            "_view_count": null,
            "_view_module": "@jupyter-widgets/base",
            "_view_module_version": "1.2.0",
            "_view_name": "StyleView",
            "description_width": ""
          }
        },
        "fe4030e3e88146c6987befe09818b1dd": {
          "model_module": "@jupyter-widgets/controls",
          "model_module_version": "1.5.0",
          "model_name": "FloatProgressModel",
          "state": {
            "_dom_classes": [],
            "_model_module": "@jupyter-widgets/controls",
            "_model_module_version": "1.5.0",
            "_model_name": "FloatProgressModel",
            "_view_count": null,
            "_view_module": "@jupyter-widgets/controls",
            "_view_module_version": "1.5.0",
            "_view_name": "ProgressView",
            "bar_style": "success",
            "description": "",
            "description_tooltip": null,
            "layout": "IPY_MODEL_74fc8a805e1d41a7bb6c2cb92fa18d08",
            "max": 260782156,
            "min": 0,
            "orientation": "horizontal",
            "style": "IPY_MODEL_b96785f897ff4f1bae17a44def1b4f03",
            "value": 260782156
          }
        }
      }
    }
  },
  "nbformat": 4,
  "nbformat_minor": 0
}
